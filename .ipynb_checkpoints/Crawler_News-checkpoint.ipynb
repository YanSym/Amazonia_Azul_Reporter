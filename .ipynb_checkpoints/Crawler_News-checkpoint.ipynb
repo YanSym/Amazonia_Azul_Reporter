{
 "cells": [
  {
   "cell_type": "markdown",
   "metadata": {},
   "source": [
    "### Imports"
   ]
  },
  {
   "cell_type": "code",
   "execution_count": 1,
   "metadata": {},
   "outputs": [
    {
     "name": "stdout",
     "output_type": "stream",
     "text": [
      "df vazio\n",
      "Não consegui publicar. Algo errado no tweet.\n"
     ]
    }
   ],
   "source": [
    "# Imports\n",
    "from metodos_auxiliares_news import HelperClassNews\n",
    "\n",
    "# classe auxiliar\n",
    "helper_class = HelperClassNews()\n",
    "\n",
    "# pesquisa notícias\n",
    "df_news = helper_class.pesquisa_news()\n",
    "      \n",
    "# seleciona e posta tweet mais relevante\n",
    "helper_class.posta_tweet_noticia(df_news)"
   ]
  },
  {
   "cell_type": "code",
   "execution_count": null,
   "metadata": {},
   "outputs": [],
   "source": []
  }
 ],
 "metadata": {
  "kernelspec": {
   "display_name": "Python 3",
   "language": "python",
   "name": "python3"
  },
  "language_info": {
   "codemirror_mode": {
    "name": "ipython",
    "version": 3
   },
   "file_extension": ".py",
   "mimetype": "text/x-python",
   "name": "python",
   "nbconvert_exporter": "python",
   "pygments_lexer": "ipython3",
   "version": "3.8.3"
  }
 },
 "nbformat": 4,
 "nbformat_minor": 4
}
