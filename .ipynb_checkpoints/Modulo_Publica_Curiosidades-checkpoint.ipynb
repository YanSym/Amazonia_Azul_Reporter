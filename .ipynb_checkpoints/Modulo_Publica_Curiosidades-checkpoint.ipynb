{
 "cells": [
  {
   "cell_type": "code",
   "execution_count": 1,
   "metadata": {},
   "outputs": [
    {
     "name": "stdout",
     "output_type": "stream",
     "text": [
      "Você sabia?\n",
      "Além da Amazônia Verde, o Brasil também possui a Amazônia Azul!\n",
      "Com 7,4 mil quilômetros de costa, o Brasil tem, sob sua jurisdição, 3,5 milhões de Km² de espaço marítimo.\n",
      "\n",
      "29 de novembro de 2021\n",
      "#AmazôniaAzul\n",
      "#redebotsdobem\n",
      "ja foi\n"
     ]
    }
   ],
   "source": [
    "from metodos_auxiliares_curiosidades import CuriosidadesClass\n",
    "\n",
    "# instancia o objeto\n",
    "objeto_curiosidades = CuriosidadesClass()\n",
    "\n",
    "# publica curiosidade\n",
    "objeto_curiosidades.publica_curiosidade()"
   ]
  },
  {
   "cell_type": "code",
   "execution_count": null,
   "metadata": {},
   "outputs": [],
   "source": []
  },
  {
   "cell_type": "code",
   "execution_count": null,
   "metadata": {},
   "outputs": [],
   "source": []
  }
 ],
 "metadata": {
  "kernelspec": {
   "display_name": "Python 3",
   "language": "python",
   "name": "python3"
  },
  "language_info": {
   "codemirror_mode": {
    "name": "ipython",
    "version": 3
   },
   "file_extension": ".py",
   "mimetype": "text/x-python",
   "name": "python",
   "nbconvert_exporter": "python",
   "pygments_lexer": "ipython3",
   "version": "3.8.3"
  }
 },
 "nbformat": 4,
 "nbformat_minor": 4
}
