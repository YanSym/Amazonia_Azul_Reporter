{
 "cells": [
  {
   "cell_type": "markdown",
   "metadata": {},
   "source": [
    "### Notebook para publicação de imagens de satélite"
   ]
  },
  {
   "cell_type": "code",
   "execution_count": 1,
   "metadata": {},
   "outputs": [
    {
     "name": "stdout",
     "output_type": "stream",
     "text": [
      "Sem Imagem. Message: no such element: Unable to locate element: {\"method\":\"xpath\",\"selector\":\"//*[@id=\"baseLayerSelect\"]\"}\n",
      "  (Session info: headless chrome=97.0.4692.71)\n",
      "Stacktrace:\n",
      "Backtrace:\n",
      "\tOrdinal0 [0x00A8FDC3+2555331]\n",
      "\tOrdinal0 [0x00A277F1+2127857]\n",
      "\tOrdinal0 [0x00922E08+1060360]\n",
      "\tOrdinal0 [0x0094E49E+1238174]\n",
      "\tOrdinal0 [0x0094E69B+1238683]\n",
      "\tOrdinal0 [0x00979252+1413714]\n",
      "\tOrdinal0 [0x00967B54+1342292]\n",
      "\tOrdinal0 [0x009775FA+1406458]\n",
      "\tOrdinal0 [0x00967976+1341814]\n",
      "\tOrdinal0 [0x009436B6+1193654]\n",
      "\tOrdinal0 [0x00944546+1197382]\n",
      "\tGetHandleVerifier [0x00C29622+1619522]\n",
      "\tGetHandleVerifier [0x00CD882C+2336844]\n",
      "\tGetHandleVerifier [0x00B223E1+541697]\n",
      "\tGetHandleVerifier [0x00B21443+537699]\n",
      "\tOrdinal0 [0x00A2D18E+2150798]\n",
      "\tOrdinal0 [0x00A31518+2168088]\n",
      "\tOrdinal0 [0x00A31660+2168416]\n",
      "\tOrdinal0 [0x00A3B330+2208560]\n",
      "\tBaseThreadInitThunk [0x7647FA29+25]\n",
      "\tRtlGetAppContainerNamedObjectPath [0x77897A9E+286]\n",
      "\tRtlGetAppContainerNamedObjectPath [0x77897A6E+238]\n",
      "\n",
      "Intent: REPORT_NAVIOS\n",
      "🤖 Hoje, dia 7 de janeiro de 2022, foi estimada uma quantidade de 19 embarcações no porto de Suape (PE). Além disso, é esperado que 16 embarcações entrem no porto ao longo dos próximos dias.  🚢\n",
      "\n",
      "Fonte: MarineTraffic\n",
      "\n",
      "\n",
      "#AmazôniaAzul 🌅\n",
      "#redebotsdobem 🛰\n",
      "Tweet publicado\n",
      "Intent: REPORT_NAVIOS\n",
      "🤖 Hoje, dia 7 de janeiro de 2022, existem 46 embarcações no porto de Paranaguá (PR) nesse momento e 48 embarcações agendadas para entrar dentro dos próximos dias.  𒛴\n",
      "\n",
      "Fonte: MarineTraffic\n",
      "\n",
      "\n",
      "#AmazôniaAzul 🌅\n",
      "#redebotsdobem 🛰\n",
      "Tweet publicado\n",
      "Intent: REPORT_NAVIOS\n",
      "🤖 Hoje, dia 7 de janeiro de 2022, foi estimada uma quantidade de 121 embarcações no porto do Rio de Janeiro (RJ). Além disso, é esperado que 47 embarcações entrem no porto ao longo dos próximos dias.  🚢\n",
      "\n",
      "Fonte: MarineTraffic\n",
      "\n",
      "\n",
      "#AmazôniaAzul 🌅\n",
      "#redebotsdobem 🛰\n",
      "Tweet publicado\n",
      "Intent: REPORT_NAVIOS\n",
      "🤖 Hoje, dia 7 de janeiro de 2022, foi estimada uma quantidade de 35 embarcações no porto de Rio Grande (RS). Além disso, é esperado que 21 embarcações entrem no porto ao longo dos próximos dias.  🛳\n",
      "\n",
      "Fonte: MarineTraffic\n",
      "\n",
      "\n",
      "#AmazôniaAzul 🌅\n",
      "#redebotsdobem 🛰\n",
      "Tweet publicado\n",
      "Intent: REPORT_NAVIOS\n",
      "🤖 Hoje, dia 7 de janeiro de 2022, foram detectadas 22 embarcações no porto de Itajaí (SC) e 5 e estão agendadas para entrar no porto ao longo dos próximos dias.  🚢\n",
      "\n",
      "Fonte: MarineTraffic\n",
      "\n",
      "\n",
      "#AmazôniaAzul 🌅\n",
      "#redebotsdobem 🛰\n",
      "Tweet publicado\n"
     ]
    }
   ],
   "source": [
    "%load_ext autoreload\n",
    "%autoreload 2\n",
    "\n",
    "from metodos_auxiliares_imagens import ImagensClass\n",
    "\n",
    "# instancia o objeto\n",
    "objeto_publicacao = ImagensClass()\n",
    "\n",
    "# publicação\n",
    "objeto_publicacao.publica_conteudo()"
   ]
  },
  {
   "cell_type": "code",
   "execution_count": null,
   "metadata": {},
   "outputs": [],
   "source": []
  },
  {
   "cell_type": "code",
   "execution_count": null,
   "metadata": {},
   "outputs": [],
   "source": []
  }
 ],
 "metadata": {
  "kernelspec": {
   "display_name": "Python 3",
   "language": "python",
   "name": "python3"
  },
  "language_info": {
   "codemirror_mode": {
    "name": "ipython",
    "version": 3
   },
   "file_extension": ".py",
   "mimetype": "text/x-python",
   "name": "python",
   "nbconvert_exporter": "python",
   "pygments_lexer": "ipython3",
   "version": "3.8.3"
  }
 },
 "nbformat": 4,
 "nbformat_minor": 4
}
