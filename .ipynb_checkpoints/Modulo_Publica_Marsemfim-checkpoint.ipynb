{
 "cells": [
  {
   "cell_type": "markdown",
   "metadata": {},
   "source": [
    "### Notebook para publicação de conteúdo do site Mar Sem Fim"
   ]
  },
  {
   "cell_type": "code",
   "execution_count": 4,
   "metadata": {},
   "outputs": [
    {
     "name": "stdout",
     "output_type": "stream",
     "text": [
      "The autoreload extension is already loaded. To reload it, use:\n",
      "  %reload_ext autoreload\n"
     ]
    },
    {
     "name": "stderr",
     "output_type": "stream",
     "text": [
      "C:\\Users\\yanvs\\OneDrive\\Área de Trabalho\\Amazonia_Azul_Reporter\\metodos_auxiliares_marsemfim.py:77: GuessedAtParserWarning: No parser was explicitly specified, so I'm using the best available HTML parser for this system (\"lxml\"). This usually isn't a problem, but if you run this code on another system, or in a different virtual environment, it may use a different parser and behave differently.\n",
      "\n",
      "The code that caused this warning is on line 77 of the file C:\\Users\\yanvs\\OneDrive\\Área de Trabalho\\Amazonia_Azul_Reporter\\metodos_auxiliares_marsemfim.py. To get rid of this warning, pass the additional argument 'features=\"lxml\"' to the BeautifulSoup constructor.\n",
      "\n",
      "  return texto\n"
     ]
    },
    {
     "name": "stdout",
     "output_type": "stream",
     "text": [
      "🤖 Orcas não atacam barcos e não gostam de barulhos\n",
      "\n",
      "Fonte: https://marsemfim.com.br/orcas-nao-atacam-barcos-e-nao-gostam-de-barulhos/\n",
      "\n",
      "\n",
      "#AmazôniaAzul 🌅\n",
      "#redebotsdobem 🛰\n",
      "\n",
      "Resumo da publicação abaixo! 👇\n",
      "🤖 Orcas não atacam barcos, mas se incomodam com a poluição sonora por nós introduzida nos oceanos. Notícias da Europa e do Brasil na mesma semana de setembro de 2020 davam conta de pretensos ataques de orcas a barcos. Cumé qui é? Orcas jamais atacaram barcos, 💬\n",
      "🤖 que novidade seria esta? Foi o que pensamos ao ler as notícias. E olhe que as fontes eram confiáveis, The Guardian, na Europa, e Globo no Brasil. Orcas não atacam barcos, mas se incomodam com barulhos.\n",
      "Tweet publicado!\n",
      "🤖 Sul da Bahia, um presságio do novo normal\n",
      "\n",
      "Fonte: https://marsemfim.com.br/sul-da-bahia-um-pressagio-do-novo-normal/\n",
      "\n",
      "\n",
      "#AmazôniaAzul 🌅\n",
      "#redebotsdobem 🛰\n",
      "\n",
      "Resumo da publicação abaixo! 👇\n",
      "🤖 Sul da Bahia, um presságio do novo normal. São pouquíssimos os agentes públicos brasileiros que levam a sério o aquecimento global. Não bastou a crise hídrica cuja consequência mais grave, o racionamento, ficou para trás por um triz mas, mesmo assim nos custou R$ 16, 💬\n",
      "🤖 8 bilhões até outubro, segundo dados do Ministério das Minas e Energia. Antes do ano se despedir, e na sequência da crise hídrica, outro evento extremo se abate desde novembro, desta vez sobre o sul da Bahia. Mais de meio milhão de vidas foram afetadas, 💬\n",
      "🤖 24 pessoas morreram até o momento deste relato; quer maior prova que os eventos extremos são parte do ‘novo normal’? Como sói acontecer, os mais afetados são os mais pobres, aqueles que ocupam com a leniência das autoridades locais irregulares como encostas de morros, 💬\n",
      "🤖 margens de rios, Sul da Bahia, um presságio do novo normal.\n",
      "Tweet publicado!\n",
      "🤖 Embarcações típicas e o turismo, algumas boas ideias\n",
      "\n",
      "Fonte: https://marsemfim.com.br/embarcacoes-tipicas-e-o-turismo-algumas-boas-ideias/\n",
      "\n",
      "\n",
      "#AmazôniaAzul 🌅\n",
      "#redebotsdobem 🛰\n",
      "\n",
      "Resumo da publicação abaixo! 👇\n",
      "🤖 Embarcações típicas e o turismo, algumas boas ideias. Uma das maiores riquezas culturais do litoral do Brasil são as embarcações típicas. Nesta altura do século 21 em que estamos, a maioria dos países do mundo já perdeu o seu acervo, fruto da tecnologia, 💬\n",
      "🤖 dos preços mais em conta dos motores, ou até mesmo da infraestrutura ao longo de suas zonas costeiras. No Brasil, por uma série de razões, isto não aconteceu. Apesar dos avanços da infraestrutura na costa, as embarcações típicas persistem em navegar. 💬\n",
      "🤖 Elas são maravilhosas, pintadas em cores vibrantes, muitas ainda dependem da vela como propulsor principal. abandonam as velas, mas são movidas a remo. São bens culturais dos brasileiros, tombados pelo IPHAN, mas desconhecidos  da maioria da população. 💬\n",
      "🤖 Hoje o assunto são as embarcações típicas e o turismo, algumas boas ideias.\n",
      "Tweet publicado!\n"
     ]
    }
   ],
   "source": [
    "%load_ext autoreload\n",
    "%autoreload 2\n",
    "\n",
    "from metodos_auxiliares_marsemfim import HelperClassMarsemfim\n",
    "\n",
    "# instancia o objeto\n",
    "objeto_publicacao = HelperClassMarsemfim()\n",
    "\n",
    "# publicação\n",
    "objeto_publicacao.publica_conteudo()"
   ]
  },
  {
   "cell_type": "code",
   "execution_count": null,
   "metadata": {},
   "outputs": [],
   "source": []
  },
  {
   "cell_type": "code",
   "execution_count": null,
   "metadata": {},
   "outputs": [],
   "source": []
  },
  {
   "cell_type": "code",
   "execution_count": null,
   "metadata": {},
   "outputs": [],
   "source": []
  }
 ],
 "metadata": {
  "kernelspec": {
   "display_name": "Python 3",
   "language": "python",
   "name": "python3"
  },
  "language_info": {
   "codemirror_mode": {
    "name": "ipython",
    "version": 3
   },
   "file_extension": ".py",
   "mimetype": "text/x-python",
   "name": "python",
   "nbconvert_exporter": "python",
   "pygments_lexer": "ipython3",
   "version": "3.8.3"
  }
 },
 "nbformat": 4,
 "nbformat_minor": 4
}
