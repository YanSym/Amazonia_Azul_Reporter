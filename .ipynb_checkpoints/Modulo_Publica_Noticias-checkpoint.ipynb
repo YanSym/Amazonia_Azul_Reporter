{
 "cells": [
  {
   "cell_type": "markdown",
   "metadata": {},
   "source": [
    "### Notebook para publicação de conteúdo do Google News"
   ]
  },
  {
   "cell_type": "code",
   "execution_count": 2,
   "metadata": {},
   "outputs": [
    {
     "name": "stdout",
     "output_type": "stream",
     "text": [
      "🤖 Concurso Amazul: Selecon será a banca do novo edital\n",
      "\n",
      "Fonte: https://folhadirigida.com.br/concursos/noticias/amazonia-azul-tecnologias-de-defesa-amazul/concurso-amazul-2022-banca\n",
      "\n",
      "\n",
      "#AmazôniaAzul 🌅\n",
      "#redebotsdobem 🛰\n",
      "Tweet publicado!\n",
      "🤖 Centenas de voos são cancelados em meio a avanço de covid-19 e gripe\n",
      "\n",
      "Fonte: https://www.diariodaamazonia.com.br/centenas-de-voos-sao-cancelados-em-meio-a-avanco-de-covid-19-e-gripe/\n",
      "\n",
      "\n",
      "#AmazôniaAzul 🌅\n",
      "#redebotsdobem 🛰\n",
      "Tweet publicado!\n",
      "🤖 'Nascemos de novo', diz sobrevivente que teve pernas fraturadas em Capitólio\n",
      "\n",
      "Fonte: https://www.diariodaamazonia.com.br/nascemos-de-novo-diz-sobrevivente-que-teve-pernas-fraturadas-em-capitolio/\n",
      "\n",
      "\n",
      "#AmazôniaAzul 🌅\n",
      "#redebotsdobem 🛰\n",
      "Tweet publicado!\n"
     ]
    }
   ],
   "source": [
    "from metodos_auxiliares_news import HelperClassNews\n",
    "\n",
    "# instancia o objeto\n",
    "objeto_publicacao = HelperClassNews()\n",
    "      \n",
    "# publicação\n",
    "objeto_publicacao.publica_conteudo()"
   ]
  },
  {
   "cell_type": "code",
   "execution_count": null,
   "metadata": {},
   "outputs": [],
   "source": []
  }
 ],
 "metadata": {
  "kernelspec": {
   "display_name": "Python 3",
   "language": "python",
   "name": "python3"
  },
  "language_info": {
   "codemirror_mode": {
    "name": "ipython",
    "version": 3
   },
   "file_extension": ".py",
   "mimetype": "text/x-python",
   "name": "python",
   "nbconvert_exporter": "python",
   "pygments_lexer": "ipython3",
   "version": "3.8.3"
  }
 },
 "nbformat": 4,
 "nbformat_minor": 4
}
