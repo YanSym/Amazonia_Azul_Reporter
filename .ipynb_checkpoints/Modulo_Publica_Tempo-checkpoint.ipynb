{
 "cells": [
  {
   "cell_type": "markdown",
   "metadata": {},
   "source": [
    "### Notebook para publicação de conteúdo do site Tabua de Marés"
   ]
  },
  {
   "cell_type": "code",
   "execution_count": 1,
   "metadata": {},
   "outputs": [
    {
     "name": "stdout",
     "output_type": "stream",
     "text": [
      "Tweet publicado\n",
      "Tweet publicado\n",
      "Tweet publicado\n",
      "Tweet publicado\n",
      "Tweet publicado\n"
     ]
    }
   ],
   "source": [
    "from metodos_auxiliares_tabua import HelperClassTabua\n",
    "\n",
    "# classe auxiliar\n",
    "objeto_publicacao = HelperClassTabua()\n",
    "\n",
    "# gera resultados\n",
    "objeto_publicacao.publica_conteudo()"
   ]
  },
  {
   "cell_type": "code",
   "execution_count": null,
   "metadata": {},
   "outputs": [],
   "source": []
  }
 ],
 "metadata": {
  "kernelspec": {
   "display_name": "Python 3",
   "language": "python",
   "name": "python3"
  },
  "language_info": {
   "codemirror_mode": {
    "name": "ipython",
    "version": 3
   },
   "file_extension": ".py",
   "mimetype": "text/x-python",
   "name": "python",
   "nbconvert_exporter": "python",
   "pygments_lexer": "ipython3",
   "version": "3.8.3"
  }
 },
 "nbformat": 4,
 "nbformat_minor": 4
}
