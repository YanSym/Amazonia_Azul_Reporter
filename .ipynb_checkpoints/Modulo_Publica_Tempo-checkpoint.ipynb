{
 "cells": [
  {
   "cell_type": "markdown",
   "metadata": {},
   "source": [
    "### Notebook para publicação de conteúdo do site Tabua de Marés"
   ]
  },
  {
   "cell_type": "code",
   "execution_count": 1,
   "metadata": {},
   "outputs": [
    {
     "name": "stdout",
     "output_type": "stream",
     "text": [
      "Tweet publicado\n",
      "Tweet publicado\n",
      "Tweet publicado\n",
      "Tweet publicado\n",
      "Tweet publicado\n",
      "Distancia pequena de 0.0037735849056603774. Tweet vetado, muito similar.\n",
      "tweet não pode ser publicado\n",
      "Tweet publicado\n",
      "Tweet publicado\n",
      "Tweet publicado\n",
      "Tweet publicado\n"
     ]
    }
   ],
   "source": [
    "from metodos_auxiliares_tempo import HelperClassTempo\n",
    "\n",
    "# instancia o objeto\n",
    "objeto_publicacao = HelperClassTempo()\n",
    "\n",
    "# publicação\n",
    "objeto_publicacao.publica_conteudo()"
   ]
  },
  {
   "cell_type": "code",
   "execution_count": null,
   "metadata": {},
   "outputs": [],
   "source": []
  },
  {
   "cell_type": "code",
   "execution_count": null,
   "metadata": {},
   "outputs": [],
   "source": []
  },
  {
   "cell_type": "code",
   "execution_count": null,
   "metadata": {},
   "outputs": [],
   "source": [
    "from metodos_auxiliares_tempo import HelperClassTempo\n",
    "\n",
    "# instancia o objeto\n",
    "objeto_publicacao = HelperClassTempo()\n",
    "\n",
    "# retorno\n",
    "df = objeto_publicacao.gera_df_tabua_mares()"
   ]
  },
  {
   "cell_type": "code",
   "execution_count": null,
   "metadata": {},
   "outputs": [],
   "source": [
    "df"
   ]
  },
  {
   "cell_type": "code",
   "execution_count": null,
   "metadata": {},
   "outputs": [],
   "source": [
    "\n"
   ]
  }
 ],
 "metadata": {
  "kernelspec": {
   "display_name": "Python 3",
   "language": "python",
   "name": "python3"
  },
  "language_info": {
   "codemirror_mode": {
    "name": "ipython",
    "version": 3
   },
   "file_extension": ".py",
   "mimetype": "text/x-python",
   "name": "python",
   "nbconvert_exporter": "python",
   "pygments_lexer": "ipython3",
   "version": "3.8.3"
  }
 },
 "nbformat": 4,
 "nbformat_minor": 4
}
