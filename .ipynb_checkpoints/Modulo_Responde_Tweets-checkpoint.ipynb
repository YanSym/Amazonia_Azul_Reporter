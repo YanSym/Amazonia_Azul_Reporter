{
 "cells": [
  {
   "cell_type": "markdown",
   "metadata": {},
   "source": [
    "### Notebook para publicação de curiosidades"
   ]
  },
  {
   "cell_type": "code",
   "execution_count": 1,
   "metadata": {},
   "outputs": [
    {
     "data": {
      "text/plain": [
       "'\\nfrom metodos_resposta_automatica import RespostaClass\\n\\n# instancia o objeto\\nobjeto_publicacao = RespostaClass()\\n\\n# publicação\\nobjeto_publicacao.responde_conteudo()\\n'"
      ]
     },
     "execution_count": 1,
     "metadata": {},
     "output_type": "execute_result"
    }
   ],
   "source": [
    "'''\n",
    "from metodos_resposta_automatica import RespostaClass\n",
    "\n",
    "# instancia o objeto\n",
    "objeto_publicacao = RespostaClass()\n",
    "\n",
    "# publicação\n",
    "objeto_publicacao.responde_conteudo()\n",
    "'''"
   ]
  },
  {
   "cell_type": "code",
   "execution_count": null,
   "metadata": {},
   "outputs": [],
   "source": []
  },
  {
   "cell_type": "code",
   "execution_count": null,
   "metadata": {},
   "outputs": [],
   "source": []
  },
  {
   "cell_type": "code",
   "execution_count": 14,
   "metadata": {
    "scrolled": true
   },
   "outputs": [
    {
     "name": "stdout",
     "output_type": "stream",
     "text": [
      "ok\n"
     ]
    }
   ],
   "source": [
    "import tweepy\n",
    "import json\n",
    "import time\n",
    "\n",
    "path_infos_json = \"credenciais_twitter.json\"\n",
    "# leitura do arquivo json com as credenciais\n",
    "f = open(path_infos_json, \"r\")\n",
    "infos_login = json.load(f)\n",
    "CONSUMER_KEY = infos_login['CONSUMER_KEY']\n",
    "CONSUMER_SECRET = infos_login['CONSUMER_SECRET']\n",
    "ACCESS_TOKEN = infos_login['ACCESS_TOKEN']\n",
    "ACCESS_TOKEN_SECRET = infos_login['ACCESS_TOKEN_SECRET']\n",
    "f.close()\n",
    "\n",
    "# login API\n",
    "auth = tweepy.OAuthHandler(CONSUMER_KEY, CONSUMER_SECRET)\n",
    "auth.set_access_token(ACCESS_TOKEN, ACCESS_TOKEN_SECRET)\n",
    "\n",
    "# Twitter API\n",
    "api = tweepy.API(auth)\n",
    "\n",
    "# Verifica credenciais\n",
    "api.verify_credentials()\n",
    "\n",
    "print ('ok')"
   ]
  },
  {
   "cell_type": "code",
   "execution_count": null,
   "metadata": {},
   "outputs": [],
   "source": []
  },
  {
   "cell_type": "code",
   "execution_count": null,
   "metadata": {},
   "outputs": [
    {
     "name": "stdout",
     "output_type": "stream",
     "text": [
      "Retrieving mentions\n",
      "reply\n",
      "----\n",
      "reply\n",
      "----\n",
      "reply\n",
      "----\n",
      "reply\n",
      "----\n",
      "continuando\n",
      "Retrieving mentions\n",
      "Retrieving mentions\n",
      "Retrieving mentions\n",
      "Retrieving mentions\n",
      "Retrieving mentions\n",
      "Retrieving mentions\n",
      "Retrieving mentions\n",
      "Retrieving mentions\n",
      "Retrieving mentions\n",
      "Retrieving mentions\n",
      "Retrieving mentions\n",
      "Retrieving mentions\n",
      "Retrieving mentions\n",
      "Retrieving mentions\n"
     ]
    }
   ],
   "source": [
    "def check_mentions(api, since_id):\n",
    "    print(f\"Retrieving mentions\")\n",
    "    new_since_id = since_id\n",
    "    for tweet in tweepy.Cursor(api.mentions_timeline, since_id=since_id).items():\n",
    "        new_since_id = max(tweet.id, new_since_id)\n",
    "        \n",
    "        if tweet.in_reply_to_status_id is not None:\n",
    "            print ('continuando')\n",
    "            continue\n",
    "\n",
    "        print ('reply')\n",
    "        texto = f\"@{tweet.user.screen_name} testando dm\"\n",
    "        print ('----')\n",
    "        api.update_status(status=texto, in_reply_to_status_id=tweet.id)\n",
    "    return new_since_id\n",
    "\n",
    "def main():\n",
    "    since_id = 1\n",
    "    while True:\n",
    "        since_id = check_mentions(api, since_id)\n",
    "        time.sleep(20)\n",
    "\n",
    "if __name__ == \"__main__\":\n",
    "    main()"
   ]
  },
  {
   "cell_type": "code",
   "execution_count": null,
   "metadata": {},
   "outputs": [],
   "source": []
  }
 ],
 "metadata": {
  "kernelspec": {
   "display_name": "Python 3",
   "language": "python",
   "name": "python3"
  },
  "language_info": {
   "codemirror_mode": {
    "name": "ipython",
    "version": 3
   },
   "file_extension": ".py",
   "mimetype": "text/x-python",
   "name": "python",
   "nbconvert_exporter": "python",
   "pygments_lexer": "ipython3",
   "version": "3.8.3"
  }
 },
 "nbformat": 4,
 "nbformat_minor": 4
}
