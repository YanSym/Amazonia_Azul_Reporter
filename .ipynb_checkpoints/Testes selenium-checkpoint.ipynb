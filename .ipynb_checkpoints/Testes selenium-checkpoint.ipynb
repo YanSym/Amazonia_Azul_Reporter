{
 "cells": [
  {
   "cell_type": "code",
   "execution_count": 1,
   "metadata": {},
   "outputs": [],
   "source": [
    "import pandas as pd\n",
    "import numpy as np\n",
    "import requests\n",
    "import urllib\n",
    "import json\n",
    "from datetime import date\n",
    "from bs4 import BeautifulSoup\n",
    "from selenium import webdriver\n",
    "\n",
    "path_to_chromedriver = 'chromedriver'\n",
    "\n",
    "# parametros do webdriver\n",
    "chromeOptions = webdriver.ChromeOptions()\n",
    "chromeOptions.add_argument('--no-sandbox')\n",
    "chromeOptions.add_argument(\"--headless\")\n",
    "chromeOptions.add_argument(\"user-agent=yan.vsym1@gmail.com\")\n",
    "\n",
    "driver = webdriver.Chrome(path_to_chromedriver, options=chromeOptions)\n",
    "driver.get('https://www.tideschart.com/Brazil/Pernambuco/Olinda/')"
   ]
  },
  {
   "cell_type": "code",
   "execution_count": 10,
   "metadata": {},
   "outputs": [
    {
     "name": "stdout",
     "output_type": "stream",
     "text": [
      "1:02pm\n",
      "▲ 1.8 m\n"
     ]
    },
    {
     "name": "stderr",
     "output_type": "stream",
     "text": [
      "<ipython-input-10-43c1f4d54e56>:3: DeprecationWarning: find_element_by_* commands are deprecated. Please use find_element() instead\n",
      "  elemento = driver.find_element_by_xpath(path).text\n"
     ]
    }
   ],
   "source": [
    "path = '//*[@id=\"main-content\"]/div/div/div/div[1]/div[3]/div/div/table/tbody/tr[1]/td[3]'\n",
    "\n",
    "elemento = driver.find_element_by_xpath(path).text\n",
    "print (elemento)"
   ]
  },
  {
   "cell_type": "code",
   "execution_count": 12,
   "metadata": {},
   "outputs": [
    {
     "data": {
      "text/plain": [
       "'▲'"
      ]
     },
     "execution_count": 12,
     "metadata": {},
     "output_type": "execute_result"
    }
   ],
   "source": [
    "elemento.split(' ')[0][-1] == '▼'"
   ]
  },
  {
   "cell_type": "code",
   "execution_count": 13,
   "metadata": {},
   "outputs": [
    {
     "data": {
      "text/plain": [
       "['1:02pm\\n▲', '1.8', 'm']"
      ]
     },
     "execution_count": 13,
     "metadata": {},
     "output_type": "execute_result"
    }
   ],
   "source": [
    "elemento.split(' ')"
   ]
  },
  {
   "cell_type": "code",
   "execution_count": null,
   "metadata": {},
   "outputs": [],
   "source": []
  }
 ],
 "metadata": {
  "kernelspec": {
   "display_name": "Python 3",
   "language": "python",
   "name": "python3"
  },
  "language_info": {
   "codemirror_mode": {
    "name": "ipython",
    "version": 3
   },
   "file_extension": ".py",
   "mimetype": "text/x-python",
   "name": "python",
   "nbconvert_exporter": "python",
   "pygments_lexer": "ipython3",
   "version": "3.8.3"
  }
 },
 "nbformat": 4,
 "nbformat_minor": 4
}
