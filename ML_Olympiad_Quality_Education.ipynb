{
  "cells": [
    {
      "cell_type": "markdown",
      "metadata": {
        "id": "view-in-github",
        "colab_type": "text"
      },
      "source": [
        "<a href=\"https://colab.research.google.com/github/YanSym/Amazonia_Azul_Reporter/blob/master/ML_Olympiad_Quality_Education.ipynb\" target=\"_parent\"><img src=\"https://colab.research.google.com/assets/colab-badge.svg\" alt=\"Open In Colab\"/></a>"
      ]
    },
    {
      "cell_type": "markdown",
      "metadata": {
        "id": "DoplaB7FtIqu"
      },
      "source": [
        "# ML Olympiad - Quality Education"
      ]
    },
    {
      "cell_type": "markdown",
      "metadata": {
        "id": "alkyaWHa45T8"
      },
      "source": [
        "<center><img src=\"https://guiadoestudante.abril.com.br/wp-content/uploads/sites/4/2021/11/Provas.jpg\" alt=\"enem\" width=\"400\"></center>\n"
      ]
    },
    {
      "cell_type": "markdown",
      "metadata": {
        "id": "MYVVaNGot6G8"
      },
      "source": [
        "## Import das bibliotecas utilizadas"
      ]
    },
    {
      "cell_type": "code",
      "execution_count": null,
      "metadata": {
        "colab": {
          "base_uri": "https://localhost:8080/",
          "height": 1000
        },
        "id": "ZscxbJDttIqy",
        "outputId": "7d40fac0-ac48-4996-8f09-a102217da288"
      },
      "outputs": [
        {
          "output_type": "stream",
          "name": "stdout",
          "text": [
            "Collecting geobr\n",
            "  Downloading geobr-0.1.10-py2.py3-none-any.whl (33 kB)\n",
            "Requirement already satisfied: shapely<2.0.0,>=1.7.0 in /usr/local/lib/python3.7/dist-packages (from geobr) (1.8.0)\n",
            "Collecting geopandas<0.8.0,>=0.7.0\n",
            "  Downloading geopandas-0.7.0-py2.py3-none-any.whl (928 kB)\n",
            "\u001b[K     |████████████████████████████████| 928 kB 4.2 MB/s \n",
            "\u001b[?25hCollecting fiona\n",
            "  Downloading Fiona-1.8.21-cp37-cp37m-manylinux2014_x86_64.whl (16.7 MB)\n",
            "\u001b[K     |████████████████████████████████| 16.7 MB 300 kB/s \n",
            "\u001b[?25hRequirement already satisfied: pandas>=0.23.0 in /usr/local/lib/python3.7/dist-packages (from geopandas<0.8.0,>=0.7.0->geobr) (1.3.5)\n",
            "Collecting pyproj>=2.2.0\n",
            "  Downloading pyproj-3.2.1-cp37-cp37m-manylinux2010_x86_64.whl (6.3 MB)\n",
            "\u001b[K     |████████████████████████████████| 6.3 MB 46.4 MB/s \n",
            "\u001b[?25hRequirement already satisfied: python-dateutil>=2.7.3 in /usr/local/lib/python3.7/dist-packages (from pandas>=0.23.0->geopandas<0.8.0,>=0.7.0->geobr) (2.8.2)\n",
            "Requirement already satisfied: pytz>=2017.3 in /usr/local/lib/python3.7/dist-packages (from pandas>=0.23.0->geopandas<0.8.0,>=0.7.0->geobr) (2018.9)\n",
            "Requirement already satisfied: numpy>=1.17.3 in /usr/local/lib/python3.7/dist-packages (from pandas>=0.23.0->geopandas<0.8.0,>=0.7.0->geobr) (1.21.5)\n",
            "Requirement already satisfied: certifi in /usr/local/lib/python3.7/dist-packages (from pyproj>=2.2.0->geopandas<0.8.0,>=0.7.0->geobr) (2021.10.8)\n",
            "Requirement already satisfied: six>=1.5 in /usr/local/lib/python3.7/dist-packages (from python-dateutil>=2.7.3->pandas>=0.23.0->geopandas<0.8.0,>=0.7.0->geobr) (1.15.0)\n",
            "Requirement already satisfied: click>=4.0 in /usr/local/lib/python3.7/dist-packages (from fiona->geopandas<0.8.0,>=0.7.0->geobr) (7.1.2)\n",
            "Collecting cligj>=0.5\n",
            "  Downloading cligj-0.7.2-py3-none-any.whl (7.1 kB)\n",
            "Requirement already satisfied: attrs>=17 in /usr/local/lib/python3.7/dist-packages (from fiona->geopandas<0.8.0,>=0.7.0->geobr) (21.4.0)\n",
            "Requirement already satisfied: setuptools in /usr/local/lib/python3.7/dist-packages (from fiona->geopandas<0.8.0,>=0.7.0->geobr) (57.4.0)\n",
            "Collecting click-plugins>=1.0\n",
            "  Downloading click_plugins-1.1.1-py2.py3-none-any.whl (7.5 kB)\n",
            "Collecting munch\n",
            "  Downloading munch-2.5.0-py2.py3-none-any.whl (10 kB)\n",
            "Installing collected packages: munch, cligj, click-plugins, pyproj, fiona, geopandas, geobr\n",
            "Successfully installed click-plugins-1.1.1 cligj-0.7.2 fiona-1.8.21 geobr-0.1.10 geopandas-0.7.0 munch-2.5.0 pyproj-3.2.1\n",
            "Mounted at /content/gdrive\n"
          ]
        },
        {
          "output_type": "execute_result",
          "data": {
            "text/html": [
              "\n",
              "  <div id=\"df-700cb6e3-9ed7-4279-853f-d387bc343482\">\n",
              "    <div class=\"colab-df-container\">\n",
              "      <div>\n",
              "<style scoped>\n",
              "    .dataframe tbody tr th:only-of-type {\n",
              "        vertical-align: middle;\n",
              "    }\n",
              "\n",
              "    .dataframe tbody tr th {\n",
              "        vertical-align: top;\n",
              "    }\n",
              "\n",
              "    .dataframe thead th {\n",
              "        text-align: right;\n",
              "    }\n",
              "</style>\n",
              "<table border=\"1\" class=\"dataframe\">\n",
              "  <thead>\n",
              "    <tr style=\"text-align: right;\">\n",
              "      <th></th>\n",
              "      <th>code_state</th>\n",
              "      <th>abbrev_state</th>\n",
              "      <th>name_state</th>\n",
              "      <th>code_region</th>\n",
              "      <th>name_region</th>\n",
              "      <th>geometry</th>\n",
              "    </tr>\n",
              "  </thead>\n",
              "  <tbody>\n",
              "    <tr>\n",
              "      <th>0</th>\n",
              "      <td>11.0</td>\n",
              "      <td>RO</td>\n",
              "      <td>Rondônia</td>\n",
              "      <td>1.0</td>\n",
              "      <td>Norte</td>\n",
              "      <td>MULTIPOLYGON (((-65.38150 -10.42907, -65.37916...</td>\n",
              "    </tr>\n",
              "    <tr>\n",
              "      <th>1</th>\n",
              "      <td>12.0</td>\n",
              "      <td>AC</td>\n",
              "      <td>Acre</td>\n",
              "      <td>1.0</td>\n",
              "      <td>Norte</td>\n",
              "      <td>MULTIPOLYGON (((-71.07772 -9.82774, -71.08554 ...</td>\n",
              "    </tr>\n",
              "    <tr>\n",
              "      <th>2</th>\n",
              "      <td>13.0</td>\n",
              "      <td>AM</td>\n",
              "      <td>Amazônas</td>\n",
              "      <td>1.0</td>\n",
              "      <td>Norte</td>\n",
              "      <td>MULTIPOLYGON (((-69.83766 -3.68659, -69.71230 ...</td>\n",
              "    </tr>\n",
              "    <tr>\n",
              "      <th>3</th>\n",
              "      <td>14.0</td>\n",
              "      <td>RR</td>\n",
              "      <td>Roraima</td>\n",
              "      <td>1.0</td>\n",
              "      <td>Norte</td>\n",
              "      <td>MULTIPOLYGON (((-63.96008 2.47313, -63.96041 2...</td>\n",
              "    </tr>\n",
              "    <tr>\n",
              "      <th>4</th>\n",
              "      <td>15.0</td>\n",
              "      <td>PA</td>\n",
              "      <td>Pará</td>\n",
              "      <td>1.0</td>\n",
              "      <td>Norte</td>\n",
              "      <td>MULTIPOLYGON (((-51.43248 -0.47334, -51.42843 ...</td>\n",
              "    </tr>\n",
              "    <tr>\n",
              "      <th>5</th>\n",
              "      <td>16.0</td>\n",
              "      <td>AP</td>\n",
              "      <td>Amapá</td>\n",
              "      <td>1.0</td>\n",
              "      <td>Norte</td>\n",
              "      <td>MULTIPOLYGON (((-50.45011 2.10924, -50.44252 2...</td>\n",
              "    </tr>\n",
              "    <tr>\n",
              "      <th>6</th>\n",
              "      <td>17.0</td>\n",
              "      <td>TO</td>\n",
              "      <td>Tocantins</td>\n",
              "      <td>1.0</td>\n",
              "      <td>Norte</td>\n",
              "      <td>MULTIPOLYGON (((-48.23163 -5.94614, -48.22940 ...</td>\n",
              "    </tr>\n",
              "    <tr>\n",
              "      <th>7</th>\n",
              "      <td>21.0</td>\n",
              "      <td>MA</td>\n",
              "      <td>Maranhão</td>\n",
              "      <td>2.0</td>\n",
              "      <td>Nordeste</td>\n",
              "      <td>MULTIPOLYGON (((-44.53830 -2.02124, -44.53542 ...</td>\n",
              "    </tr>\n",
              "    <tr>\n",
              "      <th>8</th>\n",
              "      <td>22.0</td>\n",
              "      <td>PI</td>\n",
              "      <td>Piauí</td>\n",
              "      <td>2.0</td>\n",
              "      <td>Nordeste</td>\n",
              "      <td>MULTIPOLYGON (((-42.91539 -6.64607, -42.91722 ...</td>\n",
              "    </tr>\n",
              "    <tr>\n",
              "      <th>9</th>\n",
              "      <td>23.0</td>\n",
              "      <td>CE</td>\n",
              "      <td>Ceará</td>\n",
              "      <td>2.0</td>\n",
              "      <td>Nordeste</td>\n",
              "      <td>MULTIPOLYGON (((-41.18292 -4.01797, -41.18862 ...</td>\n",
              "    </tr>\n",
              "    <tr>\n",
              "      <th>10</th>\n",
              "      <td>24.0</td>\n",
              "      <td>RN</td>\n",
              "      <td>Rio Grande Do Norte</td>\n",
              "      <td>2.0</td>\n",
              "      <td>Nordeste</td>\n",
              "      <td>MULTIPOLYGON (((-37.04412 -4.81854, -37.04501 ...</td>\n",
              "    </tr>\n",
              "    <tr>\n",
              "      <th>11</th>\n",
              "      <td>25.0</td>\n",
              "      <td>PB</td>\n",
              "      <td>Paraíba</td>\n",
              "      <td>2.0</td>\n",
              "      <td>Nordeste</td>\n",
              "      <td>MULTIPOLYGON (((-34.79576 -7.35000, -34.79614 ...</td>\n",
              "    </tr>\n",
              "    <tr>\n",
              "      <th>12</th>\n",
              "      <td>26.0</td>\n",
              "      <td>PE</td>\n",
              "      <td>Pernambuco</td>\n",
              "      <td>2.0</td>\n",
              "      <td>Nordeste</td>\n",
              "      <td>MULTIPOLYGON (((-32.39240 -3.82372, -32.39320 ...</td>\n",
              "    </tr>\n",
              "    <tr>\n",
              "      <th>13</th>\n",
              "      <td>27.0</td>\n",
              "      <td>AL</td>\n",
              "      <td>Alagoas</td>\n",
              "      <td>2.0</td>\n",
              "      <td>Nordeste</td>\n",
              "      <td>MULTIPOLYGON (((-35.75791 -9.69285, -35.75839 ...</td>\n",
              "    </tr>\n",
              "    <tr>\n",
              "      <th>14</th>\n",
              "      <td>28.0</td>\n",
              "      <td>SE</td>\n",
              "      <td>Sergipe</td>\n",
              "      <td>2.0</td>\n",
              "      <td>Nordeste</td>\n",
              "      <td>MULTIPOLYGON (((-36.91665 -10.84277, -36.91854...</td>\n",
              "    </tr>\n",
              "    <tr>\n",
              "      <th>15</th>\n",
              "      <td>29.0</td>\n",
              "      <td>BA</td>\n",
              "      <td>Bahia</td>\n",
              "      <td>2.0</td>\n",
              "      <td>Nordeste</td>\n",
              "      <td>MULTIPOLYGON (((-38.69616 -17.97901, -38.69629...</td>\n",
              "    </tr>\n",
              "    <tr>\n",
              "      <th>16</th>\n",
              "      <td>31.0</td>\n",
              "      <td>MG</td>\n",
              "      <td>Minas Gerais</td>\n",
              "      <td>3.0</td>\n",
              "      <td>Sudeste</td>\n",
              "      <td>MULTIPOLYGON (((-50.74208 -19.21384, -50.74289...</td>\n",
              "    </tr>\n",
              "    <tr>\n",
              "      <th>17</th>\n",
              "      <td>32.0</td>\n",
              "      <td>ES</td>\n",
              "      <td>Espírito Santo</td>\n",
              "      <td>3.0</td>\n",
              "      <td>Sudeste</td>\n",
              "      <td>MULTIPOLYGON (((-40.75189 -20.92722, -40.75601...</td>\n",
              "    </tr>\n",
              "    <tr>\n",
              "      <th>18</th>\n",
              "      <td>33.0</td>\n",
              "      <td>RJ</td>\n",
              "      <td>Rio De Janeiro</td>\n",
              "      <td>3.0</td>\n",
              "      <td>Sudeste</td>\n",
              "      <td>MULTIPOLYGON (((-41.82923 -22.78453, -41.82976...</td>\n",
              "    </tr>\n",
              "    <tr>\n",
              "      <th>19</th>\n",
              "      <td>35.0</td>\n",
              "      <td>SP</td>\n",
              "      <td>São Paulo</td>\n",
              "      <td>3.0</td>\n",
              "      <td>Sudeste</td>\n",
              "      <td>MULTIPOLYGON (((-48.03716 -25.35794, -48.03822...</td>\n",
              "    </tr>\n",
              "    <tr>\n",
              "      <th>20</th>\n",
              "      <td>41.0</td>\n",
              "      <td>PR</td>\n",
              "      <td>Paraná</td>\n",
              "      <td>4.0</td>\n",
              "      <td>Sul</td>\n",
              "      <td>MULTIPOLYGON (((-48.40736 -25.84270, -48.40920...</td>\n",
              "    </tr>\n",
              "    <tr>\n",
              "      <th>21</th>\n",
              "      <td>42.0</td>\n",
              "      <td>SC</td>\n",
              "      <td>Santa Catarina</td>\n",
              "      <td>4.0</td>\n",
              "      <td>Sul</td>\n",
              "      <td>MULTIPOLYGON (((-48.60084 -28.35222, -48.60143...</td>\n",
              "    </tr>\n",
              "    <tr>\n",
              "      <th>22</th>\n",
              "      <td>43.0</td>\n",
              "      <td>RS</td>\n",
              "      <td>Rio Grande Do Sul</td>\n",
              "      <td>4.0</td>\n",
              "      <td>Sul</td>\n",
              "      <td>MULTIPOLYGON (((-49.70392 -29.34774, -49.70499...</td>\n",
              "    </tr>\n",
              "    <tr>\n",
              "      <th>23</th>\n",
              "      <td>50.0</td>\n",
              "      <td>MS</td>\n",
              "      <td>Mato Grosso Do Sul</td>\n",
              "      <td>5.0</td>\n",
              "      <td>Centro Oeste</td>\n",
              "      <td>MULTIPOLYGON (((-57.83371 -20.93628, -57.84443...</td>\n",
              "    </tr>\n",
              "    <tr>\n",
              "      <th>24</th>\n",
              "      <td>51.0</td>\n",
              "      <td>MT</td>\n",
              "      <td>Mato Grosso</td>\n",
              "      <td>5.0</td>\n",
              "      <td>Centro Oeste</td>\n",
              "      <td>MULTIPOLYGON (((-52.61926 -9.68225, -52.00032 ...</td>\n",
              "    </tr>\n",
              "    <tr>\n",
              "      <th>25</th>\n",
              "      <td>52.0</td>\n",
              "      <td>GO</td>\n",
              "      <td>Goiás</td>\n",
              "      <td>5.0</td>\n",
              "      <td>Centro Oeste</td>\n",
              "      <td>MULTIPOLYGON (((-52.36102 -16.08160, -52.35780...</td>\n",
              "    </tr>\n",
              "    <tr>\n",
              "      <th>26</th>\n",
              "      <td>53.0</td>\n",
              "      <td>DF</td>\n",
              "      <td>Distrito Federal</td>\n",
              "      <td>5.0</td>\n",
              "      <td>Centro Oeste</td>\n",
              "      <td>MULTIPOLYGON (((-47.81455 -16.04995, -48.27781...</td>\n",
              "    </tr>\n",
              "  </tbody>\n",
              "</table>\n",
              "</div>\n",
              "      <button class=\"colab-df-convert\" onclick=\"convertToInteractive('df-700cb6e3-9ed7-4279-853f-d387bc343482')\"\n",
              "              title=\"Convert this dataframe to an interactive table.\"\n",
              "              style=\"display:none;\">\n",
              "        \n",
              "  <svg xmlns=\"http://www.w3.org/2000/svg\" height=\"24px\"viewBox=\"0 0 24 24\"\n",
              "       width=\"24px\">\n",
              "    <path d=\"M0 0h24v24H0V0z\" fill=\"none\"/>\n",
              "    <path d=\"M18.56 5.44l.94 2.06.94-2.06 2.06-.94-2.06-.94-.94-2.06-.94 2.06-2.06.94zm-11 1L8.5 8.5l.94-2.06 2.06-.94-2.06-.94L8.5 2.5l-.94 2.06-2.06.94zm10 10l.94 2.06.94-2.06 2.06-.94-2.06-.94-.94-2.06-.94 2.06-2.06.94z\"/><path d=\"M17.41 7.96l-1.37-1.37c-.4-.4-.92-.59-1.43-.59-.52 0-1.04.2-1.43.59L10.3 9.45l-7.72 7.72c-.78.78-.78 2.05 0 2.83L4 21.41c.39.39.9.59 1.41.59.51 0 1.02-.2 1.41-.59l7.78-7.78 2.81-2.81c.8-.78.8-2.07 0-2.86zM5.41 20L4 18.59l7.72-7.72 1.47 1.35L5.41 20z\"/>\n",
              "  </svg>\n",
              "      </button>\n",
              "      \n",
              "  <style>\n",
              "    .colab-df-container {\n",
              "      display:flex;\n",
              "      flex-wrap:wrap;\n",
              "      gap: 12px;\n",
              "    }\n",
              "\n",
              "    .colab-df-convert {\n",
              "      background-color: #E8F0FE;\n",
              "      border: none;\n",
              "      border-radius: 50%;\n",
              "      cursor: pointer;\n",
              "      display: none;\n",
              "      fill: #1967D2;\n",
              "      height: 32px;\n",
              "      padding: 0 0 0 0;\n",
              "      width: 32px;\n",
              "    }\n",
              "\n",
              "    .colab-df-convert:hover {\n",
              "      background-color: #E2EBFA;\n",
              "      box-shadow: 0px 1px 2px rgba(60, 64, 67, 0.3), 0px 1px 3px 1px rgba(60, 64, 67, 0.15);\n",
              "      fill: #174EA6;\n",
              "    }\n",
              "\n",
              "    [theme=dark] .colab-df-convert {\n",
              "      background-color: #3B4455;\n",
              "      fill: #D2E3FC;\n",
              "    }\n",
              "\n",
              "    [theme=dark] .colab-df-convert:hover {\n",
              "      background-color: #434B5C;\n",
              "      box-shadow: 0px 1px 3px 1px rgba(0, 0, 0, 0.15);\n",
              "      filter: drop-shadow(0px 1px 2px rgba(0, 0, 0, 0.3));\n",
              "      fill: #FFFFFF;\n",
              "    }\n",
              "  </style>\n",
              "\n",
              "      <script>\n",
              "        const buttonEl =\n",
              "          document.querySelector('#df-700cb6e3-9ed7-4279-853f-d387bc343482 button.colab-df-convert');\n",
              "        buttonEl.style.display =\n",
              "          google.colab.kernel.accessAllowed ? 'block' : 'none';\n",
              "\n",
              "        async function convertToInteractive(key) {\n",
              "          const element = document.querySelector('#df-700cb6e3-9ed7-4279-853f-d387bc343482');\n",
              "          const dataTable =\n",
              "            await google.colab.kernel.invokeFunction('convertToInteractive',\n",
              "                                                     [key], {});\n",
              "          if (!dataTable) return;\n",
              "\n",
              "          const docLinkHtml = 'Like what you see? Visit the ' +\n",
              "            '<a target=\"_blank\" href=https://colab.research.google.com/notebooks/data_table.ipynb>data table notebook</a>'\n",
              "            + ' to learn more about interactive tables.';\n",
              "          element.innerHTML = '';\n",
              "          dataTable['output_type'] = 'display_data';\n",
              "          await google.colab.output.renderOutput(dataTable, element);\n",
              "          const docLink = document.createElement('div');\n",
              "          docLink.innerHTML = docLinkHtml;\n",
              "          element.appendChild(docLink);\n",
              "        }\n",
              "      </script>\n",
              "    </div>\n",
              "  </div>\n",
              "  "
            ],
            "text/plain": [
              "    code_state abbrev_state           name_state  code_region   name_region  \\\n",
              "0         11.0           RO             Rondônia          1.0         Norte   \n",
              "1         12.0           AC                 Acre          1.0         Norte   \n",
              "2         13.0           AM             Amazônas          1.0         Norte   \n",
              "3         14.0           RR              Roraima          1.0         Norte   \n",
              "4         15.0           PA                 Pará          1.0         Norte   \n",
              "5         16.0           AP                Amapá          1.0         Norte   \n",
              "6         17.0           TO            Tocantins          1.0         Norte   \n",
              "7         21.0           MA             Maranhão          2.0      Nordeste   \n",
              "8         22.0           PI                Piauí          2.0      Nordeste   \n",
              "9         23.0           CE                Ceará          2.0      Nordeste   \n",
              "10        24.0           RN  Rio Grande Do Norte          2.0      Nordeste   \n",
              "11        25.0           PB              Paraíba          2.0      Nordeste   \n",
              "12        26.0           PE           Pernambuco          2.0      Nordeste   \n",
              "13        27.0           AL              Alagoas          2.0      Nordeste   \n",
              "14        28.0           SE              Sergipe          2.0      Nordeste   \n",
              "15        29.0           BA                Bahia          2.0      Nordeste   \n",
              "16        31.0           MG         Minas Gerais          3.0       Sudeste   \n",
              "17        32.0           ES       Espírito Santo          3.0       Sudeste   \n",
              "18        33.0           RJ       Rio De Janeiro          3.0       Sudeste   \n",
              "19        35.0           SP            São Paulo          3.0       Sudeste   \n",
              "20        41.0           PR               Paraná          4.0           Sul   \n",
              "21        42.0           SC       Santa Catarina          4.0           Sul   \n",
              "22        43.0           RS    Rio Grande Do Sul          4.0           Sul   \n",
              "23        50.0           MS   Mato Grosso Do Sul          5.0  Centro Oeste   \n",
              "24        51.0           MT          Mato Grosso          5.0  Centro Oeste   \n",
              "25        52.0           GO                Goiás          5.0  Centro Oeste   \n",
              "26        53.0           DF     Distrito Federal          5.0  Centro Oeste   \n",
              "\n",
              "                                             geometry  \n",
              "0   MULTIPOLYGON (((-65.38150 -10.42907, -65.37916...  \n",
              "1   MULTIPOLYGON (((-71.07772 -9.82774, -71.08554 ...  \n",
              "2   MULTIPOLYGON (((-69.83766 -3.68659, -69.71230 ...  \n",
              "3   MULTIPOLYGON (((-63.96008 2.47313, -63.96041 2...  \n",
              "4   MULTIPOLYGON (((-51.43248 -0.47334, -51.42843 ...  \n",
              "5   MULTIPOLYGON (((-50.45011 2.10924, -50.44252 2...  \n",
              "6   MULTIPOLYGON (((-48.23163 -5.94614, -48.22940 ...  \n",
              "7   MULTIPOLYGON (((-44.53830 -2.02124, -44.53542 ...  \n",
              "8   MULTIPOLYGON (((-42.91539 -6.64607, -42.91722 ...  \n",
              "9   MULTIPOLYGON (((-41.18292 -4.01797, -41.18862 ...  \n",
              "10  MULTIPOLYGON (((-37.04412 -4.81854, -37.04501 ...  \n",
              "11  MULTIPOLYGON (((-34.79576 -7.35000, -34.79614 ...  \n",
              "12  MULTIPOLYGON (((-32.39240 -3.82372, -32.39320 ...  \n",
              "13  MULTIPOLYGON (((-35.75791 -9.69285, -35.75839 ...  \n",
              "14  MULTIPOLYGON (((-36.91665 -10.84277, -36.91854...  \n",
              "15  MULTIPOLYGON (((-38.69616 -17.97901, -38.69629...  \n",
              "16  MULTIPOLYGON (((-50.74208 -19.21384, -50.74289...  \n",
              "17  MULTIPOLYGON (((-40.75189 -20.92722, -40.75601...  \n",
              "18  MULTIPOLYGON (((-41.82923 -22.78453, -41.82976...  \n",
              "19  MULTIPOLYGON (((-48.03716 -25.35794, -48.03822...  \n",
              "20  MULTIPOLYGON (((-48.40736 -25.84270, -48.40920...  \n",
              "21  MULTIPOLYGON (((-48.60084 -28.35222, -48.60143...  \n",
              "22  MULTIPOLYGON (((-49.70392 -29.34774, -49.70499...  \n",
              "23  MULTIPOLYGON (((-57.83371 -20.93628, -57.84443...  \n",
              "24  MULTIPOLYGON (((-52.61926 -9.68225, -52.00032 ...  \n",
              "25  MULTIPOLYGON (((-52.36102 -16.08160, -52.35780...  \n",
              "26  MULTIPOLYGON (((-47.81455 -16.04995, -48.27781...  "
            ]
          },
          "metadata": {},
          "execution_count": 2
        }
      ],
      "source": [
        "import pandas as pd\n",
        "import numpy as np\n",
        "from pylab import rcParams\n",
        "from google.colab import drive\n",
        "from functools import reduce\n",
        "import warnings\n",
        "from tqdm import tqdm\n",
        "from math import sqrt\n",
        "from scipy import stats\n",
        "from sklearn.metrics import mean_squared_error\n",
        "from sklearn.model_selection import train_test_split\n",
        "from sklearn.linear_model import Lasso\n",
        "from sklearn.preprocessing import LabelEncoder\n",
        "import gc\n",
        "\n",
        "# visualização de dados\n",
        "import matplotlib.pyplot as plt\n",
        "import seaborn as sns\n",
        "from statsmodels.graphics.gofplots import qqplot\n",
        "\n",
        "# coordenadas geográficas\n",
        "!pip install geobr\n",
        "import geopandas as gpd\n",
        "import geobr\n",
        "\n",
        "# drive do Google Colab\n",
        "drive.mount('/content/gdrive')\n",
        "\n",
        "# Parâmetros\n",
        "plt.rcParams['figure.figsize'] = [8, 8]\n",
        "pd.set_option(\"display.max_columns\", 200)\n",
        "pd.set_option('display.max_rows', 200)\n",
        "plt.style.use('ggplot')\n",
        "\n",
        "# Filtra warnings\n",
        "warnings.filterwarnings(\"ignore\")\n",
        "\n",
        "# Plot de gráficos\n",
        "%matplotlib inline\n",
        "\n",
        "geobr.read_state(year = 2019)"
      ]
    },
    {
      "cell_type": "markdown",
      "metadata": {
        "id": "vfUAnGQKoTlP"
      },
      "source": [
        "### Variáveis Globais"
      ]
    },
    {
      "cell_type": "code",
      "source": [
        "!pip install geobr"
      ],
      "metadata": {
        "id": "giKF2DFNKIJa"
      },
      "execution_count": null,
      "outputs": []
    },
    {
      "cell_type": "code",
      "execution_count": null,
      "metadata": {
        "id": "GtwzwHioW918"
      },
      "outputs": [],
      "source": [
        "# Divisão das Variaveis\n",
        "lista_targets = ['NU_NOTA_CN', 'NU_NOTA_CH', 'NU_NOTA_LC', 'NU_NOTA_MT', 'NU_NOTA_REDACAO']\n",
        "Variaveis_Socio_Economico = ['Q001','Q002',\t'Q003',\t'Q004',\t'Q005',\t'Q006',\t'Q007',\t'Q008',\t'Q009',\t'Q010',\t'Q011',\t'Q012',\t'Q013',\t'Q014',\t'Q015',\t'Q016',\t'Q017',\t'Q018',\t'Q019',\t'Q020',\t'Q021',\t'Q022',\t'Q023',\t'Q024',\t'Q025']\n",
        "Variaveis_Atendimento_Especializado = ['IN_BAIXA_VISAO',\t'IN_CEGUEIRA',\t'IN_SURDEZ',\t'IN_DEFICIENCIA_AUDITIVA',\t'IN_SURDO_CEGUEIRA',\t'IN_DEFICIENCIA_FISICA',\t'IN_DEFICIENCIA_MENTAL',\t'IN_DEFICIT_ATENCAO',\t'IN_DISLEXIA',\t'IN_DISCALCULIA',\t'IN_AUTISMO',\t'IN_VISAO_MONOCULAR',\t'IN_OUTRA_DEF']\n",
        "Variaveis_Cadastrais = ['NU_INSCRICAO',\t'CO_MUNICIPIO_RESIDENCIA',\t'NO_MUNICIPIO_RESIDENCIA',\t'CO_UF_RESIDENCIA',\t'SG_UF_RESIDENCIA',\t'NU_IDADE',\t'TP_SEXO',\t'TP_ESTADO_CIVIL',\t'TP_COR_RACA',\t'TP_NACIONALIDADE',\t'CO_MUNICIPIO_NASCIMENTO',\t'NO_MUNICIPIO_NASCIMENTO',\t'CO_UF_NASCIMENTO',\t'SG_UF_NASCIMENTO',\t'TP_ST_CONCLUSAO',\t'TP_ANO_CONCLUIU',\t'TP_ESCOLA',\t'TP_ENSINO',\t'IN_TREINEIRO']"
      ]
    },
    {
      "cell_type": "markdown",
      "metadata": {
        "id": "YuYc1_x0tIq0"
      },
      "source": [
        "## Métodos Auxiliares"
      ]
    },
    {
      "cell_type": "code",
      "execution_count": null,
      "metadata": {
        "colab": {
          "background_save": true
        },
        "id": "xGOeRrBZtIq1",
        "outputId": "a2a3005d-7e6a-43d3-c3d7-4cbc32f3f74f"
      },
      "outputs": [
        {
          "ename": "URLError",
          "evalue": "ignored",
          "output_type": "error",
          "traceback": [
            "\u001b[0;31m---------------------------------------------------------------------------\u001b[0m",
            "\u001b[0;31mTimeoutError\u001b[0m                              Traceback (most recent call last)",
            "\u001b[0;32m/usr/lib/python3.7/urllib/request.py\u001b[0m in \u001b[0;36mdo_open\u001b[0;34m(self, http_class, req, **http_conn_args)\u001b[0m\n\u001b[1;32m   1349\u001b[0m                 h.request(req.get_method(), req.selector, req.data, headers,\n\u001b[0;32m-> 1350\u001b[0;31m                           encode_chunked=req.has_header('Transfer-encoding'))\n\u001b[0m\u001b[1;32m   1351\u001b[0m             \u001b[0;32mexcept\u001b[0m \u001b[0mOSError\u001b[0m \u001b[0;32mas\u001b[0m \u001b[0merr\u001b[0m\u001b[0;34m:\u001b[0m \u001b[0;31m# timeout error\u001b[0m\u001b[0;34m\u001b[0m\u001b[0;34m\u001b[0m\u001b[0m\n",
            "\u001b[0;32m/usr/lib/python3.7/http/client.py\u001b[0m in \u001b[0;36mrequest\u001b[0;34m(self, method, url, body, headers, encode_chunked)\u001b[0m\n\u001b[1;32m   1280\u001b[0m         \u001b[0;34m\"\"\"Send a complete request to the server.\"\"\"\u001b[0m\u001b[0;34m\u001b[0m\u001b[0;34m\u001b[0m\u001b[0m\n\u001b[0;32m-> 1281\u001b[0;31m         \u001b[0mself\u001b[0m\u001b[0;34m.\u001b[0m\u001b[0m_send_request\u001b[0m\u001b[0;34m(\u001b[0m\u001b[0mmethod\u001b[0m\u001b[0;34m,\u001b[0m \u001b[0murl\u001b[0m\u001b[0;34m,\u001b[0m \u001b[0mbody\u001b[0m\u001b[0;34m,\u001b[0m \u001b[0mheaders\u001b[0m\u001b[0;34m,\u001b[0m \u001b[0mencode_chunked\u001b[0m\u001b[0;34m)\u001b[0m\u001b[0;34m\u001b[0m\u001b[0;34m\u001b[0m\u001b[0m\n\u001b[0m\u001b[1;32m   1282\u001b[0m \u001b[0;34m\u001b[0m\u001b[0m\n",
            "\u001b[0;32m/usr/lib/python3.7/http/client.py\u001b[0m in \u001b[0;36m_send_request\u001b[0;34m(self, method, url, body, headers, encode_chunked)\u001b[0m\n\u001b[1;32m   1326\u001b[0m             \u001b[0mbody\u001b[0m \u001b[0;34m=\u001b[0m \u001b[0m_encode\u001b[0m\u001b[0;34m(\u001b[0m\u001b[0mbody\u001b[0m\u001b[0;34m,\u001b[0m \u001b[0;34m'body'\u001b[0m\u001b[0;34m)\u001b[0m\u001b[0;34m\u001b[0m\u001b[0;34m\u001b[0m\u001b[0m\n\u001b[0;32m-> 1327\u001b[0;31m         \u001b[0mself\u001b[0m\u001b[0;34m.\u001b[0m\u001b[0mendheaders\u001b[0m\u001b[0;34m(\u001b[0m\u001b[0mbody\u001b[0m\u001b[0;34m,\u001b[0m \u001b[0mencode_chunked\u001b[0m\u001b[0;34m=\u001b[0m\u001b[0mencode_chunked\u001b[0m\u001b[0;34m)\u001b[0m\u001b[0;34m\u001b[0m\u001b[0;34m\u001b[0m\u001b[0m\n\u001b[0m\u001b[1;32m   1328\u001b[0m \u001b[0;34m\u001b[0m\u001b[0m\n",
            "\u001b[0;32m/usr/lib/python3.7/http/client.py\u001b[0m in \u001b[0;36mendheaders\u001b[0;34m(self, message_body, encode_chunked)\u001b[0m\n\u001b[1;32m   1275\u001b[0m             \u001b[0;32mraise\u001b[0m \u001b[0mCannotSendHeader\u001b[0m\u001b[0;34m(\u001b[0m\u001b[0;34m)\u001b[0m\u001b[0;34m\u001b[0m\u001b[0;34m\u001b[0m\u001b[0m\n\u001b[0;32m-> 1276\u001b[0;31m         \u001b[0mself\u001b[0m\u001b[0;34m.\u001b[0m\u001b[0m_send_output\u001b[0m\u001b[0;34m(\u001b[0m\u001b[0mmessage_body\u001b[0m\u001b[0;34m,\u001b[0m \u001b[0mencode_chunked\u001b[0m\u001b[0;34m=\u001b[0m\u001b[0mencode_chunked\u001b[0m\u001b[0;34m)\u001b[0m\u001b[0;34m\u001b[0m\u001b[0;34m\u001b[0m\u001b[0m\n\u001b[0m\u001b[1;32m   1277\u001b[0m \u001b[0;34m\u001b[0m\u001b[0m\n",
            "\u001b[0;32m/usr/lib/python3.7/http/client.py\u001b[0m in \u001b[0;36m_send_output\u001b[0;34m(self, message_body, encode_chunked)\u001b[0m\n\u001b[1;32m   1035\u001b[0m         \u001b[0;32mdel\u001b[0m \u001b[0mself\u001b[0m\u001b[0;34m.\u001b[0m\u001b[0m_buffer\u001b[0m\u001b[0;34m[\u001b[0m\u001b[0;34m:\u001b[0m\u001b[0;34m]\u001b[0m\u001b[0;34m\u001b[0m\u001b[0;34m\u001b[0m\u001b[0m\n\u001b[0;32m-> 1036\u001b[0;31m         \u001b[0mself\u001b[0m\u001b[0;34m.\u001b[0m\u001b[0msend\u001b[0m\u001b[0;34m(\u001b[0m\u001b[0mmsg\u001b[0m\u001b[0;34m)\u001b[0m\u001b[0;34m\u001b[0m\u001b[0;34m\u001b[0m\u001b[0m\n\u001b[0m\u001b[1;32m   1037\u001b[0m \u001b[0;34m\u001b[0m\u001b[0m\n",
            "\u001b[0;32m/usr/lib/python3.7/http/client.py\u001b[0m in \u001b[0;36msend\u001b[0;34m(self, data)\u001b[0m\n\u001b[1;32m    975\u001b[0m             \u001b[0;32mif\u001b[0m \u001b[0mself\u001b[0m\u001b[0;34m.\u001b[0m\u001b[0mauto_open\u001b[0m\u001b[0;34m:\u001b[0m\u001b[0;34m\u001b[0m\u001b[0;34m\u001b[0m\u001b[0m\n\u001b[0;32m--> 976\u001b[0;31m                 \u001b[0mself\u001b[0m\u001b[0;34m.\u001b[0m\u001b[0mconnect\u001b[0m\u001b[0;34m(\u001b[0m\u001b[0;34m)\u001b[0m\u001b[0;34m\u001b[0m\u001b[0;34m\u001b[0m\u001b[0m\n\u001b[0m\u001b[1;32m    977\u001b[0m             \u001b[0;32melse\u001b[0m\u001b[0;34m:\u001b[0m\u001b[0;34m\u001b[0m\u001b[0;34m\u001b[0m\u001b[0m\n",
            "\u001b[0;32m/usr/lib/python3.7/http/client.py\u001b[0m in \u001b[0;36mconnect\u001b[0;34m(self)\u001b[0m\n\u001b[1;32m    947\u001b[0m         self.sock = self._create_connection(\n\u001b[0;32m--> 948\u001b[0;31m             (self.host,self.port), self.timeout, self.source_address)\n\u001b[0m\u001b[1;32m    949\u001b[0m         \u001b[0mself\u001b[0m\u001b[0;34m.\u001b[0m\u001b[0msock\u001b[0m\u001b[0;34m.\u001b[0m\u001b[0msetsockopt\u001b[0m\u001b[0;34m(\u001b[0m\u001b[0msocket\u001b[0m\u001b[0;34m.\u001b[0m\u001b[0mIPPROTO_TCP\u001b[0m\u001b[0;34m,\u001b[0m \u001b[0msocket\u001b[0m\u001b[0;34m.\u001b[0m\u001b[0mTCP_NODELAY\u001b[0m\u001b[0;34m,\u001b[0m \u001b[0;36m1\u001b[0m\u001b[0;34m)\u001b[0m\u001b[0;34m\u001b[0m\u001b[0;34m\u001b[0m\u001b[0m\n",
            "\u001b[0;32m/usr/lib/python3.7/socket.py\u001b[0m in \u001b[0;36mcreate_connection\u001b[0;34m(address, timeout, source_address)\u001b[0m\n\u001b[1;32m    727\u001b[0m         \u001b[0;32mtry\u001b[0m\u001b[0;34m:\u001b[0m\u001b[0;34m\u001b[0m\u001b[0;34m\u001b[0m\u001b[0m\n\u001b[0;32m--> 728\u001b[0;31m             \u001b[0;32mraise\u001b[0m \u001b[0merr\u001b[0m\u001b[0;34m\u001b[0m\u001b[0;34m\u001b[0m\u001b[0m\n\u001b[0m\u001b[1;32m    729\u001b[0m         \u001b[0;32mfinally\u001b[0m\u001b[0;34m:\u001b[0m\u001b[0;34m\u001b[0m\u001b[0;34m\u001b[0m\u001b[0m\n",
            "\u001b[0;32m/usr/lib/python3.7/socket.py\u001b[0m in \u001b[0;36mcreate_connection\u001b[0;34m(address, timeout, source_address)\u001b[0m\n\u001b[1;32m    715\u001b[0m                 \u001b[0msock\u001b[0m\u001b[0;34m.\u001b[0m\u001b[0mbind\u001b[0m\u001b[0;34m(\u001b[0m\u001b[0msource_address\u001b[0m\u001b[0;34m)\u001b[0m\u001b[0;34m\u001b[0m\u001b[0;34m\u001b[0m\u001b[0m\n\u001b[0;32m--> 716\u001b[0;31m             \u001b[0msock\u001b[0m\u001b[0;34m.\u001b[0m\u001b[0mconnect\u001b[0m\u001b[0;34m(\u001b[0m\u001b[0msa\u001b[0m\u001b[0;34m)\u001b[0m\u001b[0;34m\u001b[0m\u001b[0;34m\u001b[0m\u001b[0m\n\u001b[0m\u001b[1;32m    717\u001b[0m             \u001b[0;31m# Break explicitly a reference cycle\u001b[0m\u001b[0;34m\u001b[0m\u001b[0;34m\u001b[0m\u001b[0;34m\u001b[0m\u001b[0m\n",
            "\u001b[0;31mTimeoutError\u001b[0m: [Errno 110] Connection timed out",
            "\nDuring handling of the above exception, another exception occurred:\n",
            "\u001b[0;31mURLError\u001b[0m                                  Traceback (most recent call last)",
            "\u001b[0;32m<ipython-input-3-d79622652edb>\u001b[0m in \u001b[0;36m<module>\u001b[0;34m()\u001b[0m\n\u001b[1;32m    156\u001b[0m \u001b[0;34m\u001b[0m\u001b[0m\n\u001b[1;32m    157\u001b[0m \u001b[0;34m\u001b[0m\u001b[0m\n\u001b[0;32m--> 158\u001b[0;31m \u001b[0;32mdef\u001b[0m \u001b[0mestatistica_descritiva_por_estado\u001b[0m\u001b[0;34m(\u001b[0m\u001b[0mdf\u001b[0m\u001b[0;34m,\u001b[0m \u001b[0mmetrica\u001b[0m\u001b[0;34m,\u001b[0m \u001b[0mlocalizacao_estado\u001b[0m \u001b[0;34m=\u001b[0m \u001b[0mgeobr\u001b[0m\u001b[0;34m.\u001b[0m\u001b[0mread_state\u001b[0m\u001b[0;34m(\u001b[0m\u001b[0myear\u001b[0m \u001b[0;34m=\u001b[0m \u001b[0;36m2019\u001b[0m\u001b[0;34m)\u001b[0m\u001b[0;34m)\u001b[0m\u001b[0;34m:\u001b[0m\u001b[0;34m\u001b[0m\u001b[0;34m\u001b[0m\u001b[0m\n\u001b[0m\u001b[1;32m    159\u001b[0m   \u001b[0;34m\"Calcula alguma estatística descritiva para as notas do Enem por estado.\"\u001b[0m\u001b[0;34m\u001b[0m\u001b[0;34m\u001b[0m\u001b[0m\n\u001b[1;32m    160\u001b[0m   \u001b[0;31m# provas do dataset de base\u001b[0m\u001b[0;34m\u001b[0m\u001b[0;34m\u001b[0m\u001b[0;34m\u001b[0m\u001b[0m\n",
            "\u001b[0;32m/usr/local/lib/python3.7/dist-packages/geobr/read_state.py\u001b[0m in \u001b[0;36mread_state\u001b[0;34m(code_state, year, simplified, verbose)\u001b[0m\n\u001b[1;32m     46\u001b[0m     \"\"\"\n\u001b[1;32m     47\u001b[0m \u001b[0;34m\u001b[0m\u001b[0m\n\u001b[0;32m---> 48\u001b[0;31m     \u001b[0mmetadata\u001b[0m \u001b[0;34m=\u001b[0m \u001b[0mselect_metadata\u001b[0m\u001b[0;34m(\u001b[0m\u001b[0;34m\"state\"\u001b[0m\u001b[0;34m,\u001b[0m \u001b[0myear\u001b[0m\u001b[0;34m=\u001b[0m\u001b[0myear\u001b[0m\u001b[0;34m,\u001b[0m \u001b[0msimplified\u001b[0m\u001b[0;34m=\u001b[0m\u001b[0msimplified\u001b[0m\u001b[0;34m)\u001b[0m\u001b[0;34m\u001b[0m\u001b[0;34m\u001b[0m\u001b[0m\n\u001b[0m\u001b[1;32m     49\u001b[0m \u001b[0;34m\u001b[0m\u001b[0m\n\u001b[1;32m     50\u001b[0m     \u001b[0;32mif\u001b[0m \u001b[0mcode_state\u001b[0m \u001b[0;32mis\u001b[0m \u001b[0;32mNone\u001b[0m\u001b[0;34m:\u001b[0m\u001b[0;34m\u001b[0m\u001b[0;34m\u001b[0m\u001b[0m\n",
            "\u001b[0;32m/usr/local/lib/python3.7/dist-packages/geobr/utils.py\u001b[0m in \u001b[0;36mselect_metadata\u001b[0;34m(geo, simplified, year)\u001b[0m\n\u001b[1;32m    240\u001b[0m \u001b[0;34m\u001b[0m\u001b[0m\n\u001b[1;32m    241\u001b[0m     \u001b[0;31m# Get metadata with data addresses\u001b[0m\u001b[0;34m\u001b[0m\u001b[0;34m\u001b[0m\u001b[0;34m\u001b[0m\u001b[0m\n\u001b[0;32m--> 242\u001b[0;31m     \u001b[0mmetadata\u001b[0m \u001b[0;34m=\u001b[0m \u001b[0mdownload_metadata\u001b[0m\u001b[0;34m(\u001b[0m\u001b[0;34m)\u001b[0m\u001b[0;34m\u001b[0m\u001b[0;34m\u001b[0m\u001b[0m\n\u001b[0m\u001b[1;32m    243\u001b[0m \u001b[0;34m\u001b[0m\u001b[0m\n\u001b[1;32m    244\u001b[0m     \u001b[0;32mif\u001b[0m \u001b[0mlen\u001b[0m\u001b[0;34m(\u001b[0m\u001b[0mmetadata\u001b[0m\u001b[0;34m.\u001b[0m\u001b[0mquery\u001b[0m\u001b[0;34m(\u001b[0m\u001b[0;34mf'geo == \"{geo}\"'\u001b[0m\u001b[0;34m)\u001b[0m\u001b[0;34m)\u001b[0m \u001b[0;34m==\u001b[0m \u001b[0;36m0\u001b[0m\u001b[0;34m:\u001b[0m\u001b[0;34m\u001b[0m\u001b[0;34m\u001b[0m\u001b[0m\n",
            "\u001b[0;32m/usr/local/lib/python3.7/dist-packages/geobr/utils.py\u001b[0m in \u001b[0;36mdownload_metadata\u001b[0;34m(url)\u001b[0m\n\u001b[1;32m     46\u001b[0m \u001b[0;34m\u001b[0m\u001b[0m\n\u001b[1;32m     47\u001b[0m     \u001b[0;32mtry\u001b[0m\u001b[0;34m:\u001b[0m\u001b[0;34m\u001b[0m\u001b[0;34m\u001b[0m\u001b[0m\n\u001b[0;32m---> 48\u001b[0;31m         \u001b[0;32mreturn\u001b[0m \u001b[0mpd\u001b[0m\u001b[0;34m.\u001b[0m\u001b[0mread_csv\u001b[0m\u001b[0;34m(\u001b[0m\u001b[0murl\u001b[0m\u001b[0;34m)\u001b[0m\u001b[0;34m\u001b[0m\u001b[0;34m\u001b[0m\u001b[0m\n\u001b[0m\u001b[1;32m     49\u001b[0m \u001b[0;34m\u001b[0m\u001b[0m\n\u001b[1;32m     50\u001b[0m     \u001b[0;32mexcept\u001b[0m \u001b[0mHTTPError\u001b[0m\u001b[0;34m:\u001b[0m\u001b[0;34m\u001b[0m\u001b[0;34m\u001b[0m\u001b[0m\n",
            "\u001b[0;32m/usr/local/lib/python3.7/dist-packages/pandas/util/_decorators.py\u001b[0m in \u001b[0;36mwrapper\u001b[0;34m(*args, **kwargs)\u001b[0m\n\u001b[1;32m    309\u001b[0m                     \u001b[0mstacklevel\u001b[0m\u001b[0;34m=\u001b[0m\u001b[0mstacklevel\u001b[0m\u001b[0;34m,\u001b[0m\u001b[0;34m\u001b[0m\u001b[0;34m\u001b[0m\u001b[0m\n\u001b[1;32m    310\u001b[0m                 )\n\u001b[0;32m--> 311\u001b[0;31m             \u001b[0;32mreturn\u001b[0m \u001b[0mfunc\u001b[0m\u001b[0;34m(\u001b[0m\u001b[0;34m*\u001b[0m\u001b[0margs\u001b[0m\u001b[0;34m,\u001b[0m \u001b[0;34m**\u001b[0m\u001b[0mkwargs\u001b[0m\u001b[0;34m)\u001b[0m\u001b[0;34m\u001b[0m\u001b[0;34m\u001b[0m\u001b[0m\n\u001b[0m\u001b[1;32m    312\u001b[0m \u001b[0;34m\u001b[0m\u001b[0m\n\u001b[1;32m    313\u001b[0m         \u001b[0;32mreturn\u001b[0m \u001b[0mwrapper\u001b[0m\u001b[0;34m\u001b[0m\u001b[0;34m\u001b[0m\u001b[0m\n",
            "\u001b[0;32m/usr/local/lib/python3.7/dist-packages/pandas/io/parsers/readers.py\u001b[0m in \u001b[0;36mread_csv\u001b[0;34m(filepath_or_buffer, sep, delimiter, header, names, index_col, usecols, squeeze, prefix, mangle_dupe_cols, dtype, engine, converters, true_values, false_values, skipinitialspace, skiprows, skipfooter, nrows, na_values, keep_default_na, na_filter, verbose, skip_blank_lines, parse_dates, infer_datetime_format, keep_date_col, date_parser, dayfirst, cache_dates, iterator, chunksize, compression, thousands, decimal, lineterminator, quotechar, quoting, doublequote, escapechar, comment, encoding, encoding_errors, dialect, error_bad_lines, warn_bad_lines, on_bad_lines, delim_whitespace, low_memory, memory_map, float_precision, storage_options)\u001b[0m\n\u001b[1;32m    584\u001b[0m     \u001b[0mkwds\u001b[0m\u001b[0;34m.\u001b[0m\u001b[0mupdate\u001b[0m\u001b[0;34m(\u001b[0m\u001b[0mkwds_defaults\u001b[0m\u001b[0;34m)\u001b[0m\u001b[0;34m\u001b[0m\u001b[0;34m\u001b[0m\u001b[0m\n\u001b[1;32m    585\u001b[0m \u001b[0;34m\u001b[0m\u001b[0m\n\u001b[0;32m--> 586\u001b[0;31m     \u001b[0;32mreturn\u001b[0m \u001b[0m_read\u001b[0m\u001b[0;34m(\u001b[0m\u001b[0mfilepath_or_buffer\u001b[0m\u001b[0;34m,\u001b[0m \u001b[0mkwds\u001b[0m\u001b[0;34m)\u001b[0m\u001b[0;34m\u001b[0m\u001b[0;34m\u001b[0m\u001b[0m\n\u001b[0m\u001b[1;32m    587\u001b[0m \u001b[0;34m\u001b[0m\u001b[0m\n\u001b[1;32m    588\u001b[0m \u001b[0;34m\u001b[0m\u001b[0m\n",
            "\u001b[0;32m/usr/local/lib/python3.7/dist-packages/pandas/io/parsers/readers.py\u001b[0m in \u001b[0;36m_read\u001b[0;34m(filepath_or_buffer, kwds)\u001b[0m\n\u001b[1;32m    480\u001b[0m \u001b[0;34m\u001b[0m\u001b[0m\n\u001b[1;32m    481\u001b[0m     \u001b[0;31m# Create the parser.\u001b[0m\u001b[0;34m\u001b[0m\u001b[0;34m\u001b[0m\u001b[0;34m\u001b[0m\u001b[0m\n\u001b[0;32m--> 482\u001b[0;31m     \u001b[0mparser\u001b[0m \u001b[0;34m=\u001b[0m \u001b[0mTextFileReader\u001b[0m\u001b[0;34m(\u001b[0m\u001b[0mfilepath_or_buffer\u001b[0m\u001b[0;34m,\u001b[0m \u001b[0;34m**\u001b[0m\u001b[0mkwds\u001b[0m\u001b[0;34m)\u001b[0m\u001b[0;34m\u001b[0m\u001b[0;34m\u001b[0m\u001b[0m\n\u001b[0m\u001b[1;32m    483\u001b[0m \u001b[0;34m\u001b[0m\u001b[0m\n\u001b[1;32m    484\u001b[0m     \u001b[0;32mif\u001b[0m \u001b[0mchunksize\u001b[0m \u001b[0;32mor\u001b[0m \u001b[0miterator\u001b[0m\u001b[0;34m:\u001b[0m\u001b[0;34m\u001b[0m\u001b[0;34m\u001b[0m\u001b[0m\n",
            "\u001b[0;32m/usr/local/lib/python3.7/dist-packages/pandas/io/parsers/readers.py\u001b[0m in \u001b[0;36m__init__\u001b[0;34m(self, f, engine, **kwds)\u001b[0m\n\u001b[1;32m    809\u001b[0m             \u001b[0mself\u001b[0m\u001b[0;34m.\u001b[0m\u001b[0moptions\u001b[0m\u001b[0;34m[\u001b[0m\u001b[0;34m\"has_index_names\"\u001b[0m\u001b[0;34m]\u001b[0m \u001b[0;34m=\u001b[0m \u001b[0mkwds\u001b[0m\u001b[0;34m[\u001b[0m\u001b[0;34m\"has_index_names\"\u001b[0m\u001b[0;34m]\u001b[0m\u001b[0;34m\u001b[0m\u001b[0;34m\u001b[0m\u001b[0m\n\u001b[1;32m    810\u001b[0m \u001b[0;34m\u001b[0m\u001b[0m\n\u001b[0;32m--> 811\u001b[0;31m         \u001b[0mself\u001b[0m\u001b[0;34m.\u001b[0m\u001b[0m_engine\u001b[0m \u001b[0;34m=\u001b[0m \u001b[0mself\u001b[0m\u001b[0;34m.\u001b[0m\u001b[0m_make_engine\u001b[0m\u001b[0;34m(\u001b[0m\u001b[0mself\u001b[0m\u001b[0;34m.\u001b[0m\u001b[0mengine\u001b[0m\u001b[0;34m)\u001b[0m\u001b[0;34m\u001b[0m\u001b[0;34m\u001b[0m\u001b[0m\n\u001b[0m\u001b[1;32m    812\u001b[0m \u001b[0;34m\u001b[0m\u001b[0m\n\u001b[1;32m    813\u001b[0m     \u001b[0;32mdef\u001b[0m \u001b[0mclose\u001b[0m\u001b[0;34m(\u001b[0m\u001b[0mself\u001b[0m\u001b[0;34m)\u001b[0m\u001b[0;34m:\u001b[0m\u001b[0;34m\u001b[0m\u001b[0;34m\u001b[0m\u001b[0m\n",
            "\u001b[0;32m/usr/local/lib/python3.7/dist-packages/pandas/io/parsers/readers.py\u001b[0m in \u001b[0;36m_make_engine\u001b[0;34m(self, engine)\u001b[0m\n\u001b[1;32m   1038\u001b[0m             )\n\u001b[1;32m   1039\u001b[0m         \u001b[0;31m# error: Too many arguments for \"ParserBase\"\u001b[0m\u001b[0;34m\u001b[0m\u001b[0;34m\u001b[0m\u001b[0;34m\u001b[0m\u001b[0m\n\u001b[0;32m-> 1040\u001b[0;31m         \u001b[0;32mreturn\u001b[0m \u001b[0mmapping\u001b[0m\u001b[0;34m[\u001b[0m\u001b[0mengine\u001b[0m\u001b[0;34m]\u001b[0m\u001b[0;34m(\u001b[0m\u001b[0mself\u001b[0m\u001b[0;34m.\u001b[0m\u001b[0mf\u001b[0m\u001b[0;34m,\u001b[0m \u001b[0;34m**\u001b[0m\u001b[0mself\u001b[0m\u001b[0;34m.\u001b[0m\u001b[0moptions\u001b[0m\u001b[0;34m)\u001b[0m  \u001b[0;31m# type: ignore[call-arg]\u001b[0m\u001b[0;34m\u001b[0m\u001b[0;34m\u001b[0m\u001b[0m\n\u001b[0m\u001b[1;32m   1041\u001b[0m \u001b[0;34m\u001b[0m\u001b[0m\n\u001b[1;32m   1042\u001b[0m     \u001b[0;32mdef\u001b[0m \u001b[0m_failover_to_python\u001b[0m\u001b[0;34m(\u001b[0m\u001b[0mself\u001b[0m\u001b[0;34m)\u001b[0m\u001b[0;34m:\u001b[0m\u001b[0;34m\u001b[0m\u001b[0;34m\u001b[0m\u001b[0m\n",
            "\u001b[0;32m/usr/local/lib/python3.7/dist-packages/pandas/io/parsers/c_parser_wrapper.py\u001b[0m in \u001b[0;36m__init__\u001b[0;34m(self, src, **kwds)\u001b[0m\n\u001b[1;32m     49\u001b[0m \u001b[0;34m\u001b[0m\u001b[0m\n\u001b[1;32m     50\u001b[0m         \u001b[0;31m# open handles\u001b[0m\u001b[0;34m\u001b[0m\u001b[0;34m\u001b[0m\u001b[0;34m\u001b[0m\u001b[0m\n\u001b[0;32m---> 51\u001b[0;31m         \u001b[0mself\u001b[0m\u001b[0;34m.\u001b[0m\u001b[0m_open_handles\u001b[0m\u001b[0;34m(\u001b[0m\u001b[0msrc\u001b[0m\u001b[0;34m,\u001b[0m \u001b[0mkwds\u001b[0m\u001b[0;34m)\u001b[0m\u001b[0;34m\u001b[0m\u001b[0;34m\u001b[0m\u001b[0m\n\u001b[0m\u001b[1;32m     52\u001b[0m         \u001b[0;32massert\u001b[0m \u001b[0mself\u001b[0m\u001b[0;34m.\u001b[0m\u001b[0mhandles\u001b[0m \u001b[0;32mis\u001b[0m \u001b[0;32mnot\u001b[0m \u001b[0;32mNone\u001b[0m\u001b[0;34m\u001b[0m\u001b[0;34m\u001b[0m\u001b[0m\n\u001b[1;32m     53\u001b[0m \u001b[0;34m\u001b[0m\u001b[0m\n",
            "\u001b[0;32m/usr/local/lib/python3.7/dist-packages/pandas/io/parsers/base_parser.py\u001b[0m in \u001b[0;36m_open_handles\u001b[0;34m(self, src, kwds)\u001b[0m\n\u001b[1;32m    227\u001b[0m             \u001b[0mmemory_map\u001b[0m\u001b[0;34m=\u001b[0m\u001b[0mkwds\u001b[0m\u001b[0;34m.\u001b[0m\u001b[0mget\u001b[0m\u001b[0;34m(\u001b[0m\u001b[0;34m\"memory_map\"\u001b[0m\u001b[0;34m,\u001b[0m \u001b[0;32mFalse\u001b[0m\u001b[0;34m)\u001b[0m\u001b[0;34m,\u001b[0m\u001b[0;34m\u001b[0m\u001b[0;34m\u001b[0m\u001b[0m\n\u001b[1;32m    228\u001b[0m             \u001b[0mstorage_options\u001b[0m\u001b[0;34m=\u001b[0m\u001b[0mkwds\u001b[0m\u001b[0;34m.\u001b[0m\u001b[0mget\u001b[0m\u001b[0;34m(\u001b[0m\u001b[0;34m\"storage_options\"\u001b[0m\u001b[0;34m,\u001b[0m \u001b[0;32mNone\u001b[0m\u001b[0;34m)\u001b[0m\u001b[0;34m,\u001b[0m\u001b[0;34m\u001b[0m\u001b[0;34m\u001b[0m\u001b[0m\n\u001b[0;32m--> 229\u001b[0;31m             \u001b[0merrors\u001b[0m\u001b[0;34m=\u001b[0m\u001b[0mkwds\u001b[0m\u001b[0;34m.\u001b[0m\u001b[0mget\u001b[0m\u001b[0;34m(\u001b[0m\u001b[0;34m\"encoding_errors\"\u001b[0m\u001b[0;34m,\u001b[0m \u001b[0;34m\"strict\"\u001b[0m\u001b[0;34m)\u001b[0m\u001b[0;34m,\u001b[0m\u001b[0;34m\u001b[0m\u001b[0;34m\u001b[0m\u001b[0m\n\u001b[0m\u001b[1;32m    230\u001b[0m         )\n\u001b[1;32m    231\u001b[0m \u001b[0;34m\u001b[0m\u001b[0m\n",
            "\u001b[0;32m/usr/local/lib/python3.7/dist-packages/pandas/io/common.py\u001b[0m in \u001b[0;36mget_handle\u001b[0;34m(path_or_buf, mode, encoding, compression, memory_map, is_text, errors, storage_options)\u001b[0m\n\u001b[1;32m    612\u001b[0m         \u001b[0mcompression\u001b[0m\u001b[0;34m=\u001b[0m\u001b[0mcompression\u001b[0m\u001b[0;34m,\u001b[0m\u001b[0;34m\u001b[0m\u001b[0;34m\u001b[0m\u001b[0m\n\u001b[1;32m    613\u001b[0m         \u001b[0mmode\u001b[0m\u001b[0;34m=\u001b[0m\u001b[0mmode\u001b[0m\u001b[0;34m,\u001b[0m\u001b[0;34m\u001b[0m\u001b[0;34m\u001b[0m\u001b[0m\n\u001b[0;32m--> 614\u001b[0;31m         \u001b[0mstorage_options\u001b[0m\u001b[0;34m=\u001b[0m\u001b[0mstorage_options\u001b[0m\u001b[0;34m,\u001b[0m\u001b[0;34m\u001b[0m\u001b[0;34m\u001b[0m\u001b[0m\n\u001b[0m\u001b[1;32m    615\u001b[0m     )\n\u001b[1;32m    616\u001b[0m \u001b[0;34m\u001b[0m\u001b[0m\n",
            "\u001b[0;32m/usr/local/lib/python3.7/dist-packages/pandas/io/common.py\u001b[0m in \u001b[0;36m_get_filepath_or_buffer\u001b[0;34m(filepath_or_buffer, encoding, compression, mode, storage_options)\u001b[0m\n\u001b[1;32m    310\u001b[0m         \u001b[0;31m# assuming storage_options is to be interpreted as headers\u001b[0m\u001b[0;34m\u001b[0m\u001b[0;34m\u001b[0m\u001b[0;34m\u001b[0m\u001b[0m\n\u001b[1;32m    311\u001b[0m         \u001b[0mreq_info\u001b[0m \u001b[0;34m=\u001b[0m \u001b[0murllib\u001b[0m\u001b[0;34m.\u001b[0m\u001b[0mrequest\u001b[0m\u001b[0;34m.\u001b[0m\u001b[0mRequest\u001b[0m\u001b[0;34m(\u001b[0m\u001b[0mfilepath_or_buffer\u001b[0m\u001b[0;34m,\u001b[0m \u001b[0mheaders\u001b[0m\u001b[0;34m=\u001b[0m\u001b[0mstorage_options\u001b[0m\u001b[0;34m)\u001b[0m\u001b[0;34m\u001b[0m\u001b[0;34m\u001b[0m\u001b[0m\n\u001b[0;32m--> 312\u001b[0;31m         \u001b[0;32mwith\u001b[0m \u001b[0murlopen\u001b[0m\u001b[0;34m(\u001b[0m\u001b[0mreq_info\u001b[0m\u001b[0;34m)\u001b[0m \u001b[0;32mas\u001b[0m \u001b[0mreq\u001b[0m\u001b[0;34m:\u001b[0m\u001b[0;34m\u001b[0m\u001b[0;34m\u001b[0m\u001b[0m\n\u001b[0m\u001b[1;32m    313\u001b[0m             \u001b[0mcontent_encoding\u001b[0m \u001b[0;34m=\u001b[0m \u001b[0mreq\u001b[0m\u001b[0;34m.\u001b[0m\u001b[0mheaders\u001b[0m\u001b[0;34m.\u001b[0m\u001b[0mget\u001b[0m\u001b[0;34m(\u001b[0m\u001b[0;34m\"Content-Encoding\"\u001b[0m\u001b[0;34m,\u001b[0m \u001b[0;32mNone\u001b[0m\u001b[0;34m)\u001b[0m\u001b[0;34m\u001b[0m\u001b[0;34m\u001b[0m\u001b[0m\n\u001b[1;32m    314\u001b[0m             \u001b[0;32mif\u001b[0m \u001b[0mcontent_encoding\u001b[0m \u001b[0;34m==\u001b[0m \u001b[0;34m\"gzip\"\u001b[0m\u001b[0;34m:\u001b[0m\u001b[0;34m\u001b[0m\u001b[0;34m\u001b[0m\u001b[0m\n",
            "\u001b[0;32m/usr/local/lib/python3.7/dist-packages/pandas/io/common.py\u001b[0m in \u001b[0;36murlopen\u001b[0;34m(*args, **kwargs)\u001b[0m\n\u001b[1;32m    210\u001b[0m     \u001b[0;32mimport\u001b[0m \u001b[0murllib\u001b[0m\u001b[0;34m.\u001b[0m\u001b[0mrequest\u001b[0m\u001b[0;34m\u001b[0m\u001b[0;34m\u001b[0m\u001b[0m\n\u001b[1;32m    211\u001b[0m \u001b[0;34m\u001b[0m\u001b[0m\n\u001b[0;32m--> 212\u001b[0;31m     \u001b[0;32mreturn\u001b[0m \u001b[0murllib\u001b[0m\u001b[0;34m.\u001b[0m\u001b[0mrequest\u001b[0m\u001b[0;34m.\u001b[0m\u001b[0murlopen\u001b[0m\u001b[0;34m(\u001b[0m\u001b[0;34m*\u001b[0m\u001b[0margs\u001b[0m\u001b[0;34m,\u001b[0m \u001b[0;34m**\u001b[0m\u001b[0mkwargs\u001b[0m\u001b[0;34m)\u001b[0m\u001b[0;34m\u001b[0m\u001b[0;34m\u001b[0m\u001b[0m\n\u001b[0m\u001b[1;32m    213\u001b[0m \u001b[0;34m\u001b[0m\u001b[0m\n\u001b[1;32m    214\u001b[0m \u001b[0;34m\u001b[0m\u001b[0m\n",
            "\u001b[0;32m/usr/lib/python3.7/urllib/request.py\u001b[0m in \u001b[0;36murlopen\u001b[0;34m(url, data, timeout, cafile, capath, cadefault, context)\u001b[0m\n\u001b[1;32m    220\u001b[0m     \u001b[0;32melse\u001b[0m\u001b[0;34m:\u001b[0m\u001b[0;34m\u001b[0m\u001b[0;34m\u001b[0m\u001b[0m\n\u001b[1;32m    221\u001b[0m         \u001b[0mopener\u001b[0m \u001b[0;34m=\u001b[0m \u001b[0m_opener\u001b[0m\u001b[0;34m\u001b[0m\u001b[0;34m\u001b[0m\u001b[0m\n\u001b[0;32m--> 222\u001b[0;31m     \u001b[0;32mreturn\u001b[0m \u001b[0mopener\u001b[0m\u001b[0;34m.\u001b[0m\u001b[0mopen\u001b[0m\u001b[0;34m(\u001b[0m\u001b[0murl\u001b[0m\u001b[0;34m,\u001b[0m \u001b[0mdata\u001b[0m\u001b[0;34m,\u001b[0m \u001b[0mtimeout\u001b[0m\u001b[0;34m)\u001b[0m\u001b[0;34m\u001b[0m\u001b[0;34m\u001b[0m\u001b[0m\n\u001b[0m\u001b[1;32m    223\u001b[0m \u001b[0;34m\u001b[0m\u001b[0m\n\u001b[1;32m    224\u001b[0m \u001b[0;32mdef\u001b[0m \u001b[0minstall_opener\u001b[0m\u001b[0;34m(\u001b[0m\u001b[0mopener\u001b[0m\u001b[0;34m)\u001b[0m\u001b[0;34m:\u001b[0m\u001b[0;34m\u001b[0m\u001b[0;34m\u001b[0m\u001b[0m\n",
            "\u001b[0;32m/usr/lib/python3.7/urllib/request.py\u001b[0m in \u001b[0;36mopen\u001b[0;34m(self, fullurl, data, timeout)\u001b[0m\n\u001b[1;32m    523\u001b[0m             \u001b[0mreq\u001b[0m \u001b[0;34m=\u001b[0m \u001b[0mmeth\u001b[0m\u001b[0;34m(\u001b[0m\u001b[0mreq\u001b[0m\u001b[0;34m)\u001b[0m\u001b[0;34m\u001b[0m\u001b[0;34m\u001b[0m\u001b[0m\n\u001b[1;32m    524\u001b[0m \u001b[0;34m\u001b[0m\u001b[0m\n\u001b[0;32m--> 525\u001b[0;31m         \u001b[0mresponse\u001b[0m \u001b[0;34m=\u001b[0m \u001b[0mself\u001b[0m\u001b[0;34m.\u001b[0m\u001b[0m_open\u001b[0m\u001b[0;34m(\u001b[0m\u001b[0mreq\u001b[0m\u001b[0;34m,\u001b[0m \u001b[0mdata\u001b[0m\u001b[0;34m)\u001b[0m\u001b[0;34m\u001b[0m\u001b[0;34m\u001b[0m\u001b[0m\n\u001b[0m\u001b[1;32m    526\u001b[0m \u001b[0;34m\u001b[0m\u001b[0m\n\u001b[1;32m    527\u001b[0m         \u001b[0;31m# post-process response\u001b[0m\u001b[0;34m\u001b[0m\u001b[0;34m\u001b[0m\u001b[0;34m\u001b[0m\u001b[0m\n",
            "\u001b[0;32m/usr/lib/python3.7/urllib/request.py\u001b[0m in \u001b[0;36m_open\u001b[0;34m(self, req, data)\u001b[0m\n\u001b[1;32m    541\u001b[0m         \u001b[0mprotocol\u001b[0m \u001b[0;34m=\u001b[0m \u001b[0mreq\u001b[0m\u001b[0;34m.\u001b[0m\u001b[0mtype\u001b[0m\u001b[0;34m\u001b[0m\u001b[0;34m\u001b[0m\u001b[0m\n\u001b[1;32m    542\u001b[0m         result = self._call_chain(self.handle_open, protocol, protocol +\n\u001b[0;32m--> 543\u001b[0;31m                                   '_open', req)\n\u001b[0m\u001b[1;32m    544\u001b[0m         \u001b[0;32mif\u001b[0m \u001b[0mresult\u001b[0m\u001b[0;34m:\u001b[0m\u001b[0;34m\u001b[0m\u001b[0;34m\u001b[0m\u001b[0m\n\u001b[1;32m    545\u001b[0m             \u001b[0;32mreturn\u001b[0m \u001b[0mresult\u001b[0m\u001b[0;34m\u001b[0m\u001b[0;34m\u001b[0m\u001b[0m\n",
            "\u001b[0;32m/usr/lib/python3.7/urllib/request.py\u001b[0m in \u001b[0;36m_call_chain\u001b[0;34m(self, chain, kind, meth_name, *args)\u001b[0m\n\u001b[1;32m    501\u001b[0m         \u001b[0;32mfor\u001b[0m \u001b[0mhandler\u001b[0m \u001b[0;32min\u001b[0m \u001b[0mhandlers\u001b[0m\u001b[0;34m:\u001b[0m\u001b[0;34m\u001b[0m\u001b[0;34m\u001b[0m\u001b[0m\n\u001b[1;32m    502\u001b[0m             \u001b[0mfunc\u001b[0m \u001b[0;34m=\u001b[0m \u001b[0mgetattr\u001b[0m\u001b[0;34m(\u001b[0m\u001b[0mhandler\u001b[0m\u001b[0;34m,\u001b[0m \u001b[0mmeth_name\u001b[0m\u001b[0;34m)\u001b[0m\u001b[0;34m\u001b[0m\u001b[0;34m\u001b[0m\u001b[0m\n\u001b[0;32m--> 503\u001b[0;31m             \u001b[0mresult\u001b[0m \u001b[0;34m=\u001b[0m \u001b[0mfunc\u001b[0m\u001b[0;34m(\u001b[0m\u001b[0;34m*\u001b[0m\u001b[0margs\u001b[0m\u001b[0;34m)\u001b[0m\u001b[0;34m\u001b[0m\u001b[0;34m\u001b[0m\u001b[0m\n\u001b[0m\u001b[1;32m    504\u001b[0m             \u001b[0;32mif\u001b[0m \u001b[0mresult\u001b[0m \u001b[0;32mis\u001b[0m \u001b[0;32mnot\u001b[0m \u001b[0;32mNone\u001b[0m\u001b[0;34m:\u001b[0m\u001b[0;34m\u001b[0m\u001b[0;34m\u001b[0m\u001b[0m\n\u001b[1;32m    505\u001b[0m                 \u001b[0;32mreturn\u001b[0m \u001b[0mresult\u001b[0m\u001b[0;34m\u001b[0m\u001b[0;34m\u001b[0m\u001b[0m\n",
            "\u001b[0;32m/usr/lib/python3.7/urllib/request.py\u001b[0m in \u001b[0;36mhttp_open\u001b[0;34m(self, req)\u001b[0m\n\u001b[1;32m   1376\u001b[0m \u001b[0;34m\u001b[0m\u001b[0m\n\u001b[1;32m   1377\u001b[0m     \u001b[0;32mdef\u001b[0m \u001b[0mhttp_open\u001b[0m\u001b[0;34m(\u001b[0m\u001b[0mself\u001b[0m\u001b[0;34m,\u001b[0m \u001b[0mreq\u001b[0m\u001b[0;34m)\u001b[0m\u001b[0;34m:\u001b[0m\u001b[0;34m\u001b[0m\u001b[0;34m\u001b[0m\u001b[0m\n\u001b[0;32m-> 1378\u001b[0;31m         \u001b[0;32mreturn\u001b[0m \u001b[0mself\u001b[0m\u001b[0;34m.\u001b[0m\u001b[0mdo_open\u001b[0m\u001b[0;34m(\u001b[0m\u001b[0mhttp\u001b[0m\u001b[0;34m.\u001b[0m\u001b[0mclient\u001b[0m\u001b[0;34m.\u001b[0m\u001b[0mHTTPConnection\u001b[0m\u001b[0;34m,\u001b[0m \u001b[0mreq\u001b[0m\u001b[0;34m)\u001b[0m\u001b[0;34m\u001b[0m\u001b[0;34m\u001b[0m\u001b[0m\n\u001b[0m\u001b[1;32m   1379\u001b[0m \u001b[0;34m\u001b[0m\u001b[0m\n\u001b[1;32m   1380\u001b[0m     \u001b[0mhttp_request\u001b[0m \u001b[0;34m=\u001b[0m \u001b[0mAbstractHTTPHandler\u001b[0m\u001b[0;34m.\u001b[0m\u001b[0mdo_request_\u001b[0m\u001b[0;34m\u001b[0m\u001b[0;34m\u001b[0m\u001b[0m\n",
            "\u001b[0;32m/usr/lib/python3.7/urllib/request.py\u001b[0m in \u001b[0;36mdo_open\u001b[0;34m(self, http_class, req, **http_conn_args)\u001b[0m\n\u001b[1;32m   1350\u001b[0m                           encode_chunked=req.has_header('Transfer-encoding'))\n\u001b[1;32m   1351\u001b[0m             \u001b[0;32mexcept\u001b[0m \u001b[0mOSError\u001b[0m \u001b[0;32mas\u001b[0m \u001b[0merr\u001b[0m\u001b[0;34m:\u001b[0m \u001b[0;31m# timeout error\u001b[0m\u001b[0;34m\u001b[0m\u001b[0;34m\u001b[0m\u001b[0m\n\u001b[0;32m-> 1352\u001b[0;31m                 \u001b[0;32mraise\u001b[0m \u001b[0mURLError\u001b[0m\u001b[0;34m(\u001b[0m\u001b[0merr\u001b[0m\u001b[0;34m)\u001b[0m\u001b[0;34m\u001b[0m\u001b[0;34m\u001b[0m\u001b[0m\n\u001b[0m\u001b[1;32m   1353\u001b[0m             \u001b[0mr\u001b[0m \u001b[0;34m=\u001b[0m \u001b[0mh\u001b[0m\u001b[0;34m.\u001b[0m\u001b[0mgetresponse\u001b[0m\u001b[0;34m(\u001b[0m\u001b[0;34m)\u001b[0m\u001b[0;34m\u001b[0m\u001b[0;34m\u001b[0m\u001b[0m\n\u001b[1;32m   1354\u001b[0m         \u001b[0;32mexcept\u001b[0m\u001b[0;34m:\u001b[0m\u001b[0;34m\u001b[0m\u001b[0;34m\u001b[0m\u001b[0m\n",
            "\u001b[0;31mURLError\u001b[0m: <urlopen error [Errno 110] Connection timed out>"
          ]
        }
      ],
      "source": [
        "def reduce_mem_usage(df):\n",
        "    \"\"\"\n",
        "    iterate through all the columns of a dataframe and modify the data type to reduce memory usage.\n",
        "    fonte: https://www.kaggle.com/valleyzw/ubiquant-lgbm-baseline  \n",
        "    \"\"\"\n",
        "    start_mem = df.memory_usage().sum() / 1024 ** 2\n",
        "    print('Memory usage of dataframe is {:.2f} MB'.format(start_mem))\n",
        "    \n",
        "    for col in tqdm([x for x in df.columns if 'NU_NOTA_' not in x]):\n",
        "        col_type = df[col].dtype\n",
        "        \n",
        "        if col_type != object:\n",
        "            c_min = df[col].min()\n",
        "            c_max = df[col].max()\n",
        "            if str(col_type)[:3] == 'int':\n",
        "                if c_min > np.iinfo(np.int8).min and c_max < np.iinfo(np.int8).max:\n",
        "                    df[col] = df[col].astype(np.int8)\n",
        "                elif c_min > np.iinfo(np.int16).min and c_max < np.iinfo(np.int16).max:\n",
        "                    df[col] = df[col].astype(np.int16)\n",
        "                elif c_min > np.iinfo(np.int32).min and c_max < np.iinfo(np.int32).max:\n",
        "                    df[col] = df[col].astype(np.int32)\n",
        "                elif c_min > np.iinfo(np.int64).min and c_max < np.iinfo(np.int64).max:\n",
        "                    df[col] = df[col].astype(np.int64)  \n",
        "            else:\n",
        "                if c_min > np.finfo(np.float16).min and c_max < np.finfo(np.float16).max:\n",
        "                    df[col] = df[col].astype(np.float16)\n",
        "                elif c_min > np.finfo(np.float32).min and c_max < np.finfo(np.float32).max:\n",
        "                    df[col] = df[col].astype(np.float32)\n",
        "                else:\n",
        "                    df[col] = df[col].astype(np.float64)\n",
        "        else:\n",
        "            df[col] = df[col].astype('category')\n",
        "\n",
        "    end_mem = df.memory_usage().sum() / 1024 ** 2\n",
        "    print('Memory usage after optimization is: {:.2f} MB'.format(end_mem))\n",
        "    print('Decreased by {:.1f}%'.format(100 * (start_mem - end_mem) / start_mem))\n",
        "    \n",
        "    return df\n",
        " \n",
        "\n",
        "def show_missings(df):\n",
        "    '''\n",
        "    mostra porcentagem de missings no dataframe\n",
        "    '''\n",
        "    percent_missing = df.isnull().sum() * 100 / len(df)\n",
        "    missing_value_df = pd.DataFrame({'column_name': df.columns,\n",
        "                                     'percent_missing': percent_missing})\n",
        "\n",
        "    missing_value_df = missing_value_df.sort_values('percent_missing', ascending=False).round(2)\n",
        "    return (missing_value_df)\n",
        "\n",
        "\n",
        "def leitura_dados(path_train, path_test, sample_frac=-1):\n",
        "    '''\n",
        "    método para leitura dos datasets\n",
        "    '''\n",
        "    if sample_frac == -1:\n",
        "      df_desenv = reduce_mem_usage(pd.read_csv(path_train))\n",
        "    else:\n",
        "      df_desenv = reduce_mem_usage(pd.read_csv(path_train).sample(frac=sample_frac))\n",
        "    df_submit = reduce_mem_usage(pd.read_csv(path_test))\n",
        "    return (df_desenv, df_submit)\n",
        "        \n",
        "\n",
        "def rmse_score(true, pred):\n",
        "    '''\n",
        "    rmse score\n",
        "    '''\n",
        "    return (sqrt(mean_squared_error(true, pred)))\n",
        "\n",
        "\n",
        "def map_cor_raca(cor_raca):\n",
        "    '''\n",
        "    mapeia cor/raca de acordo com o metadados fornecido\n",
        "    '''\n",
        "    if cor_raca == 0:\n",
        "        return 'Não informado'\n",
        "    elif cor_raca == 1:\n",
        "        return 'Branca'\n",
        "    elif cor_raca == 2:\n",
        "        return 'Preta'\n",
        "    elif cor_raca == 3:\n",
        "        return 'Parda'\n",
        "    elif cor_raca == 4:\n",
        "        return 'Amarela'\n",
        "    elif cor_raca == 5:\n",
        "        return 'Indígena'\n",
        "    else:\n",
        "        return ''\n",
        "\n",
        "\n",
        "def map_estado_civil(estado_civil):\n",
        "    '''\n",
        "    mapeia estado civil de acordo com o metadados fornecido\n",
        "    '''\n",
        "    if estado_civil == 0:\n",
        "        return 'Não informado'\n",
        "    elif estado_civil == 1:\n",
        "        return 'Solteiro(a)'\n",
        "    elif estado_civil == 2:\n",
        "        return 'Casado(a)/Mora com companheiro(a)'\n",
        "    elif estado_civil == 3:\n",
        "        return 'Divorciado(a)/Desquitado(a)/Separado(a)'\n",
        "    elif estado_civil == 4:\n",
        "        return 'Viúvo(a)'\n",
        "    else:\n",
        "        return ''\n",
        "\n",
        "\n",
        "def gerar_painel_barra(data_frame,\n",
        "                      var,\n",
        "                      hue,\n",
        "                      title = '',\n",
        "                      title_subplot_1 = '',\n",
        "                      title_subplot_2 = '',\n",
        "                      legend_subplot_2 = '',\n",
        "                      xlabel = 'Quantidade',\n",
        "                      ylabel = '',\n",
        "                      figsize = (12, 6)\n",
        "                      ):\n",
        "  '''\n",
        "  gera gráfico de barras\n",
        "  '''\n",
        "  fig, ax = plt.subplots(1, 2, figsize = figsize)\n",
        "  sns.countplot(data = data_frame,\n",
        "                y = var,\n",
        "                ax = ax[0])\n",
        "  sns.countplot(data = data_frame,\n",
        "                y = var,\n",
        "                hue = hue,\n",
        "                ax = ax[1])\n",
        "  ax[0].set(ylabel = ylabel, xlabel = xlabel, title = title_subplot_1)\n",
        "  ax[1].set(ylabel = ylabel, xlabel = xlabel, title = title_subplot_2)\n",
        "  ax[1].legend(title = legend_subplot_2)\n",
        "  fig.suptitle(title)\n",
        "  fig.tight_layout(pad = 4)\n",
        "\n",
        "\n",
        "def print_importancias_lasso(df, coef):\n",
        "  '''\n",
        "  importância das variáveis explicativas do modelo lasso\n",
        "  '''\n",
        "  for e in sorted (list(zip(list(df), coef)), key = lambda e: -abs(e[1])):\n",
        "    if e[1] != 0:\n",
        "      print('\\t{}, {:.3f}'.format(e[0], e[1]))\n",
        "\n",
        "\n",
        "def percentile(n):\n",
        "    '''\n",
        "    retorna percentil\n",
        "    '''\n",
        "    def percentile_(x):\n",
        "        return x.quantile(n)\n",
        "    percentile_.__name__ = 'percentile_{:2.0f}'.format(n*100)\n",
        "    return percentile_\n",
        "\n",
        "\n",
        "def estatistica_descritiva_por_estado(df, metrica, localizacao_estado = geobr.read_state(year = 2019)):\n",
        "  \"Calcula alguma estatística descritiva para as notas do Enem por estado.\"\n",
        "  # provas do dataset de base\n",
        "  provas = ['NU_NOTA_CN', 'NU_NOTA_CH', 'NU_NOTA_LC', 'NU_NOTA_MT', 'NU_NOTA_REDACAO']\n",
        "  # obtém os resultados por estado conforme medida estatística inserida\n",
        "  df = df.groupby(by = 'SG_UF_RESIDENCIA', as_index = False)[provas].agg(metrica)\n",
        "  # geolocalização\n",
        "  df = gpd.GeoDataFrame(pd.merge(\n",
        "    df,\n",
        "    localizacao_estado,\n",
        "    left_on = 'SG_UF_RESIDENCIA',\n",
        "    right_on = 'abbrev_state',\n",
        "    how = 'inner'))\n",
        "  \n",
        "  return df\n",
        "\n",
        "def plot_mapa_estado(df, estatistica_descritiva = np.mean, title = '', cmap = 'BuPu'):\n",
        "  '''\n",
        "  gera mapa heatmap para o Brasil populado com a estatística descritiva de interesse\n",
        "  '''\n",
        "  # cria o DataFrame conforme estatística descritiva definida\n",
        "  df = estatistica_descritiva_por_estado(df=df, metrica = estatistica_descritiva)\n",
        "  # labels para o pllot\n",
        "  labels_provas = ['Ciências da Natureza', 'Ciências Humanas', 'Linguagens', 'Matemática', 'Redação']\n",
        "  # colunas referentes a prova\n",
        "  provas = ['NU_NOTA_CN', 'NU_NOTA_CH', 'NU_NOTA_LC', 'NU_NOTA_MT', 'NU_NOTA_REDACAO']\n",
        "  # cria a figura\n",
        "  fig, ax = plt.subplots(1, 5, figsize = (20, 20))\n",
        "  # itera na lista de provas e cria o mapa\n",
        "  for index, prova in enumerate(provas):\n",
        "    df.plot(\n",
        "        column = prova,\n",
        "        cmap = cmap,\n",
        "        edgecolor = 'lightgray',\n",
        "        lw = 0.3,\n",
        "        ax = ax[index],\n",
        "        legend=True,\n",
        "        legend_kwds = {'shrink': 0.08}\n",
        "        )\n",
        "    # remove marcações dos eixos\n",
        "    ax[index].axis('off')\n",
        "    # labels\n",
        "    ax[index].set_title(labels_provas[index], fontsize  = 10)\n",
        "\n",
        "  fig.suptitle(title, y = 0.6 , weight = 'bold')\n",
        "  fig.tight_layout(pad = 2);\n",
        "\n",
        "\n",
        "def Gerar_Grafico_Economico(Coluna):\n",
        "  '''\n",
        "  Função para gerar gráfico socio economico\n",
        "  '''\n",
        "\n",
        "  # Posicao\n",
        "  Posicao_Index = 1\n",
        "\n",
        "  # Ordenando os dados\n",
        "  Filtro = Analise_Econominca.sort_values(by=str(Coluna))\n",
        "\n",
        "  # Tamanho da Imagem\n",
        "  fig, ax = plt.subplots(figsize=(18, 15))\n",
        "\n",
        "  # Cor de fundo\n",
        "  Cor_Fundo = \"#F5F4EF\"\n",
        "  ax.set_facecolor(Cor_Fundo)\n",
        "  fig.set_facecolor(Cor_Fundo)\n",
        "\n",
        "  # Paleta de Cores\n",
        "  Paleta_Cores = sns.color_palette('flare', 7)\n",
        "\n",
        "  # Estilo do gráfico\n",
        "  plt.style.use('seaborn-darkgrid')\n",
        "\n",
        "  # Incluindo o Titulo na Figura\n",
        "  plt.suptitle(f'Dados do Questionário Socieconômico | {Coluna}', \n",
        "             fontsize=22, color='#404040', fontfamily='KyivType Sans', fontweight=600 )\n",
        "\n",
        "  # Loop plotar os gráficos\n",
        "  for Grafico in Analise_Econominca[lista_targets]:\n",
        "\n",
        "    # Retiando qlq valor zerado\n",
        "    Filtro = Filtro.loc[ Filtro[Grafico] > 0 ]\n",
        "\n",
        "    # Posição do Plot\n",
        "    plt.subplot( 5, 1, Posicao_Index )\n",
        "\n",
        "    # Plot\n",
        "    sns.boxplot( data=Filtro, x=str(Coluna), y=Grafico, showmeans = True, linewidth=1, width=0.4, color=Paleta_Cores[Posicao_Index] )\n",
        "    sns.stripplot( data=Filtro, x=str(Coluna), y=Grafico, size=0.3, color='0.1', linewidth=0 )\n",
        "\n",
        "    # Titulo\n",
        "    plt.title(f'Análise {Grafico}', loc='left', fontsize=14, fontweight=200)\n",
        "\n",
        "    # Labels\n",
        "    plt.ylabel('Nota de 0 - 1000')\n",
        "    plt.xlabel('Resposta dos participantes')\n",
        "\n",
        "    # Ajustando distancias dos gráficos no relatorio\n",
        "    plt.subplots_adjust(left=0.1, bottom=0.1, right=0.9, top=0.94, wspace=0.2, hspace=0.25);\n",
        "\n",
        "    # Troca index do Gráfico\n",
        "    Posicao_Index += 1"
      ]
    },
    {
      "cell_type": "markdown",
      "metadata": {
        "id": "dlu6udautIq2"
      },
      "source": [
        "## Leitura de Dados"
      ]
    },
    {
      "cell_type": "markdown",
      "metadata": {
        "id": "YNHHKneXtIq3"
      },
      "source": [
        "##### Dataset de desenvolvimento do modelo"
      ]
    },
    {
      "cell_type": "code",
      "execution_count": null,
      "metadata": {
        "colab": {
          "background_save": true
        },
        "id": "uoLFUvHDtIq4"
      },
      "outputs": [],
      "source": [
        "path_input_train='/content/gdrive/MyDrive/ML_Olympiad_Kaggle/train.csv'\n",
        "path_input_test='/content/gdrive/MyDrive/ML_Olympiad_Kaggle/test.csv'\n",
        "path_output_submission='/content/gdrive/MyDrive/ML_Olympiad_Kaggle/df_submit_baseline.csv'\n",
        "\n",
        "df_desenv, df_submit = leitura_dados(path_input_train, path_input_test, sample_frac=0.1)\n",
        "print (df_desenv.shape, df_submit.shape)"
      ]
    },
    {
      "cell_type": "code",
      "execution_count": null,
      "metadata": {
        "colab": {
          "background_save": true
        },
        "id": "iVlQ5_xntIq5"
      },
      "outputs": [],
      "source": [
        "df_desenv.head()"
      ]
    },
    {
      "cell_type": "code",
      "execution_count": null,
      "metadata": {
        "colab": {
          "background_save": true
        },
        "id": "4RmP_xXqtIq5"
      },
      "outputs": [],
      "source": [
        "df_submit.head()"
      ]
    },
    {
      "cell_type": "markdown",
      "metadata": {
        "id": "M329znaktIq6"
      },
      "source": [
        "## Análise Exploratória de Dados"
      ]
    },
    {
      "cell_type": "code",
      "execution_count": null,
      "metadata": {
        "colab": {
          "background_save": true
        },
        "id": "l0A25o8LtIq6"
      },
      "outputs": [],
      "source": [
        "# descritivo das variáveis do dataset\n",
        "df_desenv.describe()"
      ]
    },
    {
      "cell_type": "code",
      "execution_count": null,
      "metadata": {
        "colab": {
          "background_save": true
        },
        "id": "kTj7mfH2wrG2"
      },
      "outputs": [],
      "source": [
        "df_desenv.info()"
      ]
    },
    {
      "cell_type": "code",
      "execution_count": null,
      "metadata": {
        "colab": {
          "background_save": true
        },
        "id": "Oiora5TctIq7"
      },
      "outputs": [],
      "source": [
        "# tipo das variáveis do dataset\n",
        "df_desenv.dtypes"
      ]
    },
    {
      "cell_type": "code",
      "execution_count": null,
      "metadata": {
        "colab": {
          "background_save": true
        },
        "id": "XLZImXSGtIq7"
      },
      "outputs": [],
      "source": [
        "# lista de variáveis do dataset\n",
        "df_desenv.columns.tolist()"
      ]
    },
    {
      "cell_type": "code",
      "execution_count": null,
      "metadata": {
        "colab": {
          "background_save": true
        },
        "id": "XJTE5x2otIq7"
      },
      "outputs": [],
      "source": [
        "# colunas do target\n",
        "df_desenv[lista_targets].head()"
      ]
    },
    {
      "cell_type": "code",
      "execution_count": null,
      "metadata": {
        "colab": {
          "background_save": true
        },
        "id": "435uQJJ1tIq8"
      },
      "outputs": [],
      "source": [
        "# porcentagem de dados faltantes (missings) no dataset\n",
        "show_missings(df_desenv)"
      ]
    },
    {
      "cell_type": "code",
      "execution_count": null,
      "metadata": {
        "colab": {
          "background_save": true
        },
        "id": "UklMCz4_w2AM"
      },
      "outputs": [],
      "source": [
        "# quantidade de valores únicos em cada coluna\n",
        "df_desenv.nunique()"
      ]
    },
    {
      "cell_type": "code",
      "execution_count": null,
      "metadata": {
        "colab": {
          "background_save": true
        },
        "id": "Vgk0Aj55a1Da"
      },
      "outputs": [],
      "source": [
        "# frequência dos inscritos no Enem por UF\n",
        "# Através das análises, é possível observar que a maioria dos inscritos é de São Paulo (16%), seguido de Minas Gerais (10,5%) e Bahia (7,7%)\n",
        "df_desenv['SG_UF_RESIDENCIA'].value_counts(dropna=False, ascending=False, normalize=True)"
      ]
    },
    {
      "cell_type": "code",
      "execution_count": null,
      "metadata": {
        "colab": {
          "background_save": true
        },
        "id": "y0t2P-NHa9Cp"
      },
      "outputs": [],
      "source": [
        "# Correlação entre as notas das provas do Enem\n",
        "fig, ax = plt.subplots()\n",
        "corr_provas = df_desenv[lista_targets].corr()\n",
        "sns.heatmap(corr_provas, annot=True, cmap = 'Blues', ax = ax);"
      ]
    },
    {
      "cell_type": "markdown",
      "metadata": {
        "id": "mMBUSs5zocdU"
      },
      "source": [
        "### Análises Visuais"
      ]
    },
    {
      "cell_type": "code",
      "execution_count": null,
      "metadata": {
        "colab": {
          "background_save": true
        },
        "id": "0WD6Fi9YY7Y7"
      },
      "outputs": [],
      "source": [
        "# Boxplot das notas do Enem\n",
        "fig, ax = plt.subplots(figsize = (10, 10))\n",
        "sns.boxplot(data = df_desenv[lista_targets], ax = ax);"
      ]
    },
    {
      "cell_type": "code",
      "execution_count": null,
      "metadata": {
        "colab": {
          "background_save": true
        },
        "id": "CAxmqEqYY_L7"
      },
      "outputs": [],
      "source": [
        "# Analisando Residencia x Notas\n",
        "Analise_Target = df_desenv[['SG_UF_RESIDENCIA', 'NU_NOTA_CN', 'NU_NOTA_CH', 'NU_NOTA_LC', 'NU_NOTA_MT', 'NU_NOTA_REDACAO']]\n",
        "\n",
        "# Criando o relátorio\n",
        "fig, axs = plt.subplots(3, 2, figsize=(15, 10))\n",
        "\n",
        "# Plotando as notas em histogramas\n",
        "sns.histplot(data=Analise_Target, x='NU_NOTA_CN', color='skyblue', bins=100, ax=axs[0, 0])\n",
        "sns.histplot(data=Analise_Target, x='NU_NOTA_CH', color='olive', bins=100, ax=axs[0, 1])\n",
        "sns.histplot(data=Analise_Target, x='NU_NOTA_LC', color='gold', bins=100, ax=axs[1, 0])\n",
        "sns.histplot(data=Analise_Target, x='NU_NOTA_MT', color='teal', bins=100, ax=axs[1, 1])\n",
        "sns.histplot(data=Analise_Target, x='NU_NOTA_REDACAO', color='olive', bins=50, ax=axs[2, 0])\n",
        "axs[2, 1].set_axis_off()\n",
        "\n",
        "# Incluindo o Titulo na Figura\n",
        "plt.suptitle('Distribuição das notas para cada prova', fontsize=22, color='#404040', fontweight=600);"
      ]
    },
    {
      "cell_type": "code",
      "execution_count": null,
      "metadata": {
        "colab": {
          "background_save": true
        },
        "id": "yHEqzvPIQCGF"
      },
      "outputs": [],
      "source": [
        "print ('Idade média:', round(df_desenv['NU_IDADE'].mean(), 2))\n",
        "print ('Idade mediana:', round(df_desenv['NU_IDADE'].median(), 2))\n",
        "print ('Idade mais frequente (moda):', round(df_desenv['NU_IDADE'].mode()[0], 2))\n",
        "plt.hist(df_desenv['NU_IDADE'], bins=50);\n",
        "plt.title('Perfil etário dos inscritos no Enem');"
      ]
    },
    {
      "cell_type": "code",
      "execution_count": null,
      "metadata": {
        "colab": {
          "background_save": true
        },
        "id": "Yf6pcrTfP5cu"
      },
      "outputs": [],
      "source": [
        "sns.countplot(x='TP_SEXO', data=df_desenv)\n",
        "plt.title('Distribuição de Gênero dos inscritos');"
      ]
    },
    {
      "cell_type": "code",
      "execution_count": null,
      "metadata": {
        "colab": {
          "background_save": true
        },
        "id": "vdUTcE5DP5fm"
      },
      "outputs": [],
      "source": [
        "df_desenv['MAP_TP_COR_RACA'] = df_desenv['TP_COR_RACA'].apply(map_cor_raca)\n",
        "gerar_painel_barra(df_desenv, 'MAP_TP_COR_RACA', 'TP_SEXO', \n",
        "                   title = 'Perfil de cor e raça dos inscritos',\n",
        "                   title_subplot_1 = 'Cor/raça',\n",
        "                   title_subplot_2 = 'Cor/raça por gênero',\n",
        "                   legend_subplot_2 = 'Gênero',\n",
        "                   ylabel = 'Cor/raça')"
      ]
    },
    {
      "cell_type": "code",
      "execution_count": null,
      "metadata": {
        "colab": {
          "background_save": true
        },
        "id": "PllgfBhQTj9k"
      },
      "outputs": [],
      "source": [
        "df_desenv['MAP_TP_ESTADO_CIVIL'] = df_desenv['TP_ESTADO_CIVIL'].apply(map_estado_civil)\n",
        "        \n",
        "fig, ax = plt.subplots(1,2, figsize = (12, 6))\n",
        "sns.countplot(data = df_desenv,\n",
        "             y = 'MAP_TP_ESTADO_CIVIL', ax = ax[0])\n",
        "sns.countplot(data = df_desenv,\n",
        "             y = 'MAP_TP_ESTADO_CIVIL', hue = 'TP_SEXO', ax = ax[1])\n",
        "ax[0].set(ylabel = 'Estado Civil', xlabel = 'Quantidade',title = 'Estado civil')\n",
        "ax[1].set(ylabel = 'Estado Civil', xlabel = 'Quantidade',title = 'Estado civil por gênero')\n",
        "ax[1].legend(title = 'Gênero')\n",
        "fig.suptitle('Estado civil dos inscritos')\n",
        "fig.tight_layout(pad = 4);"
      ]
    },
    {
      "cell_type": "code",
      "execution_count": null,
      "metadata": {
        "colab": {
          "background_save": true
        },
        "id": "K6VJlMMVuycT"
      },
      "outputs": [],
      "source": [
        "# Calcula a quantidade de inscritos em cada estado (amostra)\n",
        "# Através dessa análise, podemos concluir que a maria dos inscritos é de São Paulo\n",
        "df_inscritos_por_estado = df_desenv.groupby(by = 'SG_UF_RESIDENCIA')[['SG_UF_RESIDENCIA']].count()\\\n",
        ".rename(columns = {'SG_UF_RESIDENCIA': 'quantidade_inscritos'})\\\n",
        ".reset_index()\\\n",
        ".sort_values(by = 'quantidade_inscritos', ascending = False)\n",
        "\n",
        "# inscritos por estado com geolocalização\n",
        "df_inscritos_por_estado_spatial_data = gpd.GeoDataFrame(pd.merge(\n",
        "    df_inscritos_por_estado,\n",
        "    geobr.read_state(year = 2019),\n",
        "    left_on = 'SG_UF_RESIDENCIA',\n",
        "    right_on = 'abbrev_state',\n",
        "    how = 'inner'\n",
        "))\n",
        "\n",
        "fig, ax = plt.subplots(figsize = (10, 8))\n",
        "df_inscritos_por_estado_spatial_data.plot(\n",
        "    column = 'quantidade_inscritos',\n",
        "    cmap = 'Blues',\n",
        "    legend = True,\n",
        "    legend_kwds= {\n",
        "        \"label\": \"Quantidade de inscritos\",\n",
        "        \"orientation\": \"horizontal\",\n",
        "        \"shrink\": 0.4,\n",
        "    },\n",
        "    edgecolor = 'lightgray',\n",
        "    lw = 0.3,\n",
        "    ax = ax\n",
        ")\n",
        "\n",
        "ax.set_title('Quantidade de inscritos no Enem por estado')\n",
        "ax.axis('off');"
      ]
    },
    {
      "cell_type": "code",
      "execution_count": null,
      "metadata": {
        "colab": {
          "background_save": true
        },
        "id": "9MP3efCOvJvu"
      },
      "outputs": [],
      "source": [
        "# Calcula a nota média de cada prova por estado\n",
        "# Através dessa análise, podemos concluir as regiões Sul e Sudeste possuem as maiores notas médias, e a região Norte as menores\n",
        "plot_mapa_estado(df_desenv, np.mean, 'Média das notas por estado', 'hot_r')"
      ]
    },
    {
      "cell_type": "code",
      "execution_count": null,
      "metadata": {
        "colab": {
          "background_save": true
        },
        "id": "1BHhYP6avYET"
      },
      "outputs": [],
      "source": [
        "# Calcula a nota percentil 99 de cada prova por estado\n",
        "# Através dessa análise, podemos concluir a região Sudeste possuem as maiores notas do percentil 99, e a região Norte as menores\n",
        "plot_mapa_estado(df_desenv, percentile(0.99), 'Percentil 99 das notas por estado', 'hot_r')"
      ]
    },
    {
      "cell_type": "code",
      "execution_count": null,
      "metadata": {
        "colab": {
          "background_save": true
        },
        "id": "o85rQqUcvJ2U"
      },
      "outputs": [],
      "source": [
        ""
      ]
    },
    {
      "cell_type": "code",
      "execution_count": null,
      "metadata": {
        "colab": {
          "background_save": true
        },
        "id": "-dD_KEkFQvOt"
      },
      "outputs": [],
      "source": [
        "print('Até que série seu pai, ou o homem responsável por você, estudou? \\n')\n",
        "Analise_Econominca = df_desenv[Variaveis_Socio_Economico + lista_targets] \n",
        "Gerar_Grafico_Economico('Q001')"
      ]
    },
    {
      "cell_type": "code",
      "execution_count": null,
      "metadata": {
        "colab": {
          "background_save": true
        },
        "id": "S5JldUPkR-B7"
      },
      "outputs": [],
      "source": [
        "print('Até que série sua mãe, ou a mulher responsável por você, estudou? \\n')\n",
        "Gerar_Grafico_Economico('Q002')"
      ]
    },
    {
      "cell_type": "code",
      "execution_count": null,
      "metadata": {
        "colab": {
          "background_save": true
        },
        "id": "v-LUEhfrR-EA"
      },
      "outputs": [],
      "source": [
        "print('A partir da apresentação de algumas ocupações divididas em grupos ordenados, indique o grupo que contempla a ocupação mais próxima da ocupação do seu pai ou do homem responsável por você. (Se ele não estiver trabalhando, escolha uma ocupação pensando no último trabalho dele). \\n')\n",
        "Gerar_Grafico_Economico('Q003')"
      ]
    },
    {
      "cell_type": "code",
      "execution_count": null,
      "metadata": {
        "colab": {
          "background_save": true
        },
        "id": "na3RornySDAO"
      },
      "outputs": [],
      "source": [
        "print('A partir da apresentação de algumas ocupações divididas em grupos ordenados, \\n indique o grupo que contempla a ocupação mais próxima da ocupação da sua mãe ou da mulher responsável por você. (Se ela não estiver trabalhando, \\n escolha uma ocupação pensando no último trabalho dela). \\n')\n",
        "Gerar_Grafico_Economico('Q004')"
      ]
    },
    {
      "cell_type": "code",
      "execution_count": null,
      "metadata": {
        "colab": {
          "background_save": true
        },
        "id": "ZyzfnP1iSDDo"
      },
      "outputs": [],
      "source": [
        "print('Incluindo você, quantas pessoas moram atualmente em sua residência? \\n')\n",
        "Gerar_Grafico_Economico('Q005')"
      ]
    },
    {
      "cell_type": "code",
      "execution_count": null,
      "metadata": {
        "colab": {
          "background_save": true
        },
        "id": "7nPKD4ZSSDFH"
      },
      "outputs": [],
      "source": [
        "print('Qual é a renda mensal de sua família? (Some a sua renda com a dos seus familiares.) \\n')\n",
        "Gerar_Grafico_Economico('Q006')"
      ]
    },
    {
      "cell_type": "code",
      "execution_count": null,
      "metadata": {
        "colab": {
          "background_save": true
        },
        "id": "00Fh4N-qQvR2"
      },
      "outputs": [],
      "source": [
        "# Analisando Residência x Notas na prova do Enem\n",
        "Analise_UF = df_desenv[['SG_UF_RESIDENCIA', 'NU_NOTA_CN', 'NU_NOTA_CH', 'NU_NOTA_LC', 'NU_NOTA_MT', 'NU_NOTA_REDACAO']]\n",
        "\n",
        "# Tamanho da Imagem\n",
        "fig, ax = plt.subplots(figsize=(20, 10))\n",
        "\n",
        "# Cor de fundo\n",
        "Cor_Fundo = \"#F5F4EF\"\n",
        "ax.set_facecolor(Cor_Fundo)\n",
        "fig.set_facecolor(Cor_Fundo)\n",
        "\n",
        "# Estilo do gráfico\n",
        "plt.style.use('seaborn-darkgrid')\n",
        "\n",
        "# Posição do Plot\n",
        "plt.subplot(2, 1, 1)\n",
        "\n",
        "# Plot\n",
        "plt.plot(Analise_UF.groupby( by='SG_UF_RESIDENCIA').median(), linewidth=4, alpha=0.7)\n",
        "\n",
        "# Titulo\n",
        "plt.title('Mediana das provas por Estado', loc='left', fontsize=14, fontweight=0)\n",
        "\n",
        "# Labels\n",
        "plt.xlabel('Estados', fontsize=14 )\n",
        "plt.ylabel('Nota de 0 - 1000', fontsize=14)\n",
        "\n",
        "# Legenda\n",
        "plt.legend( ['NU_NOTA_CN', 'NU_NOTA_CH', 'NU_NOTA_LC', 'NU_NOTA_MT', 'NU_NOTA_REDACAO'], \n",
        "           ncol=5, fontsize=12, loc='upper center', bbox_to_anchor=(0.5, -0.1), shadow=True )\n",
        "\n",
        "# Posição do Plot\n",
        "plt.subplot( 2, 1, 2 )\n",
        "\n",
        "# Plot\n",
        "plt.plot( Analise_UF.groupby( by='SG_UF_RESIDENCIA').mean(), linewidth=4, alpha=0.7 )\n",
        "\n",
        "# Titulo\n",
        "plt.title('Média das provas por Estado', loc='left', fontsize=14, fontweight=0)\n",
        "\n",
        "# Labels\n",
        "plt.xlabel('Estados', fontsize=14)\n",
        "plt.ylabel('Nota de 0 - 1000', fontsize=14)\n",
        "\n",
        "# Legenda\n",
        "plt.legend( ['NU_NOTA_CN', 'NU_NOTA_CH', 'NU_NOTA_LC', 'NU_NOTA_MT', 'NU_NOTA_REDACAO'], \n",
        "           ncol=5, fontsize=12, loc='upper center', bbox_to_anchor=(0.5, -0.1), shadow=True )\n",
        "\n",
        "# Ajustando distancias dos gráficos no relatorio\n",
        "plt.subplots_adjust(left=0.1, bottom=0.1, right=0.9, top=0.91, wspace=0.2, hspace=0.4)\n",
        "\n",
        "# Incluindo o Titulo na Figura\n",
        "plt.suptitle('Média/Media por Estado do participante', \n",
        "             fontsize=22, color='#404040', fontfamily='KyivType Sans', fontweight=600 );"
      ]
    },
    {
      "cell_type": "code",
      "execution_count": null,
      "metadata": {
        "colab": {
          "background_save": true
        },
        "id": "_5ZZAxDFQvUU"
      },
      "outputs": [],
      "source": [
        "# Tamanho da Imagem\n",
        "fig, ax = plt.subplots(figsize=(20, 25))\n",
        "\n",
        "# Cor de fundo\n",
        "Cor_Fundo = \"#F5F4EF\"\n",
        "ax.set_facecolor(Cor_Fundo)\n",
        "fig.set_facecolor(Cor_Fundo)\n",
        "\n",
        "# Estilo do gráfico\n",
        "plt.style.use('seaborn-darkgrid')\n",
        "\n",
        "# Lista de Paletas de Cores\n",
        "Paleta_Cores = sns.color_palette('flare', 30)\n",
        "\n",
        "# Dimensão do relatório\n",
        "Quantidade_Linhas = round (Analise_UF['SG_UF_RESIDENCIA'].nunique() / 4 ) + 1\n",
        "Colunas = 4\n",
        "\n",
        "# Loop para criar o gráfico\n",
        "for Posicao, Estado in enumerate( sorted( list( Analise_UF['SG_UF_RESIDENCIA'].unique() ) ) + list(['Geral']) ):\n",
        "    \n",
        "    # Pisção do GRáfico\n",
        "    plt.subplot( Quantidade_Linhas, Colunas, Posicao + 1 )\n",
        "    \n",
        "    # Condição\n",
        "    if Estado != 'Geral':\n",
        "        # Filtro do Estado\n",
        "        Nota_Matematica = Analise_UF.loc[ \n",
        "            ( Analise_UF['SG_UF_RESIDENCIA'] == Estado ) & ( Analise_UF['NU_NOTA_MT'] > 0 ) ]['NU_NOTA_MT']\n",
        "        \n",
        "        # Titulo do gráfico\n",
        "        plt.title(f'Nota de Matemática do Estado: {Estado}', loc='left', fontsize=14, fontweight=100 )\n",
        "        \n",
        "    else:\n",
        "        # Filtro para todos Estados\n",
        "        Nota_Matematica = Analise_UF.loc[ ( Analise_UF['NU_NOTA_MT'] > 0 ) ]['NU_NOTA_MT']\n",
        "        \n",
        "        # Titulo do gráfico\n",
        "        plt.title(f'Nota de Matemática nível Brasil', loc='left', fontsize=14, fontweight=100 )\n",
        "    \n",
        "    # Plot do Boxplot\n",
        "    sns.boxplot( Nota_Matematica, \n",
        "                saturation = 0.55, \n",
        "                color = Paleta_Cores[Posicao],\n",
        "                showmeans = True,\n",
        "                linewidth=1,\n",
        "                width=0.5,\n",
        "                meanprops = {'markerfacecolor':'green', 'markeredgecolor':'white', 'markersize':'8'} )\n",
        "    \n",
        "    # Anotação em cada gráficos\n",
        "    plt.annotate(\n",
        "        f'Média:{ round(Nota_Matematica.mean()) }',\n",
        "        xy = (1.0, -0.18),\n",
        "        xycoords='axes fraction',\n",
        "        ha = 'right', \n",
        "        va = 'center', \n",
        "        color='green', \n",
        "        fontsize=12,\n",
        "        bbox = dict( facecolor=\"#fff\", edgecolor=\"#009000\", boxstyle=\"round\", pad=0.25 ),\n",
        "        fontweight=500 )\n",
        "    \n",
        "    # Labels\n",
        "    plt.xlabel('Nota de 0 - 1000')\n",
        "    plt.ylabel('Distribuição das Notas')\n",
        "    \n",
        "    # Ajuste da escala\n",
        "    plt.xlim(0, 1000)\n",
        "\n",
        "# Ajustando espaços entre os gráficos\n",
        "plt.subplots_adjust(left=0.1, bottom=0.1, right=0.9, top=0.94, wspace=0.2, hspace=0.45)\n",
        "\n",
        "# Incluindo o Titulo na Figura\n",
        "plt.suptitle('Análise nota de Matemática por Estado - Exame Nacional do Ensino Médio (Enem)', \n",
        "             fontsize=22, \n",
        "             color='#404040', \n",
        "             fontfamily='KyivType Sans', \n",
        "             fontweight=600 );"
      ]
    },
    {
      "cell_type": "markdown",
      "metadata": {
        "id": "9sR37FahYymr"
      },
      "source": [
        "### Testes de Hipótese"
      ]
    },
    {
      "cell_type": "code",
      "execution_count": null,
      "metadata": {
        "colab": {
          "background_save": true
        },
        "id": "GfN71cVHYwtW"
      },
      "outputs": [],
      "source": [
        "# Análise da cor de pele: brancos e pretos\n",
        "# Através dessa análise é possível observar como são diferentes as notas para pessoas de cor branca e preta\n",
        "# Pessoas de cor branca possuem notas maiores do que pessoas pretas, tanto na média quanto no percentil 99\n",
        "brancos = df_desenv.query(\"TP_COR_RACA == 1 and NU_NOTA_MT == NU_NOTA_MT\")['NU_NOTA_MT']\n",
        "pretos = df_desenv.query(\"TP_COR_RACA == 2 and NU_NOTA_MT == NU_NOTA_MT\")['NU_NOTA_MT']\n",
        "\n",
        "print (f'Nota média em matemática de inscritos brancos: {round(brancos.mean(), 2)}')\n",
        "print (f'Nota média em matemática de inscritos pretos: {round(pretos.mean(), 2)}')\n",
        "print (f'Percentil 99 da nota em matemática de inscritos brancos: {round(np.quantile(brancos, 0.99), 2)}')\n",
        "print (f'Percentil 99 da nota em matemática de inscritos pretos: {round(np.quantile(pretos, 0.99), 2)}')\n",
        "\n",
        "plt.hist(brancos, bins=30, label='Branco', histtype='stepfilled', color='green')\n",
        "plt.hist(pretos, bins=30, label='Preto', alpha=.7, histtype='stepfilled', color='red')\n",
        "plt.xlabel('Nota em Matemática')\n",
        "plt.ylabel('Quantidade')\n",
        "plt.axvline(x=brancos.mean(), color='limegreen')\n",
        "plt.axvline(x=pretos.mean(), color='darkred')\n",
        "plt.title('Distribuição das notas de Matemática dos inscritos brancos e pretos')\n",
        "plt.legend()\n",
        "plt.show()\n",
        "\n",
        "# Boxplot das notas de Matemática de brancos e pretos\n",
        "dict_notas = {'brancos': brancos.values.tolist(),\n",
        "              'pretos': pretos.values.tolist()}\n",
        "fig, ax = plt.subplots(figsize = (10, 10))\n",
        "ax.boxplot(dict_notas.values())\n",
        "ax.set_xticklabels(dict_notas.keys())\n",
        "plt.title('Boxplot das notas de Matemática dos inscritos brancos e pretos')\n",
        "plt.show()\n",
        "\n",
        "# Teste de hipótese\n",
        "# Como o p-valor é de 0, devemos rejeitar a hipótese nula (de que não existe correlação entre a cor do inscrito e a sua nota de Matemática no Enem)\n",
        "# Desse modo, é possível concluir que a cor está correlacionada com a nota de Matemática do Enem\n",
        "stats.ks_2samp(brancos, pretos)"
      ]
    },
    {
      "cell_type": "code",
      "execution_count": null,
      "metadata": {
        "colab": {
          "background_save": true
        },
        "id": "9Qo78QO9wX6u"
      },
      "outputs": [],
      "source": [
        "# Análise da nota de matemática de inscritos treineiros e não treineiros\n",
        "# Através dessa análise é possível observar como são diferentes as notas para treineiros e não treineiros\n",
        "# Curiosamente, treineiros possuem uma nota média maior do que não treineiros,\n",
        "# mas a nota percentil 99 dos não treineiros é muito superior à nota dos treineiros\n",
        "treineiros = df_desenv.query(\"IN_TREINEIRO == 1 and NU_NOTA_MT == NU_NOTA_MT\")['NU_NOTA_MT']\n",
        "nao_treineiros = df_desenv.query(\"IN_TREINEIRO == 0 and NU_NOTA_MT == NU_NOTA_MT\")['NU_NOTA_MT']\n",
        "\n",
        "print (f'Nota média em matemática de inscritos treineiros: {round(treineiros.mean(), 2)}')\n",
        "print (f'Nota média em matemática de inscritos não treineiros: {round(nao_treineiros.mean(), 2)}')\n",
        "print (f'Percentil 99 da nota em matemática de inscritos treineiros: {round(np.quantile(treineiros, 0.99), 2)}')\n",
        "print (f'Percentil 99 da nota em matemática de inscritos não treineiros: {round(np.quantile(nao_treineiros, 0.99), 2)}')\n",
        "\n",
        "plt.hist(treineiros, bins=30, label='Treineiro', histtype='stepfilled', color='green')\n",
        "plt.hist(nao_treineiros, bins=30, label='Não Treineiro', alpha=.7, histtype='stepfilled', color='red')\n",
        "plt.xlabel('Nota em Matemática')\n",
        "plt.ylabel('Quantidade')\n",
        "plt.axvline(x=treineiros.mean(), color='limegreen')\n",
        "plt.axvline(x=nao_treineiros.mean(), color='darkred')\n",
        "plt.title('Distribuição das notas de Matemática dos inscritos treineiros e não treineiros')\n",
        "plt.legend()\n",
        "plt.show()\n",
        "\n",
        "# Boxplot das notas de Matemática de treineiros e não treineiros\n",
        "dict_notas = {'treineiros': treineiros.values.tolist(),\n",
        "              'nao_treineiros': nao_treineiros.values.tolist()}\n",
        "fig, ax = plt.subplots(figsize = (10, 10))\n",
        "ax.boxplot(dict_notas.values())\n",
        "ax.set_xticklabels(dict_notas.keys())\n",
        "plt.title('Boxplot das notas de Matemática dos inscritos treineiros e não treineiros')\n",
        "plt.show()\n",
        "\n",
        "# Teste de hipótese\n",
        "# Como o p-valor é próximo de 0, devemos rejeitar a hipótese nula (de que não existe correlação entre ser ou não treineiro na nota de Matemática no Enem)\n",
        "# Desse modo, é possível concluir que o fato do inscrito ser treineiro está correlacionado com a sua nota de Matemática do Enem\n",
        "stats.ks_2samp(treineiros, nao_treineiros)"
      ]
    },
    {
      "cell_type": "markdown",
      "metadata": {
        "id": "N9RG5-49tIrA"
      },
      "source": [
        "## Modelagem\n",
        "Nesta etapa é realizada a modelagem preditiva da nota das 5 provas utilizando a técnica Lasso"
      ]
    },
    {
      "cell_type": "code",
      "execution_count": null,
      "metadata": {
        "colab": {
          "background_save": true
        },
        "id": "MruPi0uU1aYK"
      },
      "outputs": [],
      "source": [
        "# lista de variáveis explicativas para utilizar no modelo\n",
        "lista_vars_explicativas = ['Q001','Q002', 'Q003', 'Q004', 'Q005', 'Q006', 'Q007', 'Q008', 'Q009', 'Q010', 'Q011','Q012', 'Q013',\n",
        "                           'Q014', 'Q015', 'Q016', 'Q017', 'Q018', 'Q019', 'Q020', 'Q021','Q022', 'Q023', 'Q024', 'Q025',\n",
        "                           'IN_ACESSO', 'TP_ANO_CONCLUIU', 'TP_LINGUA', 'TP_SEXO', 'TP_DEPENDENCIA_ADM_ESC',\n",
        "                           'NU_IDADE', 'CO_ESCOLA', 'CO_MUNICIPIO_PROVA', 'TP_ESCOLA', 'TP_COR_RACA', \n",
        "                           'NO_MUNICIPIO_NASCIMENTO', 'NO_MUNICIPIO_PROVA', 'TP_ST_CONCLUSAO', 'IN_LIBRAS',\n",
        "                           'NO_MUNICIPIO_RESIDENCIA', 'TP_ENSINO', 'SG_UF_PROVA', 'TP_ESTADO_CIVIL',\n",
        "                           'TP_NACIONALIDADE', 'IN_SEM_RECURSO', 'IN_SALA_ESPECIAL', 'SG_UF_NASCIMENTO',\n",
        "                           'IN_TREINEIRO', 'IN_DEFICIT_ATENCAO', 'TP_SIT_FUNC_ESC', 'SG_UF_ESC',\n",
        "                           'NO_MUNICIPIO_ESC', 'IN_LEDOR', 'CO_MUNICIPIO_ESC', 'IN_TEMPO_ADICIONAL',\n",
        "                           'IN_DEFICIENCIA_AUDITIVA', 'TP_LOCALIZACAO_ESC', 'IN_DEFICIENCIA_MENTAL',\n",
        "                           'IN_SURDEZ', 'IN_AUTISMO', 'IN_DEFICIENCIA_FISICA', 'IN_TRANSCRICAO', 'IN_MAQUINA_BRAILE',\n",
        "                           'TP_PRESENCA_MT', 'TP_PRESENCA_LC', 'TP_PRESENCA_CN', 'TP_PRESENCA_CH', 'TP_STATUS_REDACAO']\n",
        "                           \n",
        "                           \n",
        "lista_df_submissao = []\n",
        "lista_erros_treino = []\n",
        "lista_erros_teste = []\n",
        "\n",
        "# faz um modelo por target (nota da prova)\n",
        "for target in lista_targets:\n",
        "    print ('***************')\n",
        "    print (target)\n",
        "    print ('***************')\n",
        "\n",
        "    # Separa dados em treino (80%) e teste (20%) - Hold out split\n",
        "    df_train, df_test = train_test_split(df_desenv, test_size=0.2, random_state=42)\n",
        "\n",
        "    # treino\n",
        "    X_train = df_train[lista_vars_explicativas]\n",
        "    y_train = df_train[target].copy()\n",
        "    \n",
        "    # teste\n",
        "    X_test = df_test[lista_vars_explicativas]\n",
        "    y_test = df_test[target].copy()\n",
        "    \n",
        "    # submit\n",
        "    X_submit = df_submit[lista_vars_explicativas]\n",
        "\n",
        "    # Lebel Encoder\n",
        "    for coluna in X_train.columns.tolist():\n",
        "      if (X_train[coluna].dtype != int and X_train[coluna].dtype != float):\n",
        "        labelencoder = LabelEncoder()\n",
        "        labelencoder.fit_transform(pd.concat([X_train[coluna], X_test[coluna], X_submit[coluna]], axis=0))\n",
        "        X_train[coluna] = labelencoder.transform(X_train[coluna])\n",
        "        X_test[coluna] = labelencoder.transform(X_test[coluna])\n",
        "        X_submit[coluna] = labelencoder.transform(X_submit[coluna])\n",
        "\n",
        "    # Remove valores missing\n",
        "    X_train = X_train.fillna(-999)\n",
        "    X_test = X_test.fillna(-999)\n",
        "    X_submit = X_submit.fillna(-999)\n",
        "\n",
        "    # Ignora notas missing\n",
        "    y_train = y_train.fillna(0)\n",
        "    y_test = y_test.fillna(0)\n",
        "\n",
        "    #########\n",
        "    # Lasso #\n",
        "    #########\n",
        "    \n",
        "    clf = Lasso(alpha=1.0, max_iter = 10000)\n",
        "    clf.fit(X_train, y_train)\n",
        "\n",
        "    # importâncias das variáveis explicativas\n",
        "    print_importancias_lasso(X_train, clf.coef_)\n",
        "\n",
        "    # Erro de treino\n",
        "    y_pred = clf.predict(X_train)\n",
        "    erro = rmse_score(y_train, y_pred)\n",
        "    print ('Erro de treino:', erro)\n",
        "    lista_erros_treino.append(erro)\n",
        "\n",
        "    # Erro de teste\n",
        "    y_pred = clf.predict(X_test)\n",
        "    erro = rmse_score(y_test, y_pred)\n",
        "    print ('Erro de teste:', erro)\n",
        "    lista_erros_teste.append(erro)\n",
        "    \n",
        "    # Previsão para o dataset de submissão\n",
        "    df_submit_results = df_submit[['NU_INSCRICAO']].copy()\n",
        "    df_submit_results[target] = clf.predict(X_submit)\n",
        "    lista_df_submissao.append(df_submit_results)\n",
        "\n",
        "    # limpa memória\n",
        "    del df_train, df_test, X_train,  X_submit, X_test, y_train, y_test\n",
        "    gc.collect()"
      ]
    },
    {
      "cell_type": "markdown",
      "metadata": {
        "id": "hjrES6LM7buH"
      },
      "source": [
        "### Resultados"
      ]
    },
    {
      "cell_type": "code",
      "execution_count": null,
      "metadata": {
        "colab": {
          "background_save": true
        },
        "id": "vbVoDdaz68mD"
      },
      "outputs": [],
      "source": [
        "# junta predições em um único dataframe\n",
        "print ('Erros de treino:', lista_erros_treino)\n",
        "print ('Erros de teste:', lista_erros_teste)\n",
        "print ('Erro médio de treino:', np.mean(lista_erros_treino))\n",
        "print ('Erro médio de teste:', np.mean(lista_erros_teste))\n",
        "df_submit_prediction = reduce(lambda left, right: pd.merge(left, right,on=['NU_INSCRICAO'], how='inner'), lista_df_submissao)\n",
        "df_submit_prediction.to_csv(path_output_submission, sep=',', index=False)\n",
        "print (df_submit_prediction.shape)\n",
        "df_submit_prediction.head()"
      ]
    },
    {
      "cell_type": "markdown",
      "metadata": {
        "id": "pO0CpYZO6_S2"
      },
      "source": [
        "Erro de Treino: 78,9\n",
        "\n",
        "Erro de Teste (hold out): 79,2\n",
        "\n",
        "Erro de Teste (Leaderboard pública): 79,2"
      ]
    }
  ],
  "metadata": {
    "accelerator": "GPU",
    "colab": {
      "collapsed_sections": [],
      "machine_shape": "hm",
      "name": "[DataViking] ML Olympiad - Quality Education [Análise Exploratória de Dados e Modelo Lasso Baseline].ipynb",
      "provenance": [],
      "include_colab_link": true
    },
    "kernelspec": {
      "display_name": "Python 3",
      "language": "python",
      "name": "python3"
    },
    "language_info": {
      "codemirror_mode": {
        "name": "ipython",
        "version": 3
      },
      "file_extension": ".py",
      "mimetype": "text/x-python",
      "name": "python",
      "nbconvert_exporter": "python",
      "pygments_lexer": "ipython3",
      "version": "3.8.3"
    }
  },
  "nbformat": 4,
  "nbformat_minor": 0
}