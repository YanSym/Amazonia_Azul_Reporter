{
 "cells": [
  {
   "cell_type": "markdown",
   "metadata": {},
   "source": [
    "### Notebook para publicação de imagens de satélite"
   ]
  },
  {
   "cell_type": "code",
   "execution_count": 1,
   "metadata": {},
   "outputs": [
    {
     "name": "stdout",
     "output_type": "stream",
     "text": [
      "Intent: REPORT_NAVIOS\n",
      "🤖 Hoje, dia 11 de janeiro de 2022, foi estimada uma quantidade de 118 embarcações no porto do Rio de Janeiro (RJ). Além disso, é esperado que 52 embarcações entrem no porto ao longo dos próximos dias. 𒛴\n",
      "\n",
      "Fonte: MarineTraffic\n",
      "\n",
      "\n",
      "#AmazôniaAzul 🌅\n",
      "#redebotsdobem 🛰\n",
      "Tweet publicado\n",
      "Intent: REPORT_NAVIOS\n",
      "🤖 Hoje, dia 11 de janeiro de 2022, existem 17 embarcações no porto de Suape (PE) nesse momento e 22 embarcações agendadas para entrar dentro dos próximos dias. 🛳 Desejo um ótimo dia pra todos!\n",
      "\n",
      "Fonte: MarineTraffic\n",
      "\n",
      "\n",
      "#AmazôniaAzul 🌅\n",
      "#redebotsdobem 🛰\n",
      "Tweet publicado\n",
      "Intent: REPORT_NAVIOS\n",
      "🤖 Hoje, dia 11 de janeiro de 2022, existem 36 embarcações no porto de Rio Grande (RS) nesse momento e 17 embarcações agendadas para entrar dentro dos próximos dias. 𒛴 Desejo um ótimo dia pra todos!\n",
      "\n",
      "Fonte: MarineTraffic\n",
      "\n",
      "\n",
      "#AmazôniaAzul 🌅\n",
      "#redebotsdobem 🛰\n",
      "Tweet publicado\n",
      "Intent: REPORT_NAVIOS\n",
      "🤖 Hoje, dia 11 de janeiro de 2022, foram detectadas 45 embarcações no porto de Paranaguá (PR) e 45 e estão agendadas para entrar no porto ao longo dos próximos dias. 🚢\n",
      "\n",
      "Fonte: MarineTraffic\n",
      "\n",
      "\n",
      "#AmazôniaAzul 🌅\n",
      "#redebotsdobem 🛰\n",
      "Tweet publicado\n",
      "Intent: REPORT_NAVIOS\n",
      "🤖 Hoje, dia 11 de janeiro de 2022, foi estimada uma quantidade de 3 embarcações no porto de Itapoá (SC). Além disso, é esperado que 3 embarcações entrem no porto ao longo dos próximos dias. 🛳\n",
      "\n",
      "Fonte: MarineTraffic\n",
      "\n",
      "\n",
      "#AmazôniaAzul 🌅\n",
      "#redebotsdobem 🛰\n",
      "Tweet publicado\n"
     ]
    }
   ],
   "source": [
    "%load_ext autoreload\n",
    "%autoreload 2\n",
    "\n",
    "from metodos_auxiliares_imagens import ImagensClass\n",
    "\n",
    "# instancia o objeto\n",
    "objeto_publicacao = ImagensClass()\n",
    "\n",
    "# publicação\n",
    "objeto_publicacao.publica_conteudo()"
   ]
  },
  {
   "cell_type": "code",
   "execution_count": null,
   "metadata": {},
   "outputs": [],
   "source": []
  },
  {
   "cell_type": "code",
   "execution_count": null,
   "metadata": {},
   "outputs": [],
   "source": []
  }
 ],
 "metadata": {
  "kernelspec": {
   "display_name": "Python 3",
   "language": "python",
   "name": "python3"
  },
  "language_info": {
   "codemirror_mode": {
    "name": "ipython",
    "version": 3
   },
   "file_extension": ".py",
   "mimetype": "text/x-python",
   "name": "python",
   "nbconvert_exporter": "python",
   "pygments_lexer": "ipython3",
   "version": "3.8.3"
  }
 },
 "nbformat": 4,
 "nbformat_minor": 4
}
