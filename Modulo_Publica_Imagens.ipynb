{
 "cells": [
  {
   "cell_type": "markdown",
   "metadata": {},
   "source": [
    "### Notebook para publicação de imagens de satélite"
   ]
  },
  {
   "cell_type": "code",
   "execution_count": null,
   "metadata": {},
   "outputs": [
    {
     "name": "stdout",
     "output_type": "stream",
     "text": [
      "The autoreload extension is already loaded. To reload it, use:\n",
      "  %reload_ext autoreload\n",
      "Sem Imagem. Message: no such element: Unable to locate element: {\"method\":\"xpath\",\"selector\":\"//*[@id=\"baseLayerSelect\"]\"}\n",
      "  (Session info: headless chrome=97.0.4692.71)\n",
      "Stacktrace:\n",
      "Backtrace:\n",
      "\tOrdinal0 [0x0030FDC3+2555331]\n",
      "\tOrdinal0 [0x002A77F1+2127857]\n",
      "\tOrdinal0 [0x001A2E08+1060360]\n",
      "\tOrdinal0 [0x001CE49E+1238174]\n",
      "\tOrdinal0 [0x001CE69B+1238683]\n",
      "\tOrdinal0 [0x001F9252+1413714]\n",
      "\tOrdinal0 [0x001E7B54+1342292]\n",
      "\tOrdinal0 [0x001F75FA+1406458]\n",
      "\tOrdinal0 [0x001E7976+1341814]\n",
      "\tOrdinal0 [0x001C36B6+1193654]\n",
      "\tOrdinal0 [0x001C4546+1197382]\n",
      "\tGetHandleVerifier [0x004A9622+1619522]\n",
      "\tGetHandleVerifier [0x0055882C+2336844]\n",
      "\tGetHandleVerifier [0x003A23E1+541697]\n",
      "\tGetHandleVerifier [0x003A1443+537699]\n",
      "\tOrdinal0 [0x002AD18E+2150798]\n",
      "\tOrdinal0 [0x002B1518+2168088]\n",
      "\tOrdinal0 [0x002B1660+2168416]\n",
      "\tOrdinal0 [0x002BB330+2208560]\n",
      "\tBaseThreadInitThunk [0x7647FA29+25]\n",
      "\tRtlGetAppContainerNamedObjectPath [0x77897A9E+286]\n",
      "\tRtlGetAppContainerNamedObjectPath [0x77897A6E+238]\n",
      "\t(No symbol) [0x00000000]\n",
      "\n"
     ]
    }
   ],
   "source": [
    "%load_ext autoreload\n",
    "%autoreload 2\n",
    "\n",
    "from metodos_auxiliares_imagens import ImagensClass\n",
    "\n",
    "# instancia o objeto\n",
    "objeto_publicacao = ImagensClass()\n",
    "\n",
    "# publicação\n",
    "objeto_publicacao.publica_conteudo()"
   ]
  },
  {
   "cell_type": "code",
   "execution_count": null,
   "metadata": {},
   "outputs": [],
   "source": []
  },
  {
   "cell_type": "code",
   "execution_count": null,
   "metadata": {},
   "outputs": [],
   "source": []
  }
 ],
 "metadata": {
  "kernelspec": {
   "display_name": "Python 3",
   "language": "python",
   "name": "python3"
  },
  "language_info": {
   "codemirror_mode": {
    "name": "ipython",
    "version": 3
   },
   "file_extension": ".py",
   "mimetype": "text/x-python",
   "name": "python",
   "nbconvert_exporter": "python",
   "pygments_lexer": "ipython3",
   "version": "3.8.3"
  }
 },
 "nbformat": 4,
 "nbformat_minor": 4
}
