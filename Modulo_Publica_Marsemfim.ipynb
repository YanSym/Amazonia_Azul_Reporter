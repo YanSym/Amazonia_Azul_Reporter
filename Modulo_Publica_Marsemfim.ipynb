{
 "cells": [
  {
   "cell_type": "markdown",
   "metadata": {},
   "source": [
    "### Notebook para publicação de conteúdo do site Mar Sem Fim"
   ]
  },
  {
   "cell_type": "code",
   "execution_count": 5,
   "metadata": {},
   "outputs": [
    {
     "name": "stdout",
     "output_type": "stream",
     "text": [
      "The autoreload extension is already loaded. To reload it, use:\n",
      "  %reload_ext autoreload\n",
      "🤖 Polo Petroquímico Capuava, o novo Vale da Morte em SP?\n",
      "\n",
      "Fonte: https://marsemfim.com.br/polo-petroquimico-capuava-o-novo-vale-da-morte-em-sp/\n",
      "\n",
      "\n",
      "#AmazôniaAzul 🌅\n",
      "#redebotsdobem 🛰\n",
      "\n",
      "Resumo da publicação abaixo! 👇\n",
      "🤖 Polo Petroquímico Capuava, o novo Vale da Morte em São Paulo? Em 1954 a inauguração de uma refinaria de petróleo  (Refinaria de Capuava – Recap) foi o início do complexo industrial que começava a ser erguido no Parque Capuava, em Santo André. 💬\n",
      "🤖 Em 1972 veio a primeira petroquímica do País. Assim nascia o que agora conhecemos como Polo Petroquímico de Capuava. o polo é formado por diversas empresas que atuam na cadeia do setor como indústrias químicas, plásticas, engarrafadoras de gás, 💬\n",
      "🤖 tornando-o um dos maiores complexos industriais do Brasil. Em 2014 o faturamento foi de nada menos que R$ 8, 6 bilhões, e o Valor Adicionado Fiscal de R$ 2, 2 bilhões, além de gerar 10 mil empregos formais, segundo o site abcdoabac. 💬\n",
      "🤖 Acontece que este colosso está se tornando o novo Vale da Morte de São Paulo.\n",
      "Tweet publicado!\n",
      "🤖 Os lixões e a omissão, um grave problema ambiental\n",
      "\n",
      "Fonte: https://marsemfim.com.br/os-lixoes-e-a-omissao-um-grave-problema-ambiental/\n",
      "\n",
      "\n",
      "#AmazôniaAzul 🌅\n",
      "#redebotsdobem 🛰\n",
      "\n",
      "Resumo da publicação abaixo! 👇\n",
      "🤖 Os lixões e a omissão, um grave problema ambiental. O Brasil é um país pra lá de curioso. Dá um passo pra frente, um pro lado, outro pra trás, para só depois prosseguir no avanço, sempre a passos de cágado. Aqui há outra curiosidade típica: leis que ‘pegam’, 💬\n",
      "🤖 e leis que ‘não pegam’. Não conheço outro lugar onde este anacronismo ainda acontece. E assim vai se cristalizando o País do futuro. A gente nasce, envelhece, ouvindo a ladainha: o País do futuro. 💬\n",
      "🤖 Sei… De vez em quando ainda aparece nova autoridade embalada em fracassos seguidos que insiste: ‘o Brasil vai surpreender o mundo’. já não surpreendemos o suficiente? O assunto de hoje são os lixões e a omissão, um grave problema ambiental.\n",
      "Tweet publicado!\n",
      "🤖 A decadência do litoral brasileiro, patrimônio ao deus-dará\n",
      "\n",
      "Fonte: https://marsemfim.com.br/a-decadencia-do-litoral-brasileiro-patrimonio-ao-deus-dara/\n",
      "\n",
      "\n",
      "#AmazôniaAzul 🌅\n",
      "#redebotsdobem 🛰\n",
      "\n",
      "Resumo da publicação abaixo! 👇\n",
      "🤖 A decadência do litoral brasileiro, um patrimônio ao deus-dará. O artigo 216 da Constituição Federal estabelece que “Constituem patrimônio cultural brasileiro os bens de natureza material e imaterial, tomados individualmente ou em conjunto, 💬\n",
      "🤖 portadores de referência à identidade, à memória dos diferentes grupos formadores da sociedade brasileira, nos quais se incluem…”E em seu inciso V, “os conjuntos urbanos e sítios de valor histórico, paisagístico, artístico, arqueológico, paleontológico, 💬\n",
      "🤖 ecológico e científico. ” Tem mais. O artigo 225, parágrafo 4º, determina: “A Floresta Amazônica brasileira, a Mata Atlântica, a Serra do Mar, o Pantanal Mato-Grossense e a Zona Costeira são patrimônio nacional, e sua utilização far-se-á, na forma da lei, 💬\n",
      "🤖 dentro de condições que assegurem a preservação do meio ambiente, inclusive quanto ao uso dos recursos naturais. ” Hoje comentamos a decadência do litoral brasileiro, um patrimônio ao deus-dará.\n",
      "Tweet publicado!\n"
     ]
    }
   ],
   "source": [
    "%load_ext autoreload\n",
    "%autoreload 2\n",
    "\n",
    "from metodos_auxiliares_marsemfim import HelperClassMarsemfim\n",
    "\n",
    "# instancia o objeto\n",
    "objeto_publicacao = HelperClassMarsemfim()\n",
    "\n",
    "# publicação\n",
    "objeto_publicacao.publica_conteudo()"
   ]
  },
  {
   "cell_type": "code",
   "execution_count": null,
   "metadata": {},
   "outputs": [],
   "source": []
  },
  {
   "cell_type": "code",
   "execution_count": null,
   "metadata": {},
   "outputs": [],
   "source": []
  },
  {
   "cell_type": "code",
   "execution_count": null,
   "metadata": {},
   "outputs": [],
   "source": []
  }
 ],
 "metadata": {
  "kernelspec": {
   "display_name": "Python 3",
   "language": "python",
   "name": "python3"
  },
  "language_info": {
   "codemirror_mode": {
    "name": "ipython",
    "version": 3
   },
   "file_extension": ".py",
   "mimetype": "text/x-python",
   "name": "python",
   "nbconvert_exporter": "python",
   "pygments_lexer": "ipython3",
   "version": "3.8.3"
  }
 },
 "nbformat": 4,
 "nbformat_minor": 4
}
