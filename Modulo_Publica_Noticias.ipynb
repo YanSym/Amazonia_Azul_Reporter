{
 "cells": [
  {
   "cell_type": "markdown",
   "metadata": {},
   "source": [
    "### Notebook para publicação de conteúdo do Google News"
   ]
  },
  {
   "cell_type": "code",
   "execution_count": 3,
   "metadata": {},
   "outputs": [
    {
     "name": "stdout",
     "output_type": "stream",
     "text": [
      "Distancia pequena de 0.0. Tweet vetado, muito similar.\n",
      "🤖 Neve com brilho azul no Ártico intriga, mas cientistas explicam fenômeno\n",
      "\n",
      "Fonte: https://noticias.uol.com.br/internacional/ultimas-noticias/2022/01/11/neve-que-brilha-e-encontrada-no-artico.htm\n",
      "\n",
      "\n",
      "#AmazôniaAzul 🌅\n",
      "#redebotsdobem 🛰\n",
      "Tweet publicado!\n",
      "🤖 36 barragens estão em nível de alerta; 29 são da Vale\n",
      "\n",
      "Fonte: https://veja.abril.com.br/economia/36-barragens-estao-em-nivel-de-alerta-29-sao-da-vale/\n",
      "\n",
      "\n",
      "#AmazôniaAzul 🌅\n",
      "#redebotsdobem 🛰\n",
      "Tweet publicado!\n",
      "🤖 Consulta de venda do Porto de Santos será aberta dia 20 de janeiro\n",
      "\n",
      "Fonte: https://www.jornaldocomercio.com/_conteudo/cadernos/jc_logistica/2022/01/828298-consulta-de-venda-do-porto-de-santos-sera-aberta-dia-20-de-janeiro.html\n",
      "\n",
      "\n",
      "#AmazôniaAzul 🌅\n",
      "#redebotsdobem 🛰\n",
      "Tweet publicado!\n"
     ]
    }
   ],
   "source": [
    "from metodos_auxiliares_news import HelperClassNews\n",
    "\n",
    "# instancia o objeto\n",
    "objeto_publicacao = HelperClassNews()\n",
    "      \n",
    "# publicação\n",
    "objeto_publicacao.publica_conteudo()"
   ]
  },
  {
   "cell_type": "code",
   "execution_count": null,
   "metadata": {},
   "outputs": [],
   "source": []
  }
 ],
 "metadata": {
  "kernelspec": {
   "display_name": "Python 3",
   "language": "python",
   "name": "python3"
  },
  "language_info": {
   "codemirror_mode": {
    "name": "ipython",
    "version": 3
   },
   "file_extension": ".py",
   "mimetype": "text/x-python",
   "name": "python",
   "nbconvert_exporter": "python",
   "pygments_lexer": "ipython3",
   "version": "3.8.3"
  }
 },
 "nbformat": 4,
 "nbformat_minor": 4
}
