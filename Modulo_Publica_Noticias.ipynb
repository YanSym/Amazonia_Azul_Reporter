{
 "cells": [
  {
   "cell_type": "markdown",
   "metadata": {},
   "source": [
    "### Notebook para publicação de conteúdo do Google News"
   ]
  },
  {
   "cell_type": "code",
   "execution_count": 1,
   "metadata": {},
   "outputs": [
    {
     "name": "stdout",
     "output_type": "stream",
     "text": [
      "🤖 Aqui também temos Ucrânias II\n",
      "\n",
      "Fonte: https://www.otempo.com.br/opiniao/luiz-tito/aqui-tambem-temos-ucranias-ii-1.2622881\n",
      "\n",
      "\n",
      "#AmazôniaAzul 🌅\n",
      "#redebotsdobem 🛰\n",
      "🤖 Guerra na Ucrânia: aumento da radiação em Chernobyl é preocupante\n",
      "\n",
      "Fonte: https://www.tempo.com/noticias/actualidade/guerra-na-ucrania-aumento-da-radiacao-em-chernobyl-e-preocupante.html\n",
      "\n",
      "\n",
      "#AmazôniaAzul 🌅\n",
      "#redebotsdobem 🛰\n",
      "🤖 Brasil está entre economias mais prejudicadas por crise do clima, aponta ONU\n",
      "\n",
      "Fonte: https://www1.folha.uol.com.br/ambiente/2022/02/brasil-esta-entre-economias-mais-prejudicadas-por-crise-do-clima-aponta-onu.shtml\n",
      "\n",
      "\n",
      "#AmazôniaAzul 🌅\n",
      "#redebotsdobem 🛰\n",
      "🤖 Calor e pancadas de chuva no Brasil nesta segunda-feira\n",
      "\n",
      "Fonte: https://www.climatempo.com.br/noticia/2022/02/28/calor-e-pancadas-de-chuva-no-brasil-nesta-segunda-feira-4410\n",
      "\n",
      "\n",
      "#AmazôniaAzul 🌅\n",
      "#redebotsdobem 🛰\n",
      "🤖 RS: temperaturas ultrapassaram os 42º\n",
      "\n",
      "Fonte: https://www.agrolink.com.br/noticias/rs--temperaturas-ultrapassaram-os-42-_462800.html\n",
      "\n",
      "\n",
      "#AmazôniaAzul 🌅\n",
      "#redebotsdobem 🛰\n",
      "🤖 Bombeiros procuram por homem desaparecido em naufrágio na Ilha de Paquetá\n",
      "\n",
      "Fonte: https://extra.globo.com/noticias/rio/bombeiros-procuram-por-homem-desaparecido-em-naufragio-na-ilha-de-paqueta-25413607.html\n",
      "\n",
      "\n",
      "#AmazôniaAzul 🌅\n",
      "#redebotsdobem 🛰\n"
     ]
    }
   ],
   "source": [
    "from metodos_auxiliares_news import HelperClassNews\n",
    "\n",
    "# instancia o objeto\n",
    "objeto_publicacao = HelperClassNews()\n",
    "      \n",
    "# publicação\n",
    "objeto_publicacao.publica_conteudo()"
   ]
  },
  {
   "cell_type": "code",
   "execution_count": null,
   "metadata": {},
   "outputs": [],
   "source": []
  }
 ],
 "metadata": {
  "kernelspec": {
   "display_name": "Python 3",
   "language": "python",
   "name": "python3"
  },
  "language_info": {
   "codemirror_mode": {
    "name": "ipython",
    "version": 3
   },
   "file_extension": ".py",
   "mimetype": "text/x-python",
   "name": "python",
   "nbconvert_exporter": "python",
   "pygments_lexer": "ipython3",
   "version": "3.8.3"
  }
 },
 "nbformat": 4,
 "nbformat_minor": 4
}
