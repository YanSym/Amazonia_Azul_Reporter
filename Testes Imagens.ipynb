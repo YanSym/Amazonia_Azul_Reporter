{
 "cells": [
  {
   "cell_type": "code",
   "execution_count": 160,
   "metadata": {},
   "outputs": [],
   "source": [
    "dict_portos = {'Santos':'https://www.marinetraffic.com/en/ais/home/centerx:-46.302/centery:-23.960/zoom:13',\n",
    "               'paranagua': 'https://www.marinetraffic.com/en/ais/home/centerx:-43.129/centery:-22.839/zoom:12',\n",
    "               'rj':'https://www.marinetraffic.com/en/ais/home/centerx:-43.167/centery:-22.864/zoom:12',\n",
    "               'Brasil':'https://www.marinetraffic.com/en/ais/home/centerx:-59.1/centery:-19.0/zoom:4',\n",
    "               'nada':'https://www.marinetraffic.com/en/ais/home/centerx:-49.0/centery:-33.8/zoom:9',\n",
    "               'doido':'https://www.marinetraffic.com/en/ais/home/centerx:-43.1/centery:-22.9/zoom:11'}"
   ]
  },
  {
   "cell_type": "code",
   "execution_count": null,
   "metadata": {},
   "outputs": [],
   "source": []
  },
  {
   "cell_type": "code",
   "execution_count": 161,
   "metadata": {
    "scrolled": true
   },
   "outputs": [
    {
     "name": "stderr",
     "output_type": "stream",
     "text": [
      "<ipython-input-161-37b17f3b99e6>:18: DeprecationWarning: find_element_by_* commands are deprecated. Please use find_element() instead\n",
      "  driver.find_element_by_xpath(\"//*[@id='qc-cmp2-ui']/div[2]/div/button[2]\").click()\n"
     ]
    }
   ],
   "source": [
    "from selenium import webdriver\n",
    "import time\n",
    "import cv2\n",
    "import numpy as np\n",
    "\n",
    "\n",
    "chromeOptions = webdriver.ChromeOptions()\n",
    "chromeOptions.add_argument('--no-sandbox')\n",
    "chromeOptions.add_argument(\"--headless\")\n",
    "\n",
    "driver_path = 'chromedriver'\n",
    "driver = webdriver.Chrome(driver_path, options=chromeOptions)\n",
    "\n",
    "porto = dict_portos['doido']\n",
    "\n",
    "driver.get(porto)\n",
    "time.sleep(5)\n",
    "driver.find_element_by_xpath(\"//*[@id='qc-cmp2-ui']/div[2]/div/button[2]\").click()\n",
    "time.sleep(5)\n",
    "\n",
    "\n",
    "screenshot = driver.save_screenshot('teste1.png')\n",
    "driver.quit()"
   ]
  },
  {
   "cell_type": "code",
   "execution_count": 162,
   "metadata": {},
   "outputs": [],
   "source": [
    "from PIL import Image\n",
    "img = Image.open(\"teste1.png\")\n",
    "\n",
    "crop_dim = (50, 50, 450, 450)\n",
    "cropped_img = img.crop(crop_dim)\n",
    "cropped_img.save(\"teste_maluco.png\")"
   ]
  },
  {
   "cell_type": "code",
   "execution_count": null,
   "metadata": {},
   "outputs": [],
   "source": []
  },
  {
   "cell_type": "code",
   "execution_count": 163,
   "metadata": {},
   "outputs": [
    {
     "name": "stdout",
     "output_type": "stream",
     "text": [
      "There are 12 cells in the image.\n"
     ]
    }
   ],
   "source": [
    "img = cv2.imread('teste_maluco.png', 0)\n",
    "seed_pt = (10, 1)\n",
    "fill_color = 0\n",
    "mask = np.zeros_like(img)\n",
    "kernel = cv2.getStructuringElement(cv2.MORPH_RECT, (2, 2))\n",
    "for th in range(60, 100):\n",
    "    prev_mask = mask.copy()\n",
    "    mask = cv2.threshold(img, th, 255, cv2.THRESH_BINARY)[1]\n",
    "    mask = cv2.floodFill(mask, None, seed_pt, fill_color)[1]\n",
    "    mask = cv2.bitwise_or(mask, prev_mask)\n",
    "    mask = cv2.morphologyEx(mask, cv2.MORPH_OPEN, kernel)\n",
    "\n",
    "n_centers = cv2.connectedComponents(mask)[0] - 1\n",
    "print('There are %d cells in the image.'%n_centers)"
   ]
  },
  {
   "cell_type": "code",
   "execution_count": null,
   "metadata": {},
   "outputs": [],
   "source": []
  }
 ],
 "metadata": {
  "kernelspec": {
   "display_name": "Python 3",
   "language": "python",
   "name": "python3"
  },
  "language_info": {
   "codemirror_mode": {
    "name": "ipython",
    "version": 3
   },
   "file_extension": ".py",
   "mimetype": "text/x-python",
   "name": "python",
   "nbconvert_exporter": "python",
   "pygments_lexer": "ipython3",
   "version": "3.8.3"
  }
 },
 "nbformat": 4,
 "nbformat_minor": 4
}
