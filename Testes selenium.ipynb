{
 "cells": [
  {
   "cell_type": "code",
   "execution_count": 25,
   "metadata": {},
   "outputs": [],
   "source": [
    "import pandas as pd\n",
    "import numpy as np\n",
    "import requests\n",
    "import urllib\n",
    "import json\n",
    "from datetime import date\n",
    "from bs4 import BeautifulSoup\n",
    "from selenium import webdriver\n",
    "\n",
    "path_to_chromedriver = 'chromedriver'\n",
    "\n",
    "# parametros do webdriver\n",
    "chromeOptions = webdriver.ChromeOptions()\n",
    "chromeOptions.add_argument('--no-sandbox')\n",
    "chromeOptions.add_argument(\"--headless\")\n",
    "\n",
    "driver = webdriver.Chrome(path_to_chromedriver, options=chromeOptions)\n",
    "driver.get(\"https://tabuademares.com/br/para/bagre\")"
   ]
  },
  {
   "cell_type": "code",
   "execution_count": null,
   "metadata": {},
   "outputs": [],
   "source": []
  },
  {
   "cell_type": "code",
   "execution_count": 26,
   "metadata": {},
   "outputs": [
    {
     "name": "stdout",
     "output_type": "stream",
     "text": [
      "51\n"
     ]
    },
    {
     "name": "stderr",
     "output_type": "stream",
     "text": [
      "<ipython-input-26-4e071a2595bd>:3: DeprecationWarning: find_element_by_* commands are deprecated. Please use find_element() instead\n",
      "  teste = driver.find_element_by_xpath(elemento).text\n"
     ]
    }
   ],
   "source": [
    "elemento = '//*[@id=\"noprint1\"]/div[17]/div[2]/div[2]/div[1]/p/span[1]'\n",
    "\n",
    "teste = driver.find_element_by_xpath(elemento).text\n",
    "print (teste)"
   ]
  },
  {
   "cell_type": "code",
   "execution_count": null,
   "metadata": {},
   "outputs": [],
   "source": []
  },
  {
   "cell_type": "code",
   "execution_count": null,
   "metadata": {},
   "outputs": [],
   "source": []
  }
 ],
 "metadata": {
  "kernelspec": {
   "display_name": "Python 3",
   "language": "python",
   "name": "python3"
  },
  "language_info": {
   "codemirror_mode": {
    "name": "ipython",
    "version": 3
   },
   "file_extension": ".py",
   "mimetype": "text/x-python",
   "name": "python",
   "nbconvert_exporter": "python",
   "pygments_lexer": "ipython3",
   "version": "3.8.3"
  }
 },
 "nbformat": 4,
 "nbformat_minor": 4
}
