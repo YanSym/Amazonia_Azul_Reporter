{
 "cells": [
  {
   "cell_type": "code",
   "execution_count": null,
   "metadata": {},
   "outputs": [],
   "source": [
    "import pandas as pd\n",
    "import numpy as np\n",
    "import requests\n",
    "import urllib\n",
    "import json\n",
    "from datetime import date\n",
    "from bs4 import BeautifulSoup\n",
    "from selenium import webdriver\n",
    "\n",
    "path_to_chromedriver = 'chromedriver'\n",
    "\n",
    "# parametros do webdriver\n",
    "chromeOptions = webdriver.ChromeOptions()\n",
    "chromeOptions.add_argument('--no-sandbox')\n",
    "chromeOptions.add_argument(\"--headless\")\n",
    "\n",
    "driver = webdriver.Chrome(path_to_chromedriver, options=chromeOptions)\n",
    "driver.get(\"https://tabuademares.com/br\")"
   ]
  },
  {
   "cell_type": "code",
   "execution_count": null,
   "metadata": {},
   "outputs": [],
   "source": []
  },
  {
   "cell_type": "code",
   "execution_count": null,
   "metadata": {},
   "outputs": [],
   "source": [
    "element = '//*[@id=\"noprint1\"]/div[17]/div[2]/div[2]/div[1]/p'\n",
    "\n",
    "teste = driver.find_element_by_xpath(element).text\n",
    "teste"
   ]
  },
  {
   "cell_type": "code",
   "execution_count": null,
   "metadata": {},
   "outputs": [],
   "source": []
  },
  {
   "cell_type": "code",
   "execution_count": 60,
   "metadata": {},
   "outputs": [],
   "source": [
    "import pandas as pd\n",
    "import numpy as np\n",
    "import requests\n",
    "import urllib\n",
    "import json\n",
    "from datetime import date\n",
    "from bs4 import BeautifulSoup\n",
    "from selenium import webdriver\n",
    "\n",
    "path_to_chromedriver = 'chromedriver'\n",
    "\n",
    "# parametros do webdriver\n",
    "chromeOptions = webdriver.ChromeOptions()\n",
    "chromeOptions.add_argument('--no-sandbox')\n",
    "chromeOptions.add_argument(\"--headless\")\n",
    "\n",
    "driver = webdriver.Chrome(path_to_chromedriver, options=chromeOptions)\n",
    "driver.get(\"https://marsemfim.com.br/\")"
   ]
  },
  {
   "cell_type": "code",
   "execution_count": 61,
   "metadata": {},
   "outputs": [
    {
     "name": "stderr",
     "output_type": "stream",
     "text": [
      "<ipython-input-61-91478fcacdb0>:2: DeprecationWarning: find_elements_by_* commands are deprecated. Please use find_elements() instead\n",
      "  teste = driver.find_elements_by_xpath(element)\n"
     ]
    },
    {
     "data": {
      "text/plain": [
       "[<selenium.webdriver.remote.webelement.WebElement (session=\"f90fa16e6fce1f9f9d42beb139687482\", element=\"b4832755-8f43-47f9-bf49-1bc1e73049ab\")>,\n",
       " <selenium.webdriver.remote.webelement.WebElement (session=\"f90fa16e6fce1f9f9d42beb139687482\", element=\"4f25c8ca-192f-4f52-a5f0-e0b720182d87\")>,\n",
       " <selenium.webdriver.remote.webelement.WebElement (session=\"f90fa16e6fce1f9f9d42beb139687482\", element=\"163ec1db-d704-413d-b7c7-77c09cb7f7e6\")>,\n",
       " <selenium.webdriver.remote.webelement.WebElement (session=\"f90fa16e6fce1f9f9d42beb139687482\", element=\"6754ec3c-3086-4550-9477-7137a089b5d0\")>,\n",
       " <selenium.webdriver.remote.webelement.WebElement (session=\"f90fa16e6fce1f9f9d42beb139687482\", element=\"66b64a87-deab-42d2-9360-fe01d003d94e\")>,\n",
       " <selenium.webdriver.remote.webelement.WebElement (session=\"f90fa16e6fce1f9f9d42beb139687482\", element=\"83866277-7172-44e9-b877-8da9172d7992\")>,\n",
       " <selenium.webdriver.remote.webelement.WebElement (session=\"f90fa16e6fce1f9f9d42beb139687482\", element=\"3e9712e5-3d9d-419b-952e-56c55f38b1b9\")>,\n",
       " <selenium.webdriver.remote.webelement.WebElement (session=\"f90fa16e6fce1f9f9d42beb139687482\", element=\"52468322-e996-4fa5-a533-b29e6358356d\")>,\n",
       " <selenium.webdriver.remote.webelement.WebElement (session=\"f90fa16e6fce1f9f9d42beb139687482\", element=\"6acac610-e538-4340-884f-5ab667b0a48c\")>,\n",
       " <selenium.webdriver.remote.webelement.WebElement (session=\"f90fa16e6fce1f9f9d42beb139687482\", element=\"4d35947e-593f-4d65-9f83-0ad68fa7b5c1\")>,\n",
       " <selenium.webdriver.remote.webelement.WebElement (session=\"f90fa16e6fce1f9f9d42beb139687482\", element=\"3b83b407-29b8-4b90-aef8-4b08fe23840a\")>,\n",
       " <selenium.webdriver.remote.webelement.WebElement (session=\"f90fa16e6fce1f9f9d42beb139687482\", element=\"25964596-9ce9-4ecd-9b18-480f9331cced\")>,\n",
       " <selenium.webdriver.remote.webelement.WebElement (session=\"f90fa16e6fce1f9f9d42beb139687482\", element=\"f7337fff-16d5-472f-9a89-f6247f410bc5\")>,\n",
       " <selenium.webdriver.remote.webelement.WebElement (session=\"f90fa16e6fce1f9f9d42beb139687482\", element=\"739a7492-310c-4064-b1a2-abaf9454dbc5\")>,\n",
       " <selenium.webdriver.remote.webelement.WebElement (session=\"f90fa16e6fce1f9f9d42beb139687482\", element=\"7b3e8c0d-cbbd-412e-b63a-383d3237e279\")>]"
      ]
     },
     "execution_count": 61,
     "metadata": {},
     "output_type": "execute_result"
    }
   ],
   "source": [
    "element = '//h3[contains(@class, \"entry-title td-module-title\")]/a'\n",
    "teste = driver.find_elements_by_xpath(element)\n",
    "teste"
   ]
  },
  {
   "cell_type": "code",
   "execution_count": null,
   "metadata": {},
   "outputs": [],
   "source": []
  },
  {
   "cell_type": "code",
   "execution_count": 53,
   "metadata": {},
   "outputs": [
    {
     "name": "stderr",
     "output_type": "stream",
     "text": [
      "<ipython-input-53-37eb2c4190f5>:2: DeprecationWarning: find_element_by_* commands are deprecated. Please use find_element() instead\n",
      "  teste1 = driver.find_element_by_xpath(element)\n"
     ]
    },
    {
     "ename": "AttributeError",
     "evalue": "'WebElement' object has no attribute 'href'",
     "output_type": "error",
     "traceback": [
      "\u001b[1;31m---------------------------------------------------------------------------\u001b[0m",
      "\u001b[1;31mAttributeError\u001b[0m                            Traceback (most recent call last)",
      "\u001b[1;32m<ipython-input-53-37eb2c4190f5>\u001b[0m in \u001b[0;36m<module>\u001b[1;34m\u001b[0m\n\u001b[0;32m      1\u001b[0m \u001b[0melement\u001b[0m \u001b[1;33m=\u001b[0m \u001b[1;34m'//h3[contains(@class, \"entry-title td-module-title\")]/a'\u001b[0m\u001b[1;33m\u001b[0m\u001b[1;33m\u001b[0m\u001b[0m\n\u001b[0;32m      2\u001b[0m \u001b[0mteste1\u001b[0m \u001b[1;33m=\u001b[0m \u001b[0mdriver\u001b[0m\u001b[1;33m.\u001b[0m\u001b[0mfind_element_by_xpath\u001b[0m\u001b[1;33m(\u001b[0m\u001b[0melement\u001b[0m\u001b[1;33m)\u001b[0m\u001b[1;33m\u001b[0m\u001b[1;33m\u001b[0m\u001b[0m\n\u001b[1;32m----> 3\u001b[1;33m \u001b[0mteste1\u001b[0m\u001b[1;33m.\u001b[0m\u001b[0mhref\u001b[0m\u001b[1;33m\u001b[0m\u001b[1;33m\u001b[0m\u001b[0m\n\u001b[0m",
      "\u001b[1;31mAttributeError\u001b[0m: 'WebElement' object has no attribute 'href'"
     ]
    }
   ],
   "source": [
    "element = '//h3[contains(@class, \"entry-title td-module-title\")]/a'\n",
    "teste1 = driver.find_element_by_xpath(element)\n",
    "teste1.href"
   ]
  },
  {
   "cell_type": "code",
   "execution_count": 62,
   "metadata": {},
   "outputs": [
    {
     "name": "stderr",
     "output_type": "stream",
     "text": [
      "<ipython-input-62-c410d52267b1>:2: DeprecationWarning: find_elements_by_* commands are deprecated. Please use find_elements() instead\n",
      "  lista_elementos = driver.find_elements_by_xpath(elemento_pesquisa)\n"
     ]
    }
   ],
   "source": [
    "elemento_pesquisa = '//h3[contains(@class, \"entry-title td-module-title\")]/a'\n",
    "lista_elementos = driver.find_elements_by_xpath(elemento_pesquisa)"
   ]
  },
  {
   "cell_type": "code",
   "execution_count": 64,
   "metadata": {},
   "outputs": [
    {
     "data": {
      "text/plain": [
       "'Pesca com bombas no Brasil, não deixe isso acontecer'"
      ]
     },
     "execution_count": 64,
     "metadata": {},
     "output_type": "execute_result"
    }
   ],
   "source": [
    "lista_elementos[0].text"
   ]
  },
  {
   "cell_type": "code",
   "execution_count": null,
   "metadata": {},
   "outputs": [],
   "source": []
  },
  {
   "cell_type": "code",
   "execution_count": 57,
   "metadata": {},
   "outputs": [
    {
     "name": "stdout",
     "output_type": "stream",
     "text": [
      "A última geleira da Venezuela está se esvaindo https://marsemfim.com.br/a-ultima-geleira-da-venezuela-esta-se-esvaindo/\n"
     ]
    },
    {
     "name": "stderr",
     "output_type": "stream",
     "text": [
      "<ipython-input-57-8abe40ceefbd>:2: DeprecationWarning: find_element_by_* commands are deprecated. Please use find_element() instead\n",
      "  teste1 = driver.find_element_by_xpath(element).text\n",
      "<ipython-input-57-8abe40ceefbd>:3: DeprecationWarning: find_element_by_* commands are deprecated. Please use find_element() instead\n",
      "  teste2 = driver.find_element_by_xpath(element).get_attribute(\"href\")\n"
     ]
    }
   ],
   "source": [
    "elemento_pesquisa = '//h3[contains(@class, \"entry-title td-module-title\")]/a'\n",
    "lista_elementos = driver.find_elements_by_xpath(elemento_pesquisa)\n",
    "    \n",
    "    \n",
    "teste1 = driver.find_elements_by_xpath(element).text\n",
    "teste2 = driver.find_element_by_xpath(element).get_attribute(\"href\")\n",
    "\n",
    "print (teste1, teste2)"
   ]
  },
  {
   "cell_type": "code",
   "execution_count": 59,
   "metadata": {},
   "outputs": [
    {
     "name": "stderr",
     "output_type": "stream",
     "text": [
      "<ipython-input-59-0fc0786b555a>:2: DeprecationWarning: find_elements_by_* commands are deprecated. Please use find_elements() instead\n",
      "  teste1 = driver.find_elements_by_xpath(element)\n"
     ]
    },
    {
     "data": {
      "text/plain": [
       "[<selenium.webdriver.remote.webelement.WebElement (session=\"687f8296845d0c847ee24e211949049d\", element=\"61d34e70-277e-4d42-9cf2-da9cbcdda000\")>,\n",
       " <selenium.webdriver.remote.webelement.WebElement (session=\"687f8296845d0c847ee24e211949049d\", element=\"96a3809b-5de4-4d7e-ad69-071ecacc0c85\")>,\n",
       " <selenium.webdriver.remote.webelement.WebElement (session=\"687f8296845d0c847ee24e211949049d\", element=\"aa028fa5-9341-4fa1-8c60-87360835dffc\")>,\n",
       " <selenium.webdriver.remote.webelement.WebElement (session=\"687f8296845d0c847ee24e211949049d\", element=\"792f086d-d022-4586-b605-a5029140b2a3\")>,\n",
       " <selenium.webdriver.remote.webelement.WebElement (session=\"687f8296845d0c847ee24e211949049d\", element=\"388a0dc8-1980-4ff3-a745-f5d91c1866f6\")>,\n",
       " <selenium.webdriver.remote.webelement.WebElement (session=\"687f8296845d0c847ee24e211949049d\", element=\"cc2d747c-15c0-4e93-9479-604b403dd344\")>,\n",
       " <selenium.webdriver.remote.webelement.WebElement (session=\"687f8296845d0c847ee24e211949049d\", element=\"2294d4dd-f62f-42a1-a97c-6355b8f59930\")>,\n",
       " <selenium.webdriver.remote.webelement.WebElement (session=\"687f8296845d0c847ee24e211949049d\", element=\"71226a30-af11-46fb-aa21-3a53df2d5e3c\")>,\n",
       " <selenium.webdriver.remote.webelement.WebElement (session=\"687f8296845d0c847ee24e211949049d\", element=\"661b4153-85b5-4e7b-8844-623094849432\")>,\n",
       " <selenium.webdriver.remote.webelement.WebElement (session=\"687f8296845d0c847ee24e211949049d\", element=\"d27526b8-74a2-48e8-9abc-1f9af5196fd2\")>,\n",
       " <selenium.webdriver.remote.webelement.WebElement (session=\"687f8296845d0c847ee24e211949049d\", element=\"e417b294-7612-4829-86dc-a27ad05c3f0a\")>,\n",
       " <selenium.webdriver.remote.webelement.WebElement (session=\"687f8296845d0c847ee24e211949049d\", element=\"59a99521-f26e-4e71-a6f6-5c9ac24a967d\")>,\n",
       " <selenium.webdriver.remote.webelement.WebElement (session=\"687f8296845d0c847ee24e211949049d\", element=\"e68ffa91-a177-4aad-b99e-a8b2336c8996\")>,\n",
       " <selenium.webdriver.remote.webelement.WebElement (session=\"687f8296845d0c847ee24e211949049d\", element=\"c0577e37-ef0b-4a08-9a71-ed1c70364888\")>,\n",
       " <selenium.webdriver.remote.webelement.WebElement (session=\"687f8296845d0c847ee24e211949049d\", element=\"2a169b75-b611-4c5a-8072-2864f1675b46\")>]"
      ]
     },
     "execution_count": 59,
     "metadata": {},
     "output_type": "execute_result"
    }
   ],
   "source": [
    "element = '//h3[contains(@class, \"entry-title td-module-title\")]/a'\n",
    "teste1 = driver.find_elements_by_xpath(element)\n",
    "teste1"
   ]
  },
  {
   "cell_type": "code",
   "execution_count": null,
   "metadata": {},
   "outputs": [],
   "source": []
  },
  {
   "cell_type": "code",
   "execution_count": null,
   "metadata": {},
   "outputs": [],
   "source": []
  },
  {
   "cell_type": "code",
   "execution_count": null,
   "metadata": {},
   "outputs": [],
   "source": [
    "element2 = '//*[@id=\"td_uid_7_61a6d8eb4afda\"]/div[1]/div[2]/div/h3/a'"
   ]
  },
  {
   "cell_type": "code",
   "execution_count": null,
   "metadata": {},
   "outputs": [],
   "source": []
  },
  {
   "cell_type": "code",
   "execution_count": null,
   "metadata": {},
   "outputs": [],
   "source": []
  }
 ],
 "metadata": {
  "kernelspec": {
   "display_name": "Python 3",
   "language": "python",
   "name": "python3"
  },
  "language_info": {
   "codemirror_mode": {
    "name": "ipython",
    "version": 3
   },
   "file_extension": ".py",
   "mimetype": "text/x-python",
   "name": "python",
   "nbconvert_exporter": "python",
   "pygments_lexer": "ipython3",
   "version": "3.8.3"
  }
 },
 "nbformat": 4,
 "nbformat_minor": 4
}
